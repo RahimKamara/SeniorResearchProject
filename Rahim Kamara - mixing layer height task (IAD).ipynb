{
 "cells": [
  {
   "cell_type": "markdown",
   "id": "f629ffec",
   "metadata": {},
   "source": [
    "# "
   ]
  },
  {
   "cell_type": "markdown",
   "id": "ce98f3e7",
   "metadata": {},
   "source": [
    "# Author: Rahim Kamara\n",
    "# Date: July 25, 2022\n",
    "# AOSC498, UMDCP"
   ]
  },
  {
   "cell_type": "markdown",
   "id": "17d191d8",
   "metadata": {},
   "source": [
    "## Importing the Libraries"
   ]
  },
  {
   "cell_type": "code",
   "execution_count": 5,
   "id": "37603e15",
   "metadata": {},
   "outputs": [],
   "source": [
    "from datetime import datetime\n",
    "import matplotlib.pyplot as plt\n",
    "import numpy as np\n",
    "import metpy.calc as mpcalc\n",
    "from metpy.units import units"
   ]
  },
  {
   "cell_type": "markdown",
   "id": "f92d2503",
   "metadata": {},
   "source": [
    "## Importing the Data"
   ]
  },
  {
   "cell_type": "markdown",
   "id": "993f8f6b",
   "metadata": {},
   "source": [
    "### June 29 2021 at 00Z"
   ]
  },
  {
   "cell_type": "code",
   "execution_count": 6,
   "id": "f135fb30",
   "metadata": {},
   "outputs": [],
   "source": [
    "date = datetime(2021, 6, 29, 0) # Year, month, day, time\n",
    "station = 'IAD' # Three letter code "
   ]
  },
  {
   "cell_type": "code",
   "execution_count": 7,
   "id": "e42ad093",
   "metadata": {},
   "outputs": [],
   "source": [
    "from siphon.simplewebservice.wyoming import WyomingUpperAir # This is a module that allows me to request data"
   ]
  },
  {
   "cell_type": "code",
   "execution_count": 8,
   "id": "fba9d911",
   "metadata": {},
   "outputs": [],
   "source": [
    "df = WyomingUpperAir.request_data(date, station)"
   ]
  },
  {
   "cell_type": "code",
   "execution_count": 9,
   "id": "bbff2dee",
   "metadata": {
    "scrolled": true
   },
   "outputs": [
    {
     "data": {
      "text/html": [
       "<div>\n",
       "<style scoped>\n",
       "    .dataframe tbody tr th:only-of-type {\n",
       "        vertical-align: middle;\n",
       "    }\n",
       "\n",
       "    .dataframe tbody tr th {\n",
       "        vertical-align: top;\n",
       "    }\n",
       "\n",
       "    .dataframe thead th {\n",
       "        text-align: right;\n",
       "    }\n",
       "</style>\n",
       "<table border=\"1\" class=\"dataframe\">\n",
       "  <thead>\n",
       "    <tr style=\"text-align: right;\">\n",
       "      <th></th>\n",
       "      <th>pressure</th>\n",
       "      <th>height</th>\n",
       "      <th>temperature</th>\n",
       "      <th>dewpoint</th>\n",
       "      <th>direction</th>\n",
       "      <th>speed</th>\n",
       "      <th>u_wind</th>\n",
       "      <th>v_wind</th>\n",
       "      <th>station</th>\n",
       "      <th>station_number</th>\n",
       "      <th>time</th>\n",
       "      <th>latitude</th>\n",
       "      <th>longitude</th>\n",
       "      <th>elevation</th>\n",
       "      <th>pw</th>\n",
       "    </tr>\n",
       "  </thead>\n",
       "  <tbody>\n",
       "    <tr>\n",
       "      <th>0</th>\n",
       "      <td>1012.0</td>\n",
       "      <td>93</td>\n",
       "      <td>32.0</td>\n",
       "      <td>21.0</td>\n",
       "      <td>165.0</td>\n",
       "      <td>6.0</td>\n",
       "      <td>-1.552914e+00</td>\n",
       "      <td>5.795555</td>\n",
       "      <td>IAD</td>\n",
       "      <td>72403</td>\n",
       "      <td>2021-06-29</td>\n",
       "      <td>38.98</td>\n",
       "      <td>-77.46</td>\n",
       "      <td>93.0</td>\n",
       "      <td>42.67</td>\n",
       "    </tr>\n",
       "    <tr>\n",
       "      <th>1</th>\n",
       "      <td>1000.0</td>\n",
       "      <td>196</td>\n",
       "      <td>30.4</td>\n",
       "      <td>19.4</td>\n",
       "      <td>170.0</td>\n",
       "      <td>8.0</td>\n",
       "      <td>-1.389185e+00</td>\n",
       "      <td>7.878462</td>\n",
       "      <td>IAD</td>\n",
       "      <td>72403</td>\n",
       "      <td>2021-06-29</td>\n",
       "      <td>38.98</td>\n",
       "      <td>-77.46</td>\n",
       "      <td>93.0</td>\n",
       "      <td>42.67</td>\n",
       "    </tr>\n",
       "    <tr>\n",
       "      <th>2</th>\n",
       "      <td>987.8</td>\n",
       "      <td>305</td>\n",
       "      <td>29.4</td>\n",
       "      <td>19.2</td>\n",
       "      <td>175.0</td>\n",
       "      <td>11.0</td>\n",
       "      <td>-9.587132e-01</td>\n",
       "      <td>10.958142</td>\n",
       "      <td>IAD</td>\n",
       "      <td>72403</td>\n",
       "      <td>2021-06-29</td>\n",
       "      <td>38.98</td>\n",
       "      <td>-77.46</td>\n",
       "      <td>93.0</td>\n",
       "      <td>42.67</td>\n",
       "    </tr>\n",
       "    <tr>\n",
       "      <th>3</th>\n",
       "      <td>954.4</td>\n",
       "      <td>610</td>\n",
       "      <td>26.6</td>\n",
       "      <td>18.6</td>\n",
       "      <td>180.0</td>\n",
       "      <td>14.0</td>\n",
       "      <td>-1.714506e-15</td>\n",
       "      <td>14.000000</td>\n",
       "      <td>IAD</td>\n",
       "      <td>72403</td>\n",
       "      <td>2021-06-29</td>\n",
       "      <td>38.98</td>\n",
       "      <td>-77.46</td>\n",
       "      <td>93.0</td>\n",
       "      <td>42.67</td>\n",
       "    </tr>\n",
       "    <tr>\n",
       "      <th>4</th>\n",
       "      <td>925.0</td>\n",
       "      <td>887</td>\n",
       "      <td>24.0</td>\n",
       "      <td>18.0</td>\n",
       "      <td>190.0</td>\n",
       "      <td>14.0</td>\n",
       "      <td>2.431074e+00</td>\n",
       "      <td>13.787309</td>\n",
       "      <td>IAD</td>\n",
       "      <td>72403</td>\n",
       "      <td>2021-06-29</td>\n",
       "      <td>38.98</td>\n",
       "      <td>-77.46</td>\n",
       "      <td>93.0</td>\n",
       "      <td>42.67</td>\n",
       "    </tr>\n",
       "    <tr>\n",
       "      <th>...</th>\n",
       "      <td>...</td>\n",
       "      <td>...</td>\n",
       "      <td>...</td>\n",
       "      <td>...</td>\n",
       "      <td>...</td>\n",
       "      <td>...</td>\n",
       "      <td>...</td>\n",
       "      <td>...</td>\n",
       "      <td>...</td>\n",
       "      <td>...</td>\n",
       "      <td>...</td>\n",
       "      <td>...</td>\n",
       "      <td>...</td>\n",
       "      <td>...</td>\n",
       "      <td>...</td>\n",
       "    </tr>\n",
       "    <tr>\n",
       "      <th>97</th>\n",
       "      <td>11.2</td>\n",
       "      <td>30785</td>\n",
       "      <td>-40.3</td>\n",
       "      <td>-82.3</td>\n",
       "      <td>55.0</td>\n",
       "      <td>28.0</td>\n",
       "      <td>-2.293626e+01</td>\n",
       "      <td>-16.060140</td>\n",
       "      <td>IAD</td>\n",
       "      <td>72403</td>\n",
       "      <td>2021-06-29</td>\n",
       "      <td>38.98</td>\n",
       "      <td>-77.46</td>\n",
       "      <td>93.0</td>\n",
       "      <td>42.67</td>\n",
       "    </tr>\n",
       "    <tr>\n",
       "      <th>98</th>\n",
       "      <td>10.1</td>\n",
       "      <td>31472</td>\n",
       "      <td>-40.3</td>\n",
       "      <td>-82.3</td>\n",
       "      <td>73.0</td>\n",
       "      <td>32.0</td>\n",
       "      <td>-3.060175e+01</td>\n",
       "      <td>-9.355895</td>\n",
       "      <td>IAD</td>\n",
       "      <td>72403</td>\n",
       "      <td>2021-06-29</td>\n",
       "      <td>38.98</td>\n",
       "      <td>-77.46</td>\n",
       "      <td>93.0</td>\n",
       "      <td>42.67</td>\n",
       "    </tr>\n",
       "    <tr>\n",
       "      <th>99</th>\n",
       "      <td>10.0</td>\n",
       "      <td>31540</td>\n",
       "      <td>-39.9</td>\n",
       "      <td>-81.9</td>\n",
       "      <td>75.0</td>\n",
       "      <td>32.0</td>\n",
       "      <td>-3.090963e+01</td>\n",
       "      <td>-8.282209</td>\n",
       "      <td>IAD</td>\n",
       "      <td>72403</td>\n",
       "      <td>2021-06-29</td>\n",
       "      <td>38.98</td>\n",
       "      <td>-77.46</td>\n",
       "      <td>93.0</td>\n",
       "      <td>42.67</td>\n",
       "    </tr>\n",
       "    <tr>\n",
       "      <th>100</th>\n",
       "      <td>9.3</td>\n",
       "      <td>32004</td>\n",
       "      <td>-36.8</td>\n",
       "      <td>-81.2</td>\n",
       "      <td>80.0</td>\n",
       "      <td>32.0</td>\n",
       "      <td>-3.151385e+01</td>\n",
       "      <td>-5.556742</td>\n",
       "      <td>IAD</td>\n",
       "      <td>72403</td>\n",
       "      <td>2021-06-29</td>\n",
       "      <td>38.98</td>\n",
       "      <td>-77.46</td>\n",
       "      <td>93.0</td>\n",
       "      <td>42.67</td>\n",
       "    </tr>\n",
       "    <tr>\n",
       "      <th>101</th>\n",
       "      <td>9.2</td>\n",
       "      <td>32114</td>\n",
       "      <td>-36.1</td>\n",
       "      <td>-81.1</td>\n",
       "      <td>NaN</td>\n",
       "      <td>NaN</td>\n",
       "      <td>NaN</td>\n",
       "      <td>NaN</td>\n",
       "      <td>IAD</td>\n",
       "      <td>72403</td>\n",
       "      <td>2021-06-29</td>\n",
       "      <td>38.98</td>\n",
       "      <td>-77.46</td>\n",
       "      <td>93.0</td>\n",
       "      <td>42.67</td>\n",
       "    </tr>\n",
       "  </tbody>\n",
       "</table>\n",
       "<p>102 rows × 15 columns</p>\n",
       "</div>"
      ],
      "text/plain": [
       "     pressure  height  temperature  dewpoint  direction  speed        u_wind  \\\n",
       "0      1012.0      93         32.0      21.0      165.0    6.0 -1.552914e+00   \n",
       "1      1000.0     196         30.4      19.4      170.0    8.0 -1.389185e+00   \n",
       "2       987.8     305         29.4      19.2      175.0   11.0 -9.587132e-01   \n",
       "3       954.4     610         26.6      18.6      180.0   14.0 -1.714506e-15   \n",
       "4       925.0     887         24.0      18.0      190.0   14.0  2.431074e+00   \n",
       "..        ...     ...          ...       ...        ...    ...           ...   \n",
       "97       11.2   30785        -40.3     -82.3       55.0   28.0 -2.293626e+01   \n",
       "98       10.1   31472        -40.3     -82.3       73.0   32.0 -3.060175e+01   \n",
       "99       10.0   31540        -39.9     -81.9       75.0   32.0 -3.090963e+01   \n",
       "100       9.3   32004        -36.8     -81.2       80.0   32.0 -3.151385e+01   \n",
       "101       9.2   32114        -36.1     -81.1        NaN    NaN           NaN   \n",
       "\n",
       "        v_wind station  station_number       time  latitude  longitude  \\\n",
       "0     5.795555     IAD           72403 2021-06-29     38.98     -77.46   \n",
       "1     7.878462     IAD           72403 2021-06-29     38.98     -77.46   \n",
       "2    10.958142     IAD           72403 2021-06-29     38.98     -77.46   \n",
       "3    14.000000     IAD           72403 2021-06-29     38.98     -77.46   \n",
       "4    13.787309     IAD           72403 2021-06-29     38.98     -77.46   \n",
       "..         ...     ...             ...        ...       ...        ...   \n",
       "97  -16.060140     IAD           72403 2021-06-29     38.98     -77.46   \n",
       "98   -9.355895     IAD           72403 2021-06-29     38.98     -77.46   \n",
       "99   -8.282209     IAD           72403 2021-06-29     38.98     -77.46   \n",
       "100  -5.556742     IAD           72403 2021-06-29     38.98     -77.46   \n",
       "101        NaN     IAD           72403 2021-06-29     38.98     -77.46   \n",
       "\n",
       "     elevation     pw  \n",
       "0         93.0  42.67  \n",
       "1         93.0  42.67  \n",
       "2         93.0  42.67  \n",
       "3         93.0  42.67  \n",
       "4         93.0  42.67  \n",
       "..         ...    ...  \n",
       "97        93.0  42.67  \n",
       "98        93.0  42.67  \n",
       "99        93.0  42.67  \n",
       "100       93.0  42.67  \n",
       "101       93.0  42.67  \n",
       "\n",
       "[102 rows x 15 columns]"
      ]
     },
     "execution_count": 9,
     "metadata": {},
     "output_type": "execute_result"
    }
   ],
   "source": [
    "df # This prints the table from the website. This is a Pandas data frame. Panda allows you to manipulate, join, and do operations on it"
   ]
  },
  {
   "cell_type": "code",
   "execution_count": 141,
   "id": "9b6d01e6",
   "metadata": {},
   "outputs": [],
   "source": [
    "# df.loc[10]"
   ]
  },
  {
   "cell_type": "code",
   "execution_count": 10,
   "id": "12d18f82",
   "metadata": {},
   "outputs": [
    {
     "data": {
      "text/plain": [
       "{'pressure': 'hPa',\n",
       " 'height': 'meter',\n",
       " 'temperature': 'degC',\n",
       " 'dewpoint': 'degC',\n",
       " 'direction': 'degrees',\n",
       " 'speed': 'knot',\n",
       " 'u_wind': 'knot',\n",
       " 'v_wind': 'knot',\n",
       " 'station': None,\n",
       " 'station_number': None,\n",
       " 'time': None,\n",
       " 'latitude': 'degrees',\n",
       " 'longitude': 'degrees',\n",
       " 'elevation': 'meter',\n",
       " 'pw': 'millimeter'}"
      ]
     },
     "execution_count": 10,
     "metadata": {},
     "output_type": "execute_result"
    }
   ],
   "source": [
    "df.units"
   ]
  },
  {
   "cell_type": "code",
   "execution_count": 14,
   "id": "1b2a4df9",
   "metadata": {},
   "outputs": [
    {
     "data": {
      "text/plain": [
       "'degC'"
      ]
     },
     "execution_count": 14,
     "metadata": {},
     "output_type": "execute_result"
    }
   ],
   "source": [
    "df.units['dewpoint'] # This example line allows us to know the units of dewpoint. It should return degC"
   ]
  },
  {
   "cell_type": "code",
   "execution_count": 15,
   "id": "76aa9f64",
   "metadata": {},
   "outputs": [
    {
     "data": {
      "text/html": [
       "<table><tbody><tr><th>Magnitude</th><td style='text-align:left;'><pre>[   93   196   305   610   887   914  1219  1440  1524  1620  1829  2134<br>  2438  2743  2751  3048  3260  3307  3353  3658  3883  4267  4281  4572<br>  4628  4877  4975  5145  5182  5970  6096  6401  7010  7223  7315  7620<br>  7680  8101  8230  8839  8856  9144  9770 10249 10668 10834 11020 12198<br> 12480 12802 14021 14159 14280 14326 14935 15240 15519 15617 16154 16360<br> 16651 16710 16764 17069 17187 17374 17678 17983 18135 18288 18593 18870<br> 19202 19507 19812 20215 20960 21024 21336 21946 22860 23165 23560 23774<br> 24210 24689 24994 25298 26518 26860 27127 27432 28042 28346 29261 29749<br> 30480 30785 31472 31540 32004 32114]</pre></td></tr><tr><th>Units</th><td style='text-align:left;'>meter</td></tr></tbody></table>"
      ],
      "text/latex": [
       "$\\begin{pmatrix}93 & 196 & 305 & 610 & 887 & 914 & 1219 & 1440 & 1524 & 1620 & 1829 & 2134 & 2438 & 2743 & 2751 & 3048 & 3260 & 3307 & 3353 & 3658 & 3883 & 4267 & 4281 & 4572 & 4628 & 4877 & 4975 & 5145 & 5182 & 5970 & 6096 & 6401 & 7010 & 7223 & 7315 & 7620 & 7680 & 8101 & 8230 & 8839 & 8856 & 9144 & 9770 & 10249 & 10668 & 10834 & 11020 & 12198 & 12480 & 12802 & 14021 & 14159 & 14280 & 14326 & 14935 & 15240 & 15519 & 15617 & 16154 & 16360 & 16651 & 16710 & 16764 & 17069 & 17187 & 17374 & 17678 & 17983 & 18135 & 18288 & 18593 & 18870 & 19202 & 19507 & 19812 & 20215 & 20960 & 21024 & 21336 & 21946 & 22860 & 23165 & 23560 & 23774 & 24210 & 24689 & 24994 & 25298 & 26518 & 26860 & 27127 & 27432 & 28042 & 28346 & 29261 & 29749 & 30480 & 30785 & 31472 & 31540 & 32004 & 32114\\end{pmatrix}\\ \\mathrm{meter}$"
      ],
      "text/plain": [
       "array([   93,   196,   305,   610,   887,   914,  1219,  1440,  1524,\n",
       "        1620,  1829,  2134,  2438,  2743,  2751,  3048,  3260,  3307,\n",
       "        3353,  3658,  3883,  4267,  4281,  4572,  4628,  4877,  4975,\n",
       "        5145,  5182,  5970,  6096,  6401,  7010,  7223,  7315,  7620,\n",
       "        7680,  8101,  8230,  8839,  8856,  9144,  9770, 10249, 10668,\n",
       "       10834, 11020, 12198, 12480, 12802, 14021, 14159, 14280, 14326,\n",
       "       14935, 15240, 15519, 15617, 16154, 16360, 16651, 16710, 16764,\n",
       "       17069, 17187, 17374, 17678, 17983, 18135, 18288, 18593, 18870,\n",
       "       19202, 19507, 19812, 20215, 20960, 21024, 21336, 21946, 22860,\n",
       "       23165, 23560, 23774, 24210, 24689, 24994, 25298, 26518, 26860,\n",
       "       27127, 27432, 28042, 28346, 29261, 29749, 30480, 30785, 31472,\n",
       "       31540, 32004, 32114]) <Unit('meter')>"
      ]
     },
     "execution_count": 15,
     "metadata": {},
     "output_type": "execute_result"
    }
   ],
   "source": [
    "h = df['height'].values * units(df.units['height']) # This line assigns the units to the values in the pandas dataframe. We will pull things into individual variables. We put '.values' at the end because I want just the array of numbers., not the whole data series or objects\n",
    "P = df['pressure'].values *units(df.units['pressure']) # This line grabs the pressure array\n",
    "T_degC = df['temperature'].values * units(df.units['temperature']) # This grabs the temperature array\n",
    "Td_degC = df['dewpoint'].values * units(df.units['dewpoint']) # This grabs the dewpoint temperature array\n",
    "u = df['u_wind'].values * units(df.units['u_wind']) # This grabs the wind x component array\n",
    "v = df['v_wind'].values * units(df.units['v_wind']) # This grabs the wind y component array\n",
    "lat = df['latitude'].values * units(df.units['latitude']) # This grabs the latitude array\n",
    "lon = df['longitude'].values * units(df.units['longitude']) # This grabs the longitude array\n",
    "hh # This prints the heights at which data was collected from the radiosonde"
   ]
  },
  {
   "cell_type": "markdown",
   "id": "intimate-attendance",
   "metadata": {},
   "source": [
    "## Converting"
   ]
  },
  {
   "cell_type": "code",
   "execution_count": 16,
   "id": "simple-dining",
   "metadata": {},
   "outputs": [],
   "source": [
    "T_kelvin = T_degC.to('kelvin') # This converts Celsius to Kelvin\n",
    "Td_kelvin = Td_degC.to('kelvin') # This converts Celsius to Kelvin"
   ]
  },
  {
   "cell_type": "code",
   "execution_count": 17,
   "id": "a80e890e",
   "metadata": {},
   "outputs": [],
   "source": [
    "Theta = mpcalc.potential_temperature(P, T_kelvin) # This line calculates the potential temperature in units of kelvin\n",
    "RH = mpcalc.relative_humidity_from_dewpoint(T_kelvin, Td_kelvin)*100 # This line calculates the Relative Humidity\n",
    "q = mpcalc.specific_humidity_from_dewpoint(P, Td_kelvin) # This line calculates the Specific Humidity\n",
    "mr = mpcalc.mixing_ratio_from_specific_humidity(q) # This line calculates the Mixing Ratio\n",
    "e = mpcalc.vapor_pressure(P, mr) # This line calculates the water vapor pressure in hPa\n",
    "#static_stability = mpcalc.static_stability(P, T_kelvin, vertical_dim=0)\n",
    "# Z = mpcalc.mixed_layer(P, h, height=None, bottom=None, depth=None, interpolate=True)\n",
    "# LCL = mpcalc.lcl(P[0], T_degC[0], Td_degC[0], max_iters=50, eps=1e-05) # This gets the LCL, also known as the base of the cloud. The calcultion uses the starting pressure value, starting temperature value, and starting dew point\n",
    "# LCL\n",
    "# lcl_pressure, lcl_temperature = mpcalc.lcl(P[0], T_degC[0], Td_degC[0])\n"
   ]
  },
  {
   "cell_type": "code",
   "execution_count": 18,
   "id": "documentary-kenya",
   "metadata": {},
   "outputs": [],
   "source": [
    "N = ((77.6)*(P/T_kelvin)).magnitude + ((3.73)*(10**5)*(e/(T_kelvin**2))).magnitude # There's a discrepancy between the units so I used '.magnitude'"
   ]
  },
  {
   "cell_type": "code",
   "execution_count": 19,
   "id": "prerequisite-tension",
   "metadata": {},
   "outputs": [],
   "source": [
    "#a = ((77.6)*(P/T_kelvin))"
   ]
  },
  {
   "cell_type": "code",
   "execution_count": 20,
   "id": "historical-parameter",
   "metadata": {},
   "outputs": [],
   "source": [
    "#b = ((3.73)*(10**5)*(e/(T_kelvin**2)))"
   ]
  },
  {
   "cell_type": "code",
   "execution_count": 21,
   "id": "identical-phone",
   "metadata": {
    "scrolled": true
   },
   "outputs": [],
   "source": [
    "#N = a.magnitude + b.magnitude"
   ]
  },
  {
   "cell_type": "markdown",
   "id": "eb0782b3",
   "metadata": {},
   "source": [
    "# Gradient coding for June 29 at 00Z"
   ]
  },
  {
   "cell_type": "code",
   "execution_count": 23,
   "id": "d23223df",
   "metadata": {},
   "outputs": [
    {
     "data": {
      "text/html": [
       "2134 meter"
      ],
      "text/latex": [
       "$2134\\ \\mathrm{meter}$"
      ],
      "text/plain": [
       "2134 <Unit('meter')>"
      ]
     },
     "execution_count": 23,
     "metadata": {},
     "output_type": "execute_result"
    }
   ],
   "source": [
    "# np.gradient takes the form numpy.gradient(f, *varargs, axis=None, edge_order=1), where *varargs specifies the spacing between two points of the array. The default is set to 1, so we get the same number of point returned \n",
    "\n",
    "gradTheta = np.gradient(Theta[0:22]) # I set the bounds from 0 meters to just over 4,000 meters. This is the function for finding the gradient. I attempeted using Metpy's gradient function, but I was getting errors\n",
    "gradTheta # This prints the gradient of the Potential Temperature array\n",
    "\n",
    "\n",
    "# Once I have the gradients, I want to find the 10 largest gradients for Potential temperature\n",
    "\n",
    "largestTheta = np.argsort(gradTheta)[-10:] # This gives us the position of the largest 10 largest gradients for the potential temperature array\n",
    "\n",
    "# I then want to find the position of those 10 largest gradients. I can use the index function ORRRRR I can just print from the previous line above which I will do I think\n",
    "\n",
    "largestTheta # This prints the positions of the largest 10 largest gradients for the potential temperature array\n",
    "\n",
    "# The Theta[0:22] range of atmosphere positions are 15, 9, 13, 18, 20, 21, 19, 10, 12, 11\n",
    "\n",
    "#-----------------------------------------------------------------------------\n",
    "\n",
    "gradRH = np.gradient(RH[0:22]) # Bounds are set from 0 meters to just over 4,000 meters. This is the function for finding the gradient.\n",
    "gradRH # This prints the gradient of the Relative Humidity array\n",
    "\n",
    "smallestRH = np.argsort(gradRH)[:10] # This sorts the Relative humidity gradient array from least to greatest and then picks the 10 smallest gradients of the array\n",
    "smallestRH # This line returns the positions of the 10 smallest gradients, or the first 10 gradients\n",
    "\n",
    "# The RH[0:22] range of atmosphere positions are 19, 18, 11, 10, 12, 9, 13, 8, 0, 14\n",
    "\n",
    "#-----------------------------------------------------------------------------\n",
    "\n",
    "gradq = np.gradient(q[0:22]) # Bounds are set from 0 meters to just over 4,000 meters. This is the function for finding the gradient.\n",
    "gradq # This prints the gradient of the Specific Humidity array\n",
    "\n",
    "\n",
    "smallestq = np.argsort(gradq)[:10] # This sorts the Specific humidity gradient array from least to greatest and then picks the 10 smallest gradients of the array\n",
    "smallestq # This line returns the positions of the 10 smallest gradients, or the first 10 gradients\n",
    "\n",
    "# The q[0:22] range of atmosphere positions are 19, 0, 11, 10, 12, 18, 9, 1, 8, 13\n",
    "\n",
    "#-----------------------------------------------------------------------------\n",
    "\n",
    "gradN = np.gradient(N[0:22]) # Bounds are set from 0 meters to just over 4,000 meters. This is the function for finding the gradient.\n",
    "gradN # This prints the gradient of the Refractivity array\n",
    "\n",
    "smallestN = np.argsort(gradN)[:10] # This sorts the Refractivity gradient array from least to greatest and then picks the 10 smallest gradients of the array\n",
    "smallestN # This line returns the positions of the 10 smallest gradients, or the first 10 gradients\n",
    "\n",
    "# The N[0:22] range of atmosphere positions are 11, 10, 12, 19, 0, 9, 6, 18, 15, 3\n",
    "\n",
    "#-----------------------------------------------------------------------------\n",
    "\n",
    "# I then want to print the height where at least three parameters had the same height when going in descending \n",
    "# order for potential temperature and ascending order for relative humidity, specific humidity and refractivity, \n",
    "# as that height is said to be the mixing layer height\n",
    "\n",
    "#h[]"
   ]
  },
  {
   "cell_type": "markdown",
   "id": "3376d027",
   "metadata": {},
   "source": [
    "\n",
    "## Gradient Richardson Number (GRN). Now that I have the Gradients and Height, use that instead of plotting the GRN because I am not entirely sure if I could even do unit conversion"
   ]
  },
  {
   "cell_type": "code",
   "execution_count": 153,
   "id": "b4f8d4c6",
   "metadata": {},
   "outputs": [
    {
     "data": {
      "text/html": [
       "<table><tbody><tr><th>Magnitude</th><td style='text-align:left;'><pre>[1891.7236983731138 1891.7236983731138 1891.7236983731138<br> 1891.7236983731138 1891.7236983731138 1891.7236983731138<br> 1891.7236983731138 1891.7236983731138 1891.7236983731138<br> 1891.7236983731138 1891.7236983731138 1891.7236983731138<br> 1891.7236983731138 1891.7236983731138 1891.7236983731138<br> 1891.7236983731138 1891.7236983731138 1891.7236983731138<br> 1891.7236983731138 1891.7236983731138 1891.7236983731138<br> 1891.7236983731138 1891.7236983731138 1891.7236983731138<br> 1891.7236983731138 1891.7236983731138 1891.7236983731138<br> 1891.7236983731138 1891.7236983731138 1891.7236983731138<br> 1891.7236983731138 1891.7236983731138 1891.7236983731138<br> 1891.7236983731138 1891.7236983731138 1891.7236983731138<br> 1891.7236983731138 1891.7236983731138 1891.7236983731138<br> 1891.7236983731138 1891.7236983731138 1891.7236983731138<br> 1891.7236983731138 1891.7236983731138 1891.7236983731138<br> 1891.7236983731138 1891.7236983731138 1891.7236983731138<br> 1891.7236983731138 1891.7236983731138 1891.7236983731138<br> 1891.7236983731138 1891.7236983731138 1891.7236983731138<br> 1891.7236983731138 1891.7236983731138 1891.7236983731138<br> 1891.7236983731138 1891.7236983731138 1891.7236983731138<br> 1891.7236983731138 1891.7236983731138 1891.7236983731138<br> 1891.7236983731138 1891.7236983731138 1891.7236983731138<br> 1891.7236983731138 1891.7236983731138 1891.7236983731138<br> 1891.7236983731138 1891.7236983731138 1891.7236983731138<br> 1891.7236983731138 1891.7236983731138 1891.7236983731138<br> 1891.7236983731138 1891.7236983731138 1891.7236983731138<br> 1891.7236983731138 1891.7236983731138 1891.7236983731138<br> 1891.7236983731138 1891.7236983731138 1891.7236983731138<br> 1891.7236983731138 1891.7236983731138 1891.7236983731138<br> 1891.7236983731138 1891.7236983731138 1891.7236983731138<br> 1891.7236983731138 1891.7236983731138 1891.7236983731138<br> 1891.7236983731138 1891.7236983731138 1891.7236983731138<br> 1891.7236983731138 1891.7236983731138 1891.7236983731138<br> 1891.7236983731138 1891.7236983731138 1891.7236983731138]</pre></td></tr><tr><th>Units</th><td style='text-align:left;'>meter</td></tr></tbody></table>"
      ],
      "text/latex": [
       "$\\begin{pmatrix}1891.7236983731138 & 1891.7236983731138 & 1891.7236983731138 & 1891.7236983731138 & 1891.7236983731138 & 1891.7236983731138 & 1891.7236983731138 & 1891.7236983731138 & 1891.7236983731138 & 1891.7236983731138 & 1891.7236983731138 & 1891.7236983731138 & 1891.7236983731138 & 1891.7236983731138 & 1891.7236983731138 & 1891.7236983731138 & 1891.7236983731138 & 1891.7236983731138 & 1891.7236983731138 & 1891.7236983731138 & 1891.7236983731138 & 1891.7236983731138 & 1891.7236983731138 & 1891.7236983731138 & 1891.7236983731138 & 1891.7236983731138 & 1891.7236983731138 & 1891.7236983731138 & 1891.7236983731138 & 1891.7236983731138 & 1891.7236983731138 & 1891.7236983731138 & 1891.7236983731138 & 1891.7236983731138 & 1891.7236983731138 & 1891.7236983731138 & 1891.7236983731138 & 1891.7236983731138 & 1891.7236983731138 & 1891.7236983731138 & 1891.7236983731138 & 1891.7236983731138 & 1891.7236983731138 & 1891.7236983731138 & 1891.7236983731138 & 1891.7236983731138 & 1891.7236983731138 & 1891.7236983731138 & 1891.7236983731138 & 1891.7236983731138 & 1891.7236983731138 & 1891.7236983731138 & 1891.7236983731138 & 1891.7236983731138 & 1891.7236983731138 & 1891.7236983731138 & 1891.7236983731138 & 1891.7236983731138 & 1891.7236983731138 & 1891.7236983731138 & 1891.7236983731138 & 1891.7236983731138 & 1891.7236983731138 & 1891.7236983731138 & 1891.7236983731138 & 1891.7236983731138 & 1891.7236983731138 & 1891.7236983731138 & 1891.7236983731138 & 1891.7236983731138 & 1891.7236983731138 & 1891.7236983731138 & 1891.7236983731138 & 1891.7236983731138 & 1891.7236983731138 & 1891.7236983731138 & 1891.7236983731138 & 1891.7236983731138 & 1891.7236983731138 & 1891.7236983731138 & 1891.7236983731138 & 1891.7236983731138 & 1891.7236983731138 & 1891.7236983731138 & 1891.7236983731138 & 1891.7236983731138 & 1891.7236983731138 & 1891.7236983731138 & 1891.7236983731138 & 1891.7236983731138 & 1891.7236983731138 & 1891.7236983731138 & 1891.7236983731138 & 1891.7236983731138 & 1891.7236983731138 & 1891.7236983731138 & 1891.7236983731138 & 1891.7236983731138 & 1891.7236983731138 & 1891.7236983731138 & 1891.7236983731138 & 1891.7236983731138\\end{pmatrix}\\ \\mathrm{meter}$"
      ],
      "text/plain": [
       "array([1891.72369837, 1891.72369837, 1891.72369837, 1891.72369837,\n",
       "       1891.72369837, 1891.72369837, 1891.72369837, 1891.72369837,\n",
       "       1891.72369837, 1891.72369837, 1891.72369837, 1891.72369837,\n",
       "       1891.72369837, 1891.72369837, 1891.72369837, 1891.72369837,\n",
       "       1891.72369837, 1891.72369837, 1891.72369837, 1891.72369837,\n",
       "       1891.72369837, 1891.72369837, 1891.72369837, 1891.72369837,\n",
       "       1891.72369837, 1891.72369837, 1891.72369837, 1891.72369837,\n",
       "       1891.72369837, 1891.72369837, 1891.72369837, 1891.72369837,\n",
       "       1891.72369837, 1891.72369837, 1891.72369837, 1891.72369837,\n",
       "       1891.72369837, 1891.72369837, 1891.72369837, 1891.72369837,\n",
       "       1891.72369837, 1891.72369837, 1891.72369837, 1891.72369837,\n",
       "       1891.72369837, 1891.72369837, 1891.72369837, 1891.72369837,\n",
       "       1891.72369837, 1891.72369837, 1891.72369837, 1891.72369837,\n",
       "       1891.72369837, 1891.72369837, 1891.72369837, 1891.72369837,\n",
       "       1891.72369837, 1891.72369837, 1891.72369837, 1891.72369837,\n",
       "       1891.72369837, 1891.72369837, 1891.72369837, 1891.72369837,\n",
       "       1891.72369837, 1891.72369837, 1891.72369837, 1891.72369837,\n",
       "       1891.72369837, 1891.72369837, 1891.72369837, 1891.72369837,\n",
       "       1891.72369837, 1891.72369837, 1891.72369837, 1891.72369837,\n",
       "       1891.72369837, 1891.72369837, 1891.72369837, 1891.72369837,\n",
       "       1891.72369837, 1891.72369837, 1891.72369837, 1891.72369837,\n",
       "       1891.72369837, 1891.72369837, 1891.72369837, 1891.72369837,\n",
       "       1891.72369837, 1891.72369837, 1891.72369837, 1891.72369837,\n",
       "       1891.72369837, 1891.72369837, 1891.72369837, 1891.72369837,\n",
       "       1891.72369837, 1891.72369837, 1891.72369837, 1891.72369837,\n",
       "       1891.72369837, 1891.72369837]) <Unit('meter')>"
      ]
     },
     "execution_count": 153,
     "metadata": {},
     "output_type": "execute_result"
    }
   ],
   "source": [
    "GRN = mpcalc.gradient_richardson_number(h, Theta, u, v, vertical_dim=0) # This line gets the gradient values\n",
    "GRN = GRN[np.logical_not(np.isnan(GRN))] # This line removes the values with Nan\n",
    "\n",
    "GRN = np.amax(GRN) # This finds the max value of the Gradiant Richardson number\n",
    "GRN # This line prints the value\n",
    "\n",
    "GRN = np.ones(len(Theta))*GRN # This line puts the maximum GRN value into an array the length of theta\n",
    "GRN = GRN * (units.second * units.second * units.knot * units.knot) / units.meter\n",
    "#GRN_largest = np.argsort(GRN)[-10:]\n",
    "#GRN_largest\n",
    "GRN"
   ]
  },
  {
   "cell_type": "markdown",
   "id": "55c33a92",
   "metadata": {},
   "source": [
    "## Plotting for June 29, 2021 at 00Z"
   ]
  },
  {
   "cell_type": "code",
   "execution_count": 35,
   "id": "c9b2f725",
   "metadata": {},
   "outputs": [
    {
     "data": {
      "image/png": "[encoded data removed]",
      "text/plain": [
       "<Figure size 432x288 with 1 Axes>"
      ]
     },
     "metadata": {
      "needs_background": "light"
     },
     "output_type": "display_data"
    }
   ],
   "source": [
    "length = np.ones(len(Theta))*Theta\n",
    "\n",
    "plt.plot(Theta,h, c=\"b\", label=\"Potential Temperature\")  ##Always after \"plt.plot\" is the x and y axis. So in this case it is Potential temperature (theta) and height data. Next, I change the color by using \"c=\". I then labeled the line using the \"label= \".\n",
    "plt.plot(length, GRN, color='black', label='Mixing Layer Height')\n",
    "\n",
    "\n",
    "#plt.plot()\n",
    "#plt.axhline(GRN, color='black')\n",
    "\n",
    "plt.xlabel('Theta (K)')\n",
    "plt.xlim(np.amin(Theta),316)\n",
    "plt.ylabel('Height (m)')\n",
    "plt.ylim(0,4000)\n",
    "\n",
    "\n",
    "plt.title('Potential Temperature versus Height\\nSterling, VA - June 29, 2021 at 0 UTC')\n",
    "plt.legend(loc=0) \n",
    "plt.grid(True) \n",
    "plt.savefig(\"0629202100ZPT.png\")\n",
    "\n"
   ]
  },
  {
   "cell_type": "code",
   "execution_count": null,
   "id": "eaad733e",
   "metadata": {},
   "outputs": [],
   "source": [
    "GRN = mpcalc.gradient_richardson_number(h, Theta, u, v, vertical_dim=0) # This line gets the gradient values\n",
    "GRN = GRN[np.logical_not(np.isnan(GRN))] # This line removes the values with Nan\n",
    "\n",
    "GRN = np.amax(GRN) # This finds the max value of the Gradiant Richardson number\n",
    "GRN # This line prints the value\n",
    "\n",
    "GRN = np.ones(len(Theta))*GRN # This line puts the maximum GRN value into an array the length of theta\n",
    "GRN = GRN * (units.second * units.second * units.knot * units.knot) / units.meter\n",
    "GRN\n",
    "\n",
    "length = np.ones(len(RH))*RH\n",
    "\n",
    "plt.plot(RH,h, c=\"red\", label=\"RH\")  ##Always after \"plt.plot\" is the x and y axis. So in this case it is Relative Humidity and height data. Next, I change the color by using \"c=\". I then labeled the line using the \"label= \".\n",
    "plt.plot(length, GRN, color='black', label='Mixing Layer height')\n",
    "\n",
    "plt.xlabel('Relative Humidity (%)')\n",
    "plt.xlim(40,np.amax(RH))\n",
    "plt.ylabel('Height (m)')\n",
    "plt.ylim(0,4000)\n",
    "\n",
    "\n",
    "plt.legend(loc=0) \n",
    "plt.title('Relative Humidity versus Height\\nSterling, VA - June 29, 2021 at 0 UTC')\n",
    "plt.grid(True) \n",
    "plt.savefig(\"0629202100ZRH.png\")"
   ]
  },
  {
   "cell_type": "code",
   "execution_count": null,
   "id": "42eba344",
   "metadata": {},
   "outputs": [],
   "source": [
    "GRN = mpcalc.gradient_richardson_number(h, Theta, u, v, vertical_dim=0) # This line gets the gradient values\n",
    "GRN = GRN[np.logical_not(np.isnan(GRN))] # This line removes the values with Nan\n",
    "\n",
    "GRN = np.amax(GRN) # This finds the max value of the Gradiant Richardson number\n",
    "GRN # This line prints the value\n",
    "\n",
    "GRN = np.ones(len(q))*GRN # This line puts the maximum GRN value into an array the length of theta\n",
    "GRN = GRN * (units.second * units.second * units.knot * units.knot) / units.meter\n",
    "GRN\n",
    "\n",
    "length = np.ones(len(q))*q\n",
    "\n",
    "plt.plot(q,h, c=\"green\", label='Specific Humidity')  ##Always after \"plt.plot\" is the x and y axis. So in this case it is Specific Humidity (q) and height data. Next, I change the color by using \"c=\". I then labeled the line using the \"label= \".\n",
    "plt.plot(length, GRN, color='black', label='Mixing Layer Height')\n",
    "\n",
    "\n",
    "plt.xlabel('q (g/kg)')\n",
    "plt.xlim(0.003,np.amax(q))\n",
    "plt.ylabel('Height (m)')\n",
    "plt.ylim(0,4000)\n",
    "\n",
    "plt.legend(loc=0)\n",
    "plt.title('Specific Humidity versus Height\\nSterling, VA - June 29, 2021 at 0 UTC')\n",
    "plt.grid(True) \n",
    "plt.savefig(\"0629202100ZSH.png\")"
   ]
  },
  {
   "cell_type": "code",
   "execution_count": 17,
   "id": "47fa0373",
   "metadata": {},
   "outputs": [
    {
     "data": {
      "image/png": "[encoded data removed]",
      "text/plain": [
       "<Figure size 432x288 with 1 Axes>"
      ]
     },
     "metadata": {
      "needs_background": "light"
     },
     "output_type": "display_data"
    }
   ],
   "source": [
    "GRN = mpcalc.gradient_richardson_number(h, Theta, u, v, vertical_dim=0) # This line gets the gradient values\n",
    "GRN = GRN[np.logical_not(np.isnan(GRN))] # This line removes the values with Nan\n",
    "\n",
    "GRN = np.amax(GRN) # This finds the max value of the Gradiant Richardson number\n",
    "GRN # This line prints the value\n",
    "\n",
    "GRN = np.ones(len(N))*GRN # This line puts the maximum GRN value into an array the length of theta\n",
    "GRN = GRN * (units.second * units.second * units.knot * units.knot) / units.meter\n",
    "GRN\n",
    "\n",
    "length = np.ones(len(N))*N\n",
    "\n",
    "plt.plot(N,h, c=\"brown\", label='Refractivity')  ##Always after \"plt.plot\" is the x and y axis. So in this case it is Refractivity (N) and height data. Next, I change the color by using \"c=\". I then labeled the line using the \"label= \".\n",
    "plt.plot(length, GRN, color='black', label='Mixing Layer Height')\n",
    "\n",
    "plt.xlabel('N')\n",
    "plt.xlim(190,np.amax(N))\n",
    "plt.ylabel('Height (m)')\n",
    "plt.ylim(0,4000)\n",
    "\n",
    "plt.legend(loc=0)\n",
    "plt.title('Refractivity versus Height\\nSterling, VA - June 29, 2021 at 0 UTC')\n",
    "plt.grid(True) \n",
    "plt.savefig(\"0629202100ZR.png\")"
   ]
  },
  {
   "cell_type": "markdown",
   "id": "260eb311",
   "metadata": {},
   "source": [
    "## Importing the Data"
   ]
  },
  {
   "cell_type": "markdown",
   "id": "a03e7e79",
   "metadata": {},
   "source": [
    "### June 29 2021 at 12Z"
   ]
  },
  {
   "cell_type": "code",
   "execution_count": 30,
   "id": "3001b590",
   "metadata": {},
   "outputs": [],
   "source": [
    "date29AT12Z = datetime(2021, 6, 29, 12) # Year, month, day, time\n",
    "station = 'IAD' # Three letter code "
   ]
  },
  {
   "cell_type": "code",
   "execution_count": 31,
   "id": "251bbee9",
   "metadata": {},
   "outputs": [],
   "source": [
    "df1 = WyomingUpperAir.request_data(date29AT12Z, station)"
   ]
  },
  {
   "cell_type": "code",
   "execution_count": 32,
   "id": "0ce5297e",
   "metadata": {
    "scrolled": false
   },
   "outputs": [
    {
     "data": {
      "text/html": [
       "<div>\n",
       "<style scoped>\n",
       "    .dataframe tbody tr th:only-of-type {\n",
       "        vertical-align: middle;\n",
       "    }\n",
       "\n",
       "    .dataframe tbody tr th {\n",
       "        vertical-align: top;\n",
       "    }\n",
       "\n",
       "    .dataframe thead th {\n",
       "        text-align: right;\n",
       "    }\n",
       "</style>\n",
       "<table border=\"1\" class=\"dataframe\">\n",
       "  <thead>\n",
       "    <tr style=\"text-align: right;\">\n",
       "      <th></th>\n",
       "      <th>pressure</th>\n",
       "      <th>height</th>\n",
       "      <th>temperature</th>\n",
       "      <th>dewpoint</th>\n",
       "      <th>direction</th>\n",
       "      <th>speed</th>\n",
       "      <th>u_wind</th>\n",
       "      <th>v_wind</th>\n",
       "      <th>station</th>\n",
       "      <th>station_number</th>\n",
       "      <th>time</th>\n",
       "      <th>latitude</th>\n",
       "      <th>longitude</th>\n",
       "      <th>elevation</th>\n",
       "      <th>pw</th>\n",
       "    </tr>\n",
       "  </thead>\n",
       "  <tbody>\n",
       "    <tr>\n",
       "      <th>0</th>\n",
       "      <td>1014.0</td>\n",
       "      <td>93</td>\n",
       "      <td>23.2</td>\n",
       "      <td>19.8</td>\n",
       "      <td>170.0</td>\n",
       "      <td>6.0</td>\n",
       "      <td>-1.041889</td>\n",
       "      <td>5.908847</td>\n",
       "      <td>IAD</td>\n",
       "      <td>72403</td>\n",
       "      <td>2021-06-29 12:00:00</td>\n",
       "      <td>38.98</td>\n",
       "      <td>-77.46</td>\n",
       "      <td>93.0</td>\n",
       "      <td>32.26</td>\n",
       "    </tr>\n",
       "    <tr>\n",
       "      <th>1</th>\n",
       "      <td>1000.0</td>\n",
       "      <td>213</td>\n",
       "      <td>22.6</td>\n",
       "      <td>19.6</td>\n",
       "      <td>195.0</td>\n",
       "      <td>7.0</td>\n",
       "      <td>1.811733</td>\n",
       "      <td>6.761481</td>\n",
       "      <td>IAD</td>\n",
       "      <td>72403</td>\n",
       "      <td>2021-06-29 12:00:00</td>\n",
       "      <td>38.98</td>\n",
       "      <td>-77.46</td>\n",
       "      <td>93.0</td>\n",
       "      <td>32.26</td>\n",
       "    </tr>\n",
       "    <tr>\n",
       "      <th>2</th>\n",
       "      <td>998.0</td>\n",
       "      <td>230</td>\n",
       "      <td>22.4</td>\n",
       "      <td>19.5</td>\n",
       "      <td>198.0</td>\n",
       "      <td>7.0</td>\n",
       "      <td>2.163119</td>\n",
       "      <td>6.657396</td>\n",
       "      <td>IAD</td>\n",
       "      <td>72403</td>\n",
       "      <td>2021-06-29 12:00:00</td>\n",
       "      <td>38.98</td>\n",
       "      <td>-77.46</td>\n",
       "      <td>93.0</td>\n",
       "      <td>32.26</td>\n",
       "    </tr>\n",
       "    <tr>\n",
       "      <th>3</th>\n",
       "      <td>991.0</td>\n",
       "      <td>292</td>\n",
       "      <td>22.6</td>\n",
       "      <td>19.3</td>\n",
       "      <td>208.0</td>\n",
       "      <td>9.0</td>\n",
       "      <td>4.225244</td>\n",
       "      <td>7.946528</td>\n",
       "      <td>IAD</td>\n",
       "      <td>72403</td>\n",
       "      <td>2021-06-29 12:00:00</td>\n",
       "      <td>38.98</td>\n",
       "      <td>-77.46</td>\n",
       "      <td>93.0</td>\n",
       "      <td>32.26</td>\n",
       "    </tr>\n",
       "    <tr>\n",
       "      <th>4</th>\n",
       "      <td>989.5</td>\n",
       "      <td>305</td>\n",
       "      <td>23.3</td>\n",
       "      <td>19.1</td>\n",
       "      <td>210.0</td>\n",
       "      <td>9.0</td>\n",
       "      <td>4.500000</td>\n",
       "      <td>7.794229</td>\n",
       "      <td>IAD</td>\n",
       "      <td>72403</td>\n",
       "      <td>2021-06-29 12:00:00</td>\n",
       "      <td>38.98</td>\n",
       "      <td>-77.46</td>\n",
       "      <td>93.0</td>\n",
       "      <td>32.26</td>\n",
       "    </tr>\n",
       "    <tr>\n",
       "      <th>...</th>\n",
       "      <td>...</td>\n",
       "      <td>...</td>\n",
       "      <td>...</td>\n",
       "      <td>...</td>\n",
       "      <td>...</td>\n",
       "      <td>...</td>\n",
       "      <td>...</td>\n",
       "      <td>...</td>\n",
       "      <td>...</td>\n",
       "      <td>...</td>\n",
       "      <td>...</td>\n",
       "      <td>...</td>\n",
       "      <td>...</td>\n",
       "      <td>...</td>\n",
       "      <td>...</td>\n",
       "    </tr>\n",
       "    <tr>\n",
       "      <th>95</th>\n",
       "      <td>18.3</td>\n",
       "      <td>27432</td>\n",
       "      <td>-45.9</td>\n",
       "      <td>-82.2</td>\n",
       "      <td>95.0</td>\n",
       "      <td>21.0</td>\n",
       "      <td>-20.920089</td>\n",
       "      <td>1.830271</td>\n",
       "      <td>IAD</td>\n",
       "      <td>72403</td>\n",
       "      <td>2021-06-29 12:00:00</td>\n",
       "      <td>38.98</td>\n",
       "      <td>-77.46</td>\n",
       "      <td>93.0</td>\n",
       "      <td>32.26</td>\n",
       "    </tr>\n",
       "    <tr>\n",
       "      <th>96</th>\n",
       "      <td>17.4</td>\n",
       "      <td>27753</td>\n",
       "      <td>-44.7</td>\n",
       "      <td>-81.7</td>\n",
       "      <td>96.0</td>\n",
       "      <td>22.0</td>\n",
       "      <td>-21.879482</td>\n",
       "      <td>2.299626</td>\n",
       "      <td>IAD</td>\n",
       "      <td>72403</td>\n",
       "      <td>2021-06-29 12:00:00</td>\n",
       "      <td>38.98</td>\n",
       "      <td>-77.46</td>\n",
       "      <td>93.0</td>\n",
       "      <td>32.26</td>\n",
       "    </tr>\n",
       "    <tr>\n",
       "      <th>97</th>\n",
       "      <td>11.6</td>\n",
       "      <td>30480</td>\n",
       "      <td>-41.0</td>\n",
       "      <td>-79.5</td>\n",
       "      <td>105.0</td>\n",
       "      <td>27.0</td>\n",
       "      <td>-26.079997</td>\n",
       "      <td>6.988114</td>\n",
       "      <td>IAD</td>\n",
       "      <td>72403</td>\n",
       "      <td>2021-06-29 12:00:00</td>\n",
       "      <td>38.98</td>\n",
       "      <td>-77.46</td>\n",
       "      <td>93.0</td>\n",
       "      <td>32.26</td>\n",
       "    </tr>\n",
       "    <tr>\n",
       "      <th>98</th>\n",
       "      <td>10.0</td>\n",
       "      <td>31490</td>\n",
       "      <td>-39.7</td>\n",
       "      <td>-78.7</td>\n",
       "      <td>105.0</td>\n",
       "      <td>21.0</td>\n",
       "      <td>-20.284442</td>\n",
       "      <td>5.435200</td>\n",
       "      <td>IAD</td>\n",
       "      <td>72403</td>\n",
       "      <td>2021-06-29 12:00:00</td>\n",
       "      <td>38.98</td>\n",
       "      <td>-77.46</td>\n",
       "      <td>93.0</td>\n",
       "      <td>32.26</td>\n",
       "    </tr>\n",
       "    <tr>\n",
       "      <th>99</th>\n",
       "      <td>7.9</td>\n",
       "      <td>33112</td>\n",
       "      <td>-36.5</td>\n",
       "      <td>-77.5</td>\n",
       "      <td>NaN</td>\n",
       "      <td>NaN</td>\n",
       "      <td>NaN</td>\n",
       "      <td>NaN</td>\n",
       "      <td>IAD</td>\n",
       "      <td>72403</td>\n",
       "      <td>2021-06-29 12:00:00</td>\n",
       "      <td>38.98</td>\n",
       "      <td>-77.46</td>\n",
       "      <td>93.0</td>\n",
       "      <td>32.26</td>\n",
       "    </tr>\n",
       "  </tbody>\n",
       "</table>\n",
       "<p>100 rows × 15 columns</p>\n",
       "</div>"
      ],
      "text/plain": [
       "    pressure  height  temperature  dewpoint  direction  speed     u_wind  \\\n",
       "0     1014.0      93         23.2      19.8      170.0    6.0  -1.041889   \n",
       "1     1000.0     213         22.6      19.6      195.0    7.0   1.811733   \n",
       "2      998.0     230         22.4      19.5      198.0    7.0   2.163119   \n",
       "3      991.0     292         22.6      19.3      208.0    9.0   4.225244   \n",
       "4      989.5     305         23.3      19.1      210.0    9.0   4.500000   \n",
       "..       ...     ...          ...       ...        ...    ...        ...   \n",
       "95      18.3   27432        -45.9     -82.2       95.0   21.0 -20.920089   \n",
       "96      17.4   27753        -44.7     -81.7       96.0   22.0 -21.879482   \n",
       "97      11.6   30480        -41.0     -79.5      105.0   27.0 -26.079997   \n",
       "98      10.0   31490        -39.7     -78.7      105.0   21.0 -20.284442   \n",
       "99       7.9   33112        -36.5     -77.5        NaN    NaN        NaN   \n",
       "\n",
       "      v_wind station  station_number                time  latitude  longitude  \\\n",
       "0   5.908847     IAD           72403 2021-06-29 12:00:00     38.98     -77.46   \n",
       "1   6.761481     IAD           72403 2021-06-29 12:00:00     38.98     -77.46   \n",
       "2   6.657396     IAD           72403 2021-06-29 12:00:00     38.98     -77.46   \n",
       "3   7.946528     IAD           72403 2021-06-29 12:00:00     38.98     -77.46   \n",
       "4   7.794229     IAD           72403 2021-06-29 12:00:00     38.98     -77.46   \n",
       "..       ...     ...             ...                 ...       ...        ...   \n",
       "95  1.830271     IAD           72403 2021-06-29 12:00:00     38.98     -77.46   \n",
       "96  2.299626     IAD           72403 2021-06-29 12:00:00     38.98     -77.46   \n",
       "97  6.988114     IAD           72403 2021-06-29 12:00:00     38.98     -77.46   \n",
       "98  5.435200     IAD           72403 2021-06-29 12:00:00     38.98     -77.46   \n",
       "99       NaN     IAD           72403 2021-06-29 12:00:00     38.98     -77.46   \n",
       "\n",
       "    elevation     pw  \n",
       "0        93.0  32.26  \n",
       "1        93.0  32.26  \n",
       "2        93.0  32.26  \n",
       "3        93.0  32.26  \n",
       "4        93.0  32.26  \n",
       "..        ...    ...  \n",
       "95       93.0  32.26  \n",
       "96       93.0  32.26  \n",
       "97       93.0  32.26  \n",
       "98       93.0  32.26  \n",
       "99       93.0  32.26  \n",
       "\n",
       "[100 rows x 15 columns]"
      ]
     },
     "execution_count": 32,
     "metadata": {},
     "output_type": "execute_result"
    }
   ],
   "source": [
    "df1 # This prints the table from the website. This is a Pandas data frame. Panda allows you to manipulate, join, and do operations on it"
   ]
  },
  {
   "cell_type": "code",
   "execution_count": 33,
   "id": "25a0ec9b",
   "metadata": {},
   "outputs": [
    {
     "data": {
      "text/html": [
       "<table><tbody><tr><th>Magnitude</th><td style='text-align:left;'><pre>[   93   213   230   292   305   345   390   610   860   898   914  1219<br>  1524  1631  1651  1829  2134  2159  2438  2743  3048  3269  3658  3962<br>  4133  4267  4572  4877  5791  5970  6096  6706  6765  7315  7620  7670<br>  8128  8230  8694  8839  9144  9449  9727  9750 10668 11000 11278 11329<br> 12271 12460 13083 13685 13716 14230 14630 14935 15240 15474 15523 15545<br> 15850 16098 16154 16459 16619 16680 17069 17214 17374 17678 17983 18192<br> 18288 18840 18884 18898 20317 20726 20940 21336 21641 22222 22776 22860<br> 23470 23774 24079 24190 24689 24994 25167 25298 25665 25908 26830 27432<br> 27753 30480 31490 33112]</pre></td></tr><tr><th>Units</th><td style='text-align:left;'>meter</td></tr></tbody></table>"
      ],
      "text/latex": [
       "$\\begin{pmatrix}93 & 213 & 230 & 292 & 305 & 345 & 390 & 610 & 860 & 898 & 914 & 1219 & 1524 & 1631 & 1651 & 1829 & 2134 & 2159 & 2438 & 2743 & 3048 & 3269 & 3658 & 3962 & 4133 & 4267 & 4572 & 4877 & 5791 & 5970 & 6096 & 6706 & 6765 & 7315 & 7620 & 7670 & 8128 & 8230 & 8694 & 8839 & 9144 & 9449 & 9727 & 9750 & 10668 & 11000 & 11278 & 11329 & 12271 & 12460 & 13083 & 13685 & 13716 & 14230 & 14630 & 14935 & 15240 & 15474 & 15523 & 15545 & 15850 & 16098 & 16154 & 16459 & 16619 & 16680 & 17069 & 17214 & 17374 & 17678 & 17983 & 18192 & 18288 & 18840 & 18884 & 18898 & 20317 & 20726 & 20940 & 21336 & 21641 & 22222 & 22776 & 22860 & 23470 & 23774 & 24079 & 24190 & 24689 & 24994 & 25167 & 25298 & 25665 & 25908 & 26830 & 27432 & 27753 & 30480 & 31490 & 33112\\end{pmatrix}\\ \\mathrm{meter}$"
      ],
      "text/plain": [
       "array([   93,   213,   230,   292,   305,   345,   390,   610,   860,\n",
       "         898,   914,  1219,  1524,  1631,  1651,  1829,  2134,  2159,\n",
       "        2438,  2743,  3048,  3269,  3658,  3962,  4133,  4267,  4572,\n",
       "        4877,  5791,  5970,  6096,  6706,  6765,  7315,  7620,  7670,\n",
       "        8128,  8230,  8694,  8839,  9144,  9449,  9727,  9750, 10668,\n",
       "       11000, 11278, 11329, 12271, 12460, 13083, 13685, 13716, 14230,\n",
       "       14630, 14935, 15240, 15474, 15523, 15545, 15850, 16098, 16154,\n",
       "       16459, 16619, 16680, 17069, 17214, 17374, 17678, 17983, 18192,\n",
       "       18288, 18840, 18884, 18898, 20317, 20726, 20940, 21336, 21641,\n",
       "       22222, 22776, 22860, 23470, 23774, 24079, 24190, 24689, 24994,\n",
       "       25167, 25298, 25665, 25908, 26830, 27432, 27753, 30480, 31490,\n",
       "       33112]) <Unit('meter')>"
      ]
     },
     "execution_count": 33,
     "metadata": {},
     "output_type": "execute_result"
    }
   ],
   "source": [
    "h1 = df1['height'].values * units(df.units['height']) # This line assigns the units to the values in the pandas dataframe. We will pull things into individual variables. We put '.values' at the end because I want just the array of numbers., not the whole data series or objects\n",
    "P1 = df1['pressure'].values *units(df.units['pressure']) # This line grabs the pressure array\n",
    "T_degC1 = df1['temperature'].values * units (df.units['temperature']) # This grabs the temperature array\n",
    "Td_degC1 = df1['dewpoint'].values * units (df.units['dewpoint']) # This grabs the dewpoint temperature array\n",
    "# u1 = df['u_wind'].values * units(df.units['u_wind']) # This grabs the wind x component array\n",
    "# v1 = df['v_wind'].values * units(df.units['v_wind']) # This grabs the wind y component array\n",
    "# lat1 = df['latitude'].values * units(df.units['latitude']) # This grabs the latitude array\n",
    "# lon1 = df['longitude'].values * units(df.units['longitude']) # This grabs the longitude array\n",
    "h1 # This prints the array of heights at which data was collected from the radiosonde"
   ]
  },
  {
   "cell_type": "code",
   "execution_count": 34,
   "id": "e858963c",
   "metadata": {},
   "outputs": [],
   "source": [
    "T_kelvin1 = T_degC1.to('kelvin') # This line converts Celsius to Kelvin\n",
    "Td_kelvin1 = Td_degC1.to('kelvin') # This line converts Celsius to Kelvin"
   ]
  },
  {
   "cell_type": "code",
   "execution_count": 35,
   "id": "248a099a",
   "metadata": {},
   "outputs": [],
   "source": [
    "Theta1 = mpcalc.potential_temperature(P1, T_kelvin1) # This line calculates the potential temperature in units of kelvin\n",
    "RH1 = mpcalc.relative_humidity_from_dewpoint(T_kelvin1, Td_kelvin1)*100 # This line calculates the Relative Humidity\n",
    "q1 = mpcalc.specific_humidity_from_dewpoint(P1, Td_kelvin1) # This line calculates the Specific Humidity\n",
    "mr1 = mpcalc.mixing_ratio_from_specific_humidity(q1) # This line calculates the Mixing Ratio\n",
    "e1 = mpcalc.vapor_pressure(P1, mr1) # This line calculates the water vapor pressure in hPa\n",
    "#static_stability = mpcalc.static_stability(P, T_kelvin, vertical_dim=0)"
   ]
  },
  {
   "cell_type": "code",
   "execution_count": 36,
   "id": "949db4d5",
   "metadata": {},
   "outputs": [],
   "source": [
    "N1 = ((77.6)*(P1/T_kelvin1)).magnitude + ((3.73)*(10**5)*(e1/(T_kelvin1**2))).magnitude # This line calculates the refractivity"
   ]
  },
  {
   "cell_type": "markdown",
   "id": "16f29043",
   "metadata": {},
   "source": [
    "# Gradient coding for June 29 at 12Z"
   ]
  },
  {
   "cell_type": "code",
   "execution_count": 38,
   "id": "a195de32",
   "metadata": {
    "scrolled": true
   },
   "outputs": [
    {
     "data": {
      "text/html": [
       "<table><tbody><tr><th>Magnitude</th><td style='text-align:left;'><pre>[2134.0 2134.0 2134.0 2134.0 2134.0 2134.0 2134.0 2134.0 2134.0 2134.0<br> 2134.0 2134.0 2134.0 2134.0 2134.0 2134.0 2134.0 2134.0 2134.0 2134.0<br> 2134.0 2134.0 2134.0 2134.0 2134.0 2134.0 2134.0 2134.0 2134.0 2134.0<br> 2134.0 2134.0 2134.0 2134.0 2134.0 2134.0 2134.0 2134.0 2134.0 2134.0<br> 2134.0 2134.0 2134.0 2134.0 2134.0 2134.0 2134.0 2134.0 2134.0 2134.0<br> 2134.0 2134.0 2134.0 2134.0 2134.0 2134.0 2134.0 2134.0 2134.0 2134.0<br> 2134.0 2134.0 2134.0 2134.0 2134.0 2134.0 2134.0 2134.0 2134.0 2134.0<br> 2134.0 2134.0 2134.0 2134.0 2134.0 2134.0 2134.0 2134.0 2134.0 2134.0<br> 2134.0 2134.0 2134.0 2134.0 2134.0 2134.0 2134.0 2134.0 2134.0 2134.0<br> 2134.0 2134.0 2134.0 2134.0 2134.0 2134.0 2134.0 2134.0 2134.0 2134.0]</pre></td></tr><tr><th>Units</th><td style='text-align:left;'>meter</td></tr></tbody></table>"
      ],
      "text/latex": [
       "$\\begin{pmatrix}2134.0 & 2134.0 & 2134.0 & 2134.0 & 2134.0 & 2134.0 & 2134.0 & 2134.0 & 2134.0 & 2134.0 & 2134.0 & 2134.0 & 2134.0 & 2134.0 & 2134.0 & 2134.0 & 2134.0 & 2134.0 & 2134.0 & 2134.0 & 2134.0 & 2134.0 & 2134.0 & 2134.0 & 2134.0 & 2134.0 & 2134.0 & 2134.0 & 2134.0 & 2134.0 & 2134.0 & 2134.0 & 2134.0 & 2134.0 & 2134.0 & 2134.0 & 2134.0 & 2134.0 & 2134.0 & 2134.0 & 2134.0 & 2134.0 & 2134.0 & 2134.0 & 2134.0 & 2134.0 & 2134.0 & 2134.0 & 2134.0 & 2134.0 & 2134.0 & 2134.0 & 2134.0 & 2134.0 & 2134.0 & 2134.0 & 2134.0 & 2134.0 & 2134.0 & 2134.0 & 2134.0 & 2134.0 & 2134.0 & 2134.0 & 2134.0 & 2134.0 & 2134.0 & 2134.0 & 2134.0 & 2134.0 & 2134.0 & 2134.0 & 2134.0 & 2134.0 & 2134.0 & 2134.0 & 2134.0 & 2134.0 & 2134.0 & 2134.0 & 2134.0 & 2134.0 & 2134.0 & 2134.0 & 2134.0 & 2134.0 & 2134.0 & 2134.0 & 2134.0 & 2134.0 & 2134.0 & 2134.0 & 2134.0 & 2134.0 & 2134.0 & 2134.0 & 2134.0 & 2134.0 & 2134.0 & 2134.0\\end{pmatrix}\\ \\mathrm{meter}$"
      ],
      "text/plain": [
       "array([2134., 2134., 2134., 2134., 2134., 2134., 2134., 2134., 2134.,\n",
       "       2134., 2134., 2134., 2134., 2134., 2134., 2134., 2134., 2134.,\n",
       "       2134., 2134., 2134., 2134., 2134., 2134., 2134., 2134., 2134.,\n",
       "       2134., 2134., 2134., 2134., 2134., 2134., 2134., 2134., 2134.,\n",
       "       2134., 2134., 2134., 2134., 2134., 2134., 2134., 2134., 2134.,\n",
       "       2134., 2134., 2134., 2134., 2134., 2134., 2134., 2134., 2134.,\n",
       "       2134., 2134., 2134., 2134., 2134., 2134., 2134., 2134., 2134.,\n",
       "       2134., 2134., 2134., 2134., 2134., 2134., 2134., 2134., 2134.,\n",
       "       2134., 2134., 2134., 2134., 2134., 2134., 2134., 2134., 2134.,\n",
       "       2134., 2134., 2134., 2134., 2134., 2134., 2134., 2134., 2134.,\n",
       "       2134., 2134., 2134., 2134., 2134., 2134., 2134., 2134., 2134.,\n",
       "       2134.]) <Unit('meter')>"
      ]
     },
     "execution_count": 38,
     "metadata": {},
     "output_type": "execute_result"
    }
   ],
   "source": [
    "gradTheta1 = np.gradient(Theta1[0:24]) # I set the bounds from 0 meters to just over 4,000 meters. This is the function for finding the gradient. I attempeted using Metpy's gradient function, but I was getting errors\n",
    "gradTheta1 # This prints the gradient of the Potential Temperature array\n",
    "largestTheta1 = np.argsort(gradTheta1)[-10:] # This gives us the position of the largest 10 largest gradients for the potential temperature array\n",
    "largestTheta1 # This prints the positions of the largest 10 largest gradients for the potential temperature array\n",
    "\n",
    "# The Theta[0:24] range of atmosphere positions are 20, 18, 15, 19,  7, 21, 23,  5,  4, 22\n",
    "\n",
    "gradRH1 = np.gradient(RH1[0:24]) # Bounds are set from 0 meters to just over 4,000 meters. This is the function for finding the gradient.\n",
    "gradRH1 # This prints the gradient of the Relative Humidity array\n",
    "smallestRH1 = np.argsort(gradRH1)[:10] # This sorts the Relative humidity gradient array from least to greatest and then picks the 10 smallest gradients of the array\n",
    "smallestRH1 # This line returns the positions of the 10 smallest gradients, or the first 10 gradients\n",
    "\n",
    "# # The RH[0:24] range of atmosphere positions are 15, 16, 14,  4,  5,  3,  6, 22, 23, 21\n",
    "\n",
    "\n",
    "gradq1 = np.gradient(q1[0:24]) # Bounds are set from 0 meters to just over 4,000 meters. This is the function for finding the gradient.\n",
    "gradq1 # This prints the gradient of the Specific Humidity array\n",
    "smallestq1 = np.argsort(gradq1)[:10] # This sorts the Specific humidity gradient array from least to greatest and then picks the 10 smallest gradients of the array\n",
    "smallestq1 # This line returns the positions of the 10 smallest gradients, or the first 10 gradients\n",
    "\n",
    "# The q[0:24] range of atmosphere positions are 15, 16, 14,  7,  6,  8,  5, 22, 18, 21\n",
    "\n",
    "\n",
    "gradN1 = np.gradient(N1[0:24]) # Bounds are set from 0 meters to just over 4,000 meters. This is the function for finding the gradient.\n",
    "gradN1 # This prints the gradient of the Refractivity array\n",
    "smallestN1 = np.argsort(gradN1)[:10] # This sorts the Refractivity gradient array from least to greatest and then picks the 10 smallest gradients of the array\n",
    "smallestN1 # This line returns the positions of the 10 smallest gradients, or the first 10 gradients\n",
    "\n",
    "# The N[0:24] range of atmosphere positions are 15, 16,  7, 14, 22, 18, 19,  6, 21, 11\n",
    "\n",
    "# #-----------------------------------------------------------------------------\n",
    "\n",
    "# I then want to print the height where at least three parameters had the same height when going in descending \n",
    "# order for potential temperature and ascending order for relative humidity, specific humidity and refractivity, \n",
    "# as that height is said to be the mixing layer height\n",
    "\n",
    "MLH1 = h1[16]\n",
    "MLH1 = np.ones(100)*MLH1\n",
    "MLH1"
   ]
  },
  {
   "cell_type": "markdown",
   "id": "8568c2b7",
   "metadata": {},
   "source": [
    "# Print the Row of the Mixing Layer Height. This will be useful for the Machine Learning tool for MLH forecast estimations. "
   ]
  },
  {
   "cell_type": "code",
   "execution_count": 37,
   "id": "fe3955d3",
   "metadata": {
    "scrolled": true
   },
   "outputs": [
    {
     "data": {
      "text/plain": [
       "pressure                        801.4\n",
       "height                           2134\n",
       "temperature                      15.7\n",
       "dewpoint                          0.3\n",
       "direction                       270.0\n",
       "speed                             3.0\n",
       "u_wind                            3.0\n",
       "v_wind                            0.0\n",
       "station                           IAD\n",
       "station_number                  72403\n",
       "time              2021-06-29 12:00:00\n",
       "latitude                        38.98\n",
       "longitude                      -77.46\n",
       "elevation                        93.0\n",
       "pw                              32.26\n",
       "Name: 16, dtype: object"
      ]
     },
     "execution_count": 37,
     "metadata": {},
     "output_type": "execute_result"
    }
   ],
   "source": [
    "df1.loc[16]"
   ]
  },
  {
   "cell_type": "markdown",
   "id": "878f87e7",
   "metadata": {},
   "source": [
    "## Plotting for June 29, 2021 at 12Z"
   ]
  },
  {
   "cell_type": "code",
   "execution_count": 27,
   "id": "ee9f5e43",
   "metadata": {},
   "outputs": [
    {
     "data": {
      "image/png": "[encoded data removed]",
      "text/plain": [
       "<Figure size 432x288 with 1 Axes>"
      ]
     },
     "metadata": {
      "needs_background": "light"
     },
     "output_type": "display_data"
    }
   ],
   "source": [
    "plt.plot(Theta1,h1, c=\"b\", label=\"Potential Temperature\")  ##Always after \"plt.plot\" is the x and y axis. So in this case it is Potential temperature (theta) and height data. Next, I change the color by using \"c=\". I then labeled the line using the \"label= \".\n",
    "plt.plot(Theta1, MLH1, c=\"BLACK\", label=\"Mixing Layer Height\")\n",
    "plt.xlabel('Theta (K)')\n",
    "plt.xlim(295,317)\n",
    "plt.ylabel('Height (m)')\n",
    "plt.ylim(0,4000)\n",
    "plt.legend(loc=0)\n",
    "plt.title('Potential Temperature versus Height\\nSterling, VA - June 29, 2021 at 12 UTC')\n",
    "plt.grid(True) \n",
    "plt.savefig(\"0629202112ZPT.png\")"
   ]
  },
  {
   "cell_type": "code",
   "execution_count": null,
   "id": "1a2ea260",
   "metadata": {},
   "outputs": [],
   "source": [
    "plt.plot(RH1,h1, c=\"red\", label=\"Relative Humidity\")  ##Always after \"plt.plot\" is the x and y axis. So in this case it is Relative Humidity and height data. Next, I change the color by using \"c=\". I then labeled the line using the \"label= \".\n",
    "plt.plot(RH1,MLH1, c=\"BLACK\", label=\"Mixing Layer Height\")\n",
    "\n",
    "plt.xlabel('Relative Humidity (%)')\n",
    "plt.xlim(20, np.amax(RH1))\n",
    "plt.ylabel('Height (m)')\n",
    "plt.ylim(0,4000)\n",
    "plt.legend(loc=0)\n",
    "plt.title('Relative Humidity versus Height\\nSterling, VA - June 29, 2021 at 12 UTC')\n",
    "plt.grid(True) \n",
    "plt.savefig(\"0629202112ZRH.png\")"
   ]
  },
  {
   "cell_type": "code",
   "execution_count": null,
   "id": "f7034159",
   "metadata": {},
   "outputs": [],
   "source": [
    "plt.plot(q1,h1, c=\"green\", label='Specidic Humidity')  ##Always after \"plt.plot\" is the x and y axis. So in this case it is Specific Humidity (q) and height data. Next, I change the color by using \"c=\". I then labeled the line using the \"label= \".\n",
    "plt.plot(q1, MLH1, c=\"BLACK\", label=\"Mixing Layer Height\")\n",
    "plt.xlabel('q (g/kg)')\n",
    "plt.xlim(0.002, np.amax(q1))\n",
    "plt.ylabel('Height (m)')\n",
    "plt.ylim(0,4000)\n",
    "plt.legend(loc=0)\n",
    "plt.title('Specific Humidity versus Height\\nSterling, VA - June 29, 2021 at 12 UTC')\n",
    "plt.grid(True) \n",
    "plt.savefig(\"0629202112ZSH.png\")"
   ]
  },
  {
   "cell_type": "code",
   "execution_count": null,
   "id": "6570e1ae",
   "metadata": {},
   "outputs": [],
   "source": [
    "plt.plot(N1,h1, c=\"brown\",label='Refractivity')  ##Always after \"plt.plot\" is the x and y axis. So in this case it is Refractivity (N) and height data. Next, I change the color by using \"c=\". I then labeled the line using the \"label= \".\n",
    "plt.plot(N1,MLH1, c=\"black\",label='Mixing Layer Height')\n",
    "plt.xlabel('N')\n",
    "plt.xlim(180,np.amax(N1))\n",
    "plt.ylabel('Height (m)')\n",
    "plt.ylim(0,4000)\n",
    "plt.legend(loc=0)\n",
    "plt.title('Refractivity versus Height\\nSterling, VA - June 29, 2021 at 12 UTC')\n",
    "plt.grid(True) \n",
    "plt.savefig(\"0629202112ZR.png\")"
   ]
  },
  {
   "cell_type": "markdown",
   "id": "7da34010",
   "metadata": {},
   "source": [
    "## Importing the Data"
   ]
  },
  {
   "cell_type": "markdown",
   "id": "321ee6e6",
   "metadata": {},
   "source": [
    "### June 30 2021 at 00Z"
   ]
  },
  {
   "cell_type": "code",
   "execution_count": 40,
   "id": "e67ec9e7",
   "metadata": {},
   "outputs": [],
   "source": [
    "date30AT00Z = datetime(2021, 6, 30, 0) # Year, month, day, time\n",
    "station = 'IAD' # Three letter code "
   ]
  },
  {
   "cell_type": "code",
   "execution_count": 41,
   "id": "2cbea167",
   "metadata": {},
   "outputs": [],
   "source": [
    "df2 = WyomingUpperAir.request_data(date30AT00Z, station)"
   ]
  },
  {
   "cell_type": "code",
   "execution_count": 42,
   "id": "ee8ad359",
   "metadata": {},
   "outputs": [
    {
     "data": {
      "text/html": [
       "<div>\n",
       "<style scoped>\n",
       "    .dataframe tbody tr th:only-of-type {\n",
       "        vertical-align: middle;\n",
       "    }\n",
       "\n",
       "    .dataframe tbody tr th {\n",
       "        vertical-align: top;\n",
       "    }\n",
       "\n",
       "    .dataframe thead th {\n",
       "        text-align: right;\n",
       "    }\n",
       "</style>\n",
       "<table border=\"1\" class=\"dataframe\">\n",
       "  <thead>\n",
       "    <tr style=\"text-align: right;\">\n",
       "      <th></th>\n",
       "      <th>pressure</th>\n",
       "      <th>height</th>\n",
       "      <th>temperature</th>\n",
       "      <th>dewpoint</th>\n",
       "      <th>direction</th>\n",
       "      <th>speed</th>\n",
       "      <th>u_wind</th>\n",
       "      <th>v_wind</th>\n",
       "      <th>station</th>\n",
       "      <th>station_number</th>\n",
       "      <th>time</th>\n",
       "      <th>latitude</th>\n",
       "      <th>longitude</th>\n",
       "      <th>elevation</th>\n",
       "      <th>pw</th>\n",
       "    </tr>\n",
       "  </thead>\n",
       "  <tbody>\n",
       "    <tr>\n",
       "      <th>0</th>\n",
       "      <td>1010.0</td>\n",
       "      <td>93</td>\n",
       "      <td>32.2</td>\n",
       "      <td>21.2</td>\n",
       "      <td>200.0</td>\n",
       "      <td>7.0</td>\n",
       "      <td>2.394141</td>\n",
       "      <td>6.577848</td>\n",
       "      <td>IAD</td>\n",
       "      <td>72403</td>\n",
       "      <td>2021-06-30</td>\n",
       "      <td>38.98</td>\n",
       "      <td>-77.46</td>\n",
       "      <td>93.0</td>\n",
       "      <td>32.44</td>\n",
       "    </tr>\n",
       "    <tr>\n",
       "      <th>1</th>\n",
       "      <td>1000.0</td>\n",
       "      <td>180</td>\n",
       "      <td>31.0</td>\n",
       "      <td>19.0</td>\n",
       "      <td>205.0</td>\n",
       "      <td>10.0</td>\n",
       "      <td>4.226183</td>\n",
       "      <td>9.063078</td>\n",
       "      <td>IAD</td>\n",
       "      <td>72403</td>\n",
       "      <td>2021-06-30</td>\n",
       "      <td>38.98</td>\n",
       "      <td>-77.46</td>\n",
       "      <td>93.0</td>\n",
       "      <td>32.44</td>\n",
       "    </tr>\n",
       "    <tr>\n",
       "      <th>2</th>\n",
       "      <td>986.0</td>\n",
       "      <td>305</td>\n",
       "      <td>29.9</td>\n",
       "      <td>18.8</td>\n",
       "      <td>210.0</td>\n",
       "      <td>13.0</td>\n",
       "      <td>6.500000</td>\n",
       "      <td>11.258330</td>\n",
       "      <td>IAD</td>\n",
       "      <td>72403</td>\n",
       "      <td>2021-06-30</td>\n",
       "      <td>38.98</td>\n",
       "      <td>-77.46</td>\n",
       "      <td>93.0</td>\n",
       "      <td>32.44</td>\n",
       "    </tr>\n",
       "    <tr>\n",
       "      <th>3</th>\n",
       "      <td>952.8</td>\n",
       "      <td>610</td>\n",
       "      <td>27.0</td>\n",
       "      <td>18.1</td>\n",
       "      <td>210.0</td>\n",
       "      <td>14.0</td>\n",
       "      <td>7.000000</td>\n",
       "      <td>12.124356</td>\n",
       "      <td>IAD</td>\n",
       "      <td>72403</td>\n",
       "      <td>2021-06-30</td>\n",
       "      <td>38.98</td>\n",
       "      <td>-77.46</td>\n",
       "      <td>93.0</td>\n",
       "      <td>32.44</td>\n",
       "    </tr>\n",
       "    <tr>\n",
       "      <th>4</th>\n",
       "      <td>925.0</td>\n",
       "      <td>873</td>\n",
       "      <td>24.6</td>\n",
       "      <td>17.6</td>\n",
       "      <td>210.0</td>\n",
       "      <td>13.0</td>\n",
       "      <td>6.500000</td>\n",
       "      <td>11.258330</td>\n",
       "      <td>IAD</td>\n",
       "      <td>72403</td>\n",
       "      <td>2021-06-30</td>\n",
       "      <td>38.98</td>\n",
       "      <td>-77.46</td>\n",
       "      <td>93.0</td>\n",
       "      <td>32.44</td>\n",
       "    </tr>\n",
       "    <tr>\n",
       "      <th>...</th>\n",
       "      <td>...</td>\n",
       "      <td>...</td>\n",
       "      <td>...</td>\n",
       "      <td>...</td>\n",
       "      <td>...</td>\n",
       "      <td>...</td>\n",
       "      <td>...</td>\n",
       "      <td>...</td>\n",
       "      <td>...</td>\n",
       "      <td>...</td>\n",
       "      <td>...</td>\n",
       "      <td>...</td>\n",
       "      <td>...</td>\n",
       "      <td>...</td>\n",
       "      <td>...</td>\n",
       "    </tr>\n",
       "    <tr>\n",
       "      <th>104</th>\n",
       "      <td>14.1</td>\n",
       "      <td>29261</td>\n",
       "      <td>-42.1</td>\n",
       "      <td>-83.2</td>\n",
       "      <td>45.0</td>\n",
       "      <td>21.0</td>\n",
       "      <td>-14.849242</td>\n",
       "      <td>-14.849242</td>\n",
       "      <td>IAD</td>\n",
       "      <td>72403</td>\n",
       "      <td>2021-06-30</td>\n",
       "      <td>38.98</td>\n",
       "      <td>-77.46</td>\n",
       "      <td>93.0</td>\n",
       "      <td>32.44</td>\n",
       "    </tr>\n",
       "    <tr>\n",
       "      <th>105</th>\n",
       "      <td>13.5</td>\n",
       "      <td>29566</td>\n",
       "      <td>-41.5</td>\n",
       "      <td>-83.0</td>\n",
       "      <td>65.0</td>\n",
       "      <td>23.0</td>\n",
       "      <td>-20.845079</td>\n",
       "      <td>-9.720220</td>\n",
       "      <td>IAD</td>\n",
       "      <td>72403</td>\n",
       "      <td>2021-06-30</td>\n",
       "      <td>38.98</td>\n",
       "      <td>-77.46</td>\n",
       "      <td>93.0</td>\n",
       "      <td>32.44</td>\n",
       "    </tr>\n",
       "    <tr>\n",
       "      <th>106</th>\n",
       "      <td>11.8</td>\n",
       "      <td>30480</td>\n",
       "      <td>-40.0</td>\n",
       "      <td>-82.7</td>\n",
       "      <td>75.0</td>\n",
       "      <td>28.0</td>\n",
       "      <td>-27.045923</td>\n",
       "      <td>-7.246933</td>\n",
       "      <td>IAD</td>\n",
       "      <td>72403</td>\n",
       "      <td>2021-06-30</td>\n",
       "      <td>38.98</td>\n",
       "      <td>-77.46</td>\n",
       "      <td>93.0</td>\n",
       "      <td>32.44</td>\n",
       "    </tr>\n",
       "    <tr>\n",
       "      <th>107</th>\n",
       "      <td>10.3</td>\n",
       "      <td>31394</td>\n",
       "      <td>-38.4</td>\n",
       "      <td>-82.3</td>\n",
       "      <td>110.0</td>\n",
       "      <td>26.0</td>\n",
       "      <td>-24.432008</td>\n",
       "      <td>8.892524</td>\n",
       "      <td>IAD</td>\n",
       "      <td>72403</td>\n",
       "      <td>2021-06-30</td>\n",
       "      <td>38.98</td>\n",
       "      <td>-77.46</td>\n",
       "      <td>93.0</td>\n",
       "      <td>32.44</td>\n",
       "    </tr>\n",
       "    <tr>\n",
       "      <th>108</th>\n",
       "      <td>10.2</td>\n",
       "      <td>31462</td>\n",
       "      <td>-38.3</td>\n",
       "      <td>-82.3</td>\n",
       "      <td>NaN</td>\n",
       "      <td>NaN</td>\n",
       "      <td>NaN</td>\n",
       "      <td>NaN</td>\n",
       "      <td>IAD</td>\n",
       "      <td>72403</td>\n",
       "      <td>2021-06-30</td>\n",
       "      <td>38.98</td>\n",
       "      <td>-77.46</td>\n",
       "      <td>93.0</td>\n",
       "      <td>32.44</td>\n",
       "    </tr>\n",
       "  </tbody>\n",
       "</table>\n",
       "<p>109 rows × 15 columns</p>\n",
       "</div>"
      ],
      "text/plain": [
       "     pressure  height  temperature  dewpoint  direction  speed     u_wind  \\\n",
       "0      1010.0      93         32.2      21.2      200.0    7.0   2.394141   \n",
       "1      1000.0     180         31.0      19.0      205.0   10.0   4.226183   \n",
       "2       986.0     305         29.9      18.8      210.0   13.0   6.500000   \n",
       "3       952.8     610         27.0      18.1      210.0   14.0   7.000000   \n",
       "4       925.0     873         24.6      17.6      210.0   13.0   6.500000   \n",
       "..        ...     ...          ...       ...        ...    ...        ...   \n",
       "104      14.1   29261        -42.1     -83.2       45.0   21.0 -14.849242   \n",
       "105      13.5   29566        -41.5     -83.0       65.0   23.0 -20.845079   \n",
       "106      11.8   30480        -40.0     -82.7       75.0   28.0 -27.045923   \n",
       "107      10.3   31394        -38.4     -82.3      110.0   26.0 -24.432008   \n",
       "108      10.2   31462        -38.3     -82.3        NaN    NaN        NaN   \n",
       "\n",
       "        v_wind station  station_number       time  latitude  longitude  \\\n",
       "0     6.577848     IAD           72403 2021-06-30     38.98     -77.46   \n",
       "1     9.063078     IAD           72403 2021-06-30     38.98     -77.46   \n",
       "2    11.258330     IAD           72403 2021-06-30     38.98     -77.46   \n",
       "3    12.124356     IAD           72403 2021-06-30     38.98     -77.46   \n",
       "4    11.258330     IAD           72403 2021-06-30     38.98     -77.46   \n",
       "..         ...     ...             ...        ...       ...        ...   \n",
       "104 -14.849242     IAD           72403 2021-06-30     38.98     -77.46   \n",
       "105  -9.720220     IAD           72403 2021-06-30     38.98     -77.46   \n",
       "106  -7.246933     IAD           72403 2021-06-30     38.98     -77.46   \n",
       "107   8.892524     IAD           72403 2021-06-30     38.98     -77.46   \n",
       "108        NaN     IAD           72403 2021-06-30     38.98     -77.46   \n",
       "\n",
       "     elevation     pw  \n",
       "0         93.0  32.44  \n",
       "1         93.0  32.44  \n",
       "2         93.0  32.44  \n",
       "3         93.0  32.44  \n",
       "4         93.0  32.44  \n",
       "..         ...    ...  \n",
       "104       93.0  32.44  \n",
       "105       93.0  32.44  \n",
       "106       93.0  32.44  \n",
       "107       93.0  32.44  \n",
       "108       93.0  32.44  \n",
       "\n",
       "[109 rows x 15 columns]"
      ]
     },
     "execution_count": 42,
     "metadata": {},
     "output_type": "execute_result"
    }
   ],
   "source": [
    "df2 # This prints the table from the website. This is a Pandas data frame. Panda allows you to manipulate, join, and do operations on it"
   ]
  },
  {
   "cell_type": "code",
   "execution_count": 43,
   "id": "3e186797",
   "metadata": {},
   "outputs": [
    {
     "data": {
      "text/html": [
       "<table><tbody><tr><th>Magnitude</th><td style='text-align:left;'><pre>[   93   180   305   610   873   914  1219  1338  1524  1608  1829  1979<br>  2117  2134  2438  2475  2743  3048  3253  3658  4267  4436  4572  4584<br>  4679  4748  4877  5182  5923  5970  6096  6401  6706  7010  7315  7620<br>  7680  7811  7925  8357  8534  8839  9108  9144  9760 10058 10142 10668<br> 10720 11010 11278 12470 12497 12727 14021 14250 14630 14886 14935 15204<br> 15240 15542 15545 15850 16154 16630 16690 16764 17050 17069 17374 17545<br> 17678 17983 18288 18593 18880 19286 19812 20016 20422 20970 21336 21347<br> 21946 22359 22555 22860 23470 23774 24260 24384 24689 24943 24994 25603<br> 25908 26518 26714 26910 27127 27432 28346 28956 29261 29566 30480 31394<br> 31462]</pre></td></tr><tr><th>Units</th><td style='text-align:left;'>meter</td></tr></tbody></table>"
      ],
      "text/latex": [
       "$\\begin{pmatrix}93 & 180 & 305 & 610 & 873 & 914 & 1219 & 1338 & 1524 & 1608 & 1829 & 1979 & 2117 & 2134 & 2438 & 2475 & 2743 & 3048 & 3253 & 3658 & 4267 & 4436 & 4572 & 4584 & 4679 & 4748 & 4877 & 5182 & 5923 & 5970 & 6096 & 6401 & 6706 & 7010 & 7315 & 7620 & 7680 & 7811 & 7925 & 8357 & 8534 & 8839 & 9108 & 9144 & 9760 & 10058 & 10142 & 10668 & 10720 & 11010 & 11278 & 12470 & 12497 & 12727 & 14021 & 14250 & 14630 & 14886 & 14935 & 15204 & 15240 & 15542 & 15545 & 15850 & 16154 & 16630 & 16690 & 16764 & 17050 & 17069 & 17374 & 17545 & 17678 & 17983 & 18288 & 18593 & 18880 & 19286 & 19812 & 20016 & 20422 & 20970 & 21336 & 21347 & 21946 & 22359 & 22555 & 22860 & 23470 & 23774 & 24260 & 24384 & 24689 & 24943 & 24994 & 25603 & 25908 & 26518 & 26714 & 26910 & 27127 & 27432 & 28346 & 28956 & 29261 & 29566 & 30480 & 31394 & 31462\\end{pmatrix}\\ \\mathrm{meter}$"
      ],
      "text/plain": [
       "array([   93,   180,   305,   610,   873,   914,  1219,  1338,  1524,\n",
       "        1608,  1829,  1979,  2117,  2134,  2438,  2475,  2743,  3048,\n",
       "        3253,  3658,  4267,  4436,  4572,  4584,  4679,  4748,  4877,\n",
       "        5182,  5923,  5970,  6096,  6401,  6706,  7010,  7315,  7620,\n",
       "        7680,  7811,  7925,  8357,  8534,  8839,  9108,  9144,  9760,\n",
       "       10058, 10142, 10668, 10720, 11010, 11278, 12470, 12497, 12727,\n",
       "       14021, 14250, 14630, 14886, 14935, 15204, 15240, 15542, 15545,\n",
       "       15850, 16154, 16630, 16690, 16764, 17050, 17069, 17374, 17545,\n",
       "       17678, 17983, 18288, 18593, 18880, 19286, 19812, 20016, 20422,\n",
       "       20970, 21336, 21347, 21946, 22359, 22555, 22860, 23470, 23774,\n",
       "       24260, 24384, 24689, 24943, 24994, 25603, 25908, 26518, 26714,\n",
       "       26910, 27127, 27432, 28346, 28956, 29261, 29566, 30480, 31394,\n",
       "       31462]) <Unit('meter')>"
      ]
     },
     "execution_count": 43,
     "metadata": {},
     "output_type": "execute_result"
    }
   ],
   "source": [
    "h2 = df2['height'].values * units(df.units['height']) # This line assigns the units to the values in the pandas dataframe. We will pull things into individual variables. We put '.values' at the end because I want just the array of numbers., not the whole data series or objects\n",
    "P2 = df2['pressure'].values *units(df.units['pressure']) # This line grabs the pressure array\n",
    "T_degC2 = df2['temperature'].values * units (df.units['temperature']) # This grabs the temperature array\n",
    "Td_degC2 = df2['dewpoint'].values * units (df.units['dewpoint']) # This grabs the dewpoint temperature array\n",
    "h2"
   ]
  },
  {
   "cell_type": "code",
   "execution_count": 44,
   "id": "cd655cea",
   "metadata": {},
   "outputs": [],
   "source": [
    "T_kelvin2 = T_degC2.to('kelvin')\n",
    "Td_kelvin2 = Td_degC2.to('kelvin')"
   ]
  },
  {
   "cell_type": "code",
   "execution_count": 45,
   "id": "11e08e04",
   "metadata": {},
   "outputs": [],
   "source": [
    "Theta2 = mpcalc.potential_temperature(P2, T_kelvin2) # This line calculates the potential temperature in units of kelvin\n",
    "RH2 = mpcalc.relative_humidity_from_dewpoint(T_kelvin2, Td_kelvin2)*100 # This line calculates the Relative Humidity\n",
    "q2 = mpcalc.specific_humidity_from_dewpoint(P2, Td_kelvin2) # This line calculates the Specific Humidity\n",
    "mr2 = mpcalc.mixing_ratio_from_specific_humidity(q2) # This line calculates the Mixing Ratio\n",
    "e2 = mpcalc.vapor_pressure(P2, mr2) # This line calculates the water vapor pressure in hPa\n",
    "#static_stability = mpcalc.static_stability(P, T_kelvin, vertical_dim=0)"
   ]
  },
  {
   "cell_type": "code",
   "execution_count": 46,
   "id": "14fae2d6",
   "metadata": {},
   "outputs": [],
   "source": [
    "N2 = ((77.6)*(P2/T_kelvin2)).magnitude + ((3.73)*(10**5)*(e2/(T_kelvin2**2))).magnitude # There's a discrepancy between the units so I used '.magnitude'"
   ]
  },
  {
   "cell_type": "markdown",
   "id": "849d4aa9",
   "metadata": {},
   "source": [
    "# Gradient coding for June 30 at 00Z"
   ]
  },
  {
   "cell_type": "code",
   "execution_count": 47,
   "id": "abac0410",
   "metadata": {
    "scrolled": true
   },
   "outputs": [
    {
     "data": {
      "text/html": [
       "<table><tbody><tr><th>Magnitude</th><td style='text-align:left;'><pre>[1979.0 1979.0 1979.0 1979.0 1979.0 1979.0 1979.0 1979.0 1979.0 1979.0<br> 1979.0 1979.0 1979.0 1979.0 1979.0 1979.0 1979.0 1979.0 1979.0 1979.0<br> 1979.0 1979.0 1979.0 1979.0 1979.0 1979.0 1979.0 1979.0 1979.0 1979.0<br> 1979.0 1979.0 1979.0 1979.0 1979.0 1979.0 1979.0 1979.0 1979.0 1979.0<br> 1979.0 1979.0 1979.0 1979.0 1979.0 1979.0 1979.0 1979.0 1979.0 1979.0<br> 1979.0 1979.0 1979.0 1979.0 1979.0 1979.0 1979.0 1979.0 1979.0 1979.0<br> 1979.0 1979.0 1979.0 1979.0 1979.0 1979.0 1979.0 1979.0 1979.0 1979.0<br> 1979.0 1979.0 1979.0 1979.0 1979.0 1979.0 1979.0 1979.0 1979.0 1979.0<br> 1979.0 1979.0 1979.0 1979.0 1979.0 1979.0 1979.0 1979.0 1979.0 1979.0<br> 1979.0 1979.0 1979.0 1979.0 1979.0 1979.0 1979.0 1979.0 1979.0 1979.0<br> 1979.0 1979.0 1979.0 1979.0 1979.0 1979.0 1979.0 1979.0 1979.0]</pre></td></tr><tr><th>Units</th><td style='text-align:left;'>meter</td></tr></tbody></table>"
      ],
      "text/latex": [
       "$\\begin{pmatrix}1979.0 & 1979.0 & 1979.0 & 1979.0 & 1979.0 & 1979.0 & 1979.0 & 1979.0 & 1979.0 & 1979.0 & 1979.0 & 1979.0 & 1979.0 & 1979.0 & 1979.0 & 1979.0 & 1979.0 & 1979.0 & 1979.0 & 1979.0 & 1979.0 & 1979.0 & 1979.0 & 1979.0 & 1979.0 & 1979.0 & 1979.0 & 1979.0 & 1979.0 & 1979.0 & 1979.0 & 1979.0 & 1979.0 & 1979.0 & 1979.0 & 1979.0 & 1979.0 & 1979.0 & 1979.0 & 1979.0 & 1979.0 & 1979.0 & 1979.0 & 1979.0 & 1979.0 & 1979.0 & 1979.0 & 1979.0 & 1979.0 & 1979.0 & 1979.0 & 1979.0 & 1979.0 & 1979.0 & 1979.0 & 1979.0 & 1979.0 & 1979.0 & 1979.0 & 1979.0 & 1979.0 & 1979.0 & 1979.0 & 1979.0 & 1979.0 & 1979.0 & 1979.0 & 1979.0 & 1979.0 & 1979.0 & 1979.0 & 1979.0 & 1979.0 & 1979.0 & 1979.0 & 1979.0 & 1979.0 & 1979.0 & 1979.0 & 1979.0 & 1979.0 & 1979.0 & 1979.0 & 1979.0 & 1979.0 & 1979.0 & 1979.0 & 1979.0 & 1979.0 & 1979.0 & 1979.0 & 1979.0 & 1979.0 & 1979.0 & 1979.0 & 1979.0 & 1979.0 & 1979.0 & 1979.0 & 1979.0 & 1979.0 & 1979.0 & 1979.0 & 1979.0 & 1979.0 & 1979.0 & 1979.0 & 1979.0 & 1979.0\\end{pmatrix}\\ \\mathrm{meter}$"
      ],
      "text/plain": [
       "array([1979., 1979., 1979., 1979., 1979., 1979., 1979., 1979., 1979.,\n",
       "       1979., 1979., 1979., 1979., 1979., 1979., 1979., 1979., 1979.,\n",
       "       1979., 1979., 1979., 1979., 1979., 1979., 1979., 1979., 1979.,\n",
       "       1979., 1979., 1979., 1979., 1979., 1979., 1979., 1979., 1979.,\n",
       "       1979., 1979., 1979., 1979., 1979., 1979., 1979., 1979., 1979.,\n",
       "       1979., 1979., 1979., 1979., 1979., 1979., 1979., 1979., 1979.,\n",
       "       1979., 1979., 1979., 1979., 1979., 1979., 1979., 1979., 1979.,\n",
       "       1979., 1979., 1979., 1979., 1979., 1979., 1979., 1979., 1979.,\n",
       "       1979., 1979., 1979., 1979., 1979., 1979., 1979., 1979., 1979.,\n",
       "       1979., 1979., 1979., 1979., 1979., 1979., 1979., 1979., 1979.,\n",
       "       1979., 1979., 1979., 1979., 1979., 1979., 1979., 1979., 1979.,\n",
       "       1979., 1979., 1979., 1979., 1979., 1979., 1979., 1979., 1979.,\n",
       "       1979.]) <Unit('meter')>"
      ]
     },
     "execution_count": 47,
     "metadata": {},
     "output_type": "execute_result"
    }
   ],
   "source": [
    "gradTheta2 = np.gradient(Theta2[0:22]) # I set the bounds from 0 meters to just over 4,000 meters. This is the function for finding the gradient. I attempeted using Metpy's gradient function, but I was getting errors\n",
    "gradTheta2 # This prints the gradient of the Potential Temperature array\n",
    "largestTheta2 = np.argsort(gradTheta2)[-10:] # This gives us the position of the largest 10 largest gradients for the potential temperature array\n",
    "largestTheta2 # This prints the positions of the largest 10 largest gradients for the potential temperature array\n",
    "\n",
    "# The Theta[0:22] range of atmosphere positions are 14, 9, 17, 18, 8, 20, 16, 12, 11, 19\n",
    "\n",
    "gradRH2 = np.gradient(RH2[0:22]) # Bounds are set from 0 meters to just over 4,000 meters. This is the function for finding the gradient.\n",
    "gradRH2 # This prints the gradient of the Relative Humidity array\n",
    "smallestRH2 = np.argsort(gradRH2)[:10] # This sorts the Relative humidity gradient array from least to greatest and then picks the 10 smallest gradients of the array\n",
    "smallestRH2 # This line returns the positions of the 10 smallest gradients, or the first 10 gradients\n",
    "\n",
    "# The RH[0:22] range of atmosphere positions are 11, 12, 13, 14, 8, 0, 9, 7, 10, 1\n",
    "\n",
    "\n",
    "gradq2 = np.gradient(q2[0:22]) # Bounds are set from 0 meters to just over 4,000 meters. This is the function for finding the gradient.\n",
    "gradq2 # This prints the gradient of the Specific Humidity array\n",
    "smallestq2 = np.argsort(gradq2)[:10] # This sorts the Specific humidity gradient array from least to greatest and then picks the 10 smallest gradients of the array\n",
    "smallestq2 # This line returns the positions of the 10 smallest gradients, or the first 10 gradients\n",
    "\n",
    "# The q[0:22] range of atmosphere positions are 11, 12, 0, 13, 14, 8, 1, 7, 9, 10\n",
    "\n",
    "\n",
    "gradN2 = np.gradient(N2[0:22]) # Bounds are set from 0 meters to just over 4,000 meters. This is the function for finding the gradient.\n",
    "gradN2 # This prints the gradient of the Refractivity array\n",
    "smallestN2 = np.argsort(gradN2)[:10] # This sorts the Refractivity gradient array from least to greatest and then picks the 10 smallest gradients of the array\n",
    "smallestN2 # This line returns the positions of the 10 smallest gradients, or the first 10 gradients\n",
    "\n",
    "# The N[0:22] range of atmosphere positions are 11, 0, 12, 14, 13, 19, 8, 10, 7, 9\n",
    "\n",
    "#-----------------------------------------------------------------------------\n",
    "\n",
    "# I then want to print the height where at least three parameters had the same height when going in descending \n",
    "# order for potential temperature and ascending order for relative humidity, specific humidity and refractivity, \n",
    "# as that height is said to be the mixing layer height\n",
    "\n",
    "MLH2 = h2[11]\n",
    "MLH2 = np.ones(109)*MLH2\n",
    "MLH2"
   ]
  },
  {
   "cell_type": "markdown",
   "id": "f4d1aad3",
   "metadata": {},
   "source": [
    "# Print the Row of the Mixing Layer Height. This will be useful for the Machine Learning tool for MLH forecast estimations. "
   ]
  },
  {
   "cell_type": "code",
   "execution_count": 48,
   "id": "b5d79d93",
   "metadata": {
    "scrolled": false
   },
   "outputs": [
    {
     "data": {
      "text/plain": [
       "pressure                        814.0\n",
       "height                           1979\n",
       "temperature                      17.2\n",
       "dewpoint                          9.2\n",
       "direction                       258.0\n",
       "speed                            10.0\n",
       "u_wind                       9.781476\n",
       "v_wind                       2.079117\n",
       "station                           IAD\n",
       "station_number                  72403\n",
       "time              2021-06-30 00:00:00\n",
       "latitude                        38.98\n",
       "longitude                      -77.46\n",
       "elevation                        93.0\n",
       "pw                              32.44\n",
       "Name: 11, dtype: object"
      ]
     },
     "execution_count": 48,
     "metadata": {},
     "output_type": "execute_result"
    }
   ],
   "source": [
    "df2.loc[11]"
   ]
  },
  {
   "cell_type": "markdown",
   "id": "f130d3dc",
   "metadata": {},
   "source": [
    "## Plotting for June 30, 2021 at 00Z"
   ]
  },
  {
   "cell_type": "code",
   "execution_count": null,
   "id": "a429c1b1",
   "metadata": {},
   "outputs": [],
   "source": [
    "plt.plot(Theta2,h2, c=\"b\", label=\"Potential Temperature\")  ##Always after \"plt.plot\" is the x and y axis. So in this case it is Potential temperature (theta) and height data. Next, I change the color by using \"c=\". I then labeled the line using the \"label= \".\n",
    "plt.plot(Theta2,MLH2, c=\"black\", label=\"Mixing Layer Height\") \n",
    "plt.xlabel('Theta (K)')\n",
    "plt.xlim(np.amin(Theta2),318)\n",
    "plt.ylabel('Height (m)')\n",
    "plt.ylim(0,4000)\n",
    "plt.legend(loc=0)\n",
    "plt.title('Potential Temperature versus Height\\nSterling, VA - June 30, 2021 at 0 UTC')\n",
    "plt.grid(True) \n",
    "plt.savefig(\"0630202100ZPT.png\")"
   ]
  },
  {
   "cell_type": "code",
   "execution_count": null,
   "id": "bca3eb42",
   "metadata": {},
   "outputs": [],
   "source": [
    "plt.plot(RH2,h2, c=\"red\", label=\"Relative Humidity\")  ##Always after \"plt.plot\" is the x and y axis. So in this case it is Relative Humidity and height data. Next, I change the color by using \"c=\". I then labeled the line using the \"label= \".\n",
    "plt.plot(RH2,MLH2, c=\"black\", label=\"Mixing Layer Height\")\n",
    "plt.xlabel('Relative Humidity (%)')\n",
    "plt.xlim(10,np.amax(RH2))\n",
    "plt.ylabel('Height (m)')\n",
    "plt.ylim(0,4000)\n",
    "plt.legend(loc=0)\n",
    "plt.title('Relative Humidity versus Height\\nSterling, VA - June 30, 2021 at 0 UTC')\n",
    "plt.grid(True)\n",
    "plt.savefig(\"0630202100ZRH.png\")"
   ]
  },
  {
   "cell_type": "code",
   "execution_count": null,
   "id": "1aa3055a",
   "metadata": {},
   "outputs": [],
   "source": [
    "plt.plot(q2,h2, c=\"green\",label='Specific Humidity')  ##Always after \"plt.plot\" is the x and y axis. So in this case it is Specific Humidity (q) and height data. Next, I change the color by using \"c=\". I then labeled the line using the \"label= \".\n",
    "plt.plot(q2,MLH2, c=\"Black\",label='Mixing Layer Height')\n",
    "plt.xlabel('q (g/kg)')\n",
    "plt.xlim(0.001,np.amax(q2))\n",
    "plt.ylabel('Height (m)')\n",
    "plt.ylim(0,4000)\n",
    "plt.legend(loc=0)\n",
    "plt.title('Specific Humidity versus Height\\nSterling, VA - June 30, 2021 at 0 UTC')\n",
    "plt.grid(True) \n",
    "plt.savefig(\"0630202100ZSH.png\")"
   ]
  },
  {
   "cell_type": "code",
   "execution_count": null,
   "id": "15e1e244",
   "metadata": {},
   "outputs": [],
   "source": [
    "plt.plot(N2,h2, c=\"brown\", label='Refractivity')  ##Always after \"plt.plot\" is the x and y axis. So in this case it is Refractivity (N) and height data. Next, I change the color by using \"c=\". I then labeled the line using the \"label= \".\n",
    "plt.plot(N2,MLH2, c=\"black\", label='Mixing Layer Height')\n",
    "plt.xlabel('N')\n",
    "plt.xlim(180,np.amax(N2))\n",
    "plt.ylabel('Height (m)')\n",
    "plt.ylim(0,4000)\n",
    "plt.legend(loc=0)\n",
    "plt.title('Refractivity versus Height\\nSterling, VA - June 30, 2021 at 0 UTC')\n",
    "plt.grid(True) \n",
    "plt.savefig(\"0630202100ZR.png\")"
   ]
  },
  {
   "cell_type": "markdown",
   "id": "df01219b",
   "metadata": {},
   "source": [
    "## Importing the Data"
   ]
  },
  {
   "cell_type": "markdown",
   "id": "bffd7f34",
   "metadata": {},
   "source": [
    "### June 30 2021 at 12Z"
   ]
  },
  {
   "cell_type": "code",
   "execution_count": 56,
   "id": "a46fa2a6",
   "metadata": {},
   "outputs": [],
   "source": [
    "date30AT12Z = datetime(2021, 6, 30, 12) # Year, month, day, time\n",
    "station = 'IAD' # Three letter code "
   ]
  },
  {
   "cell_type": "code",
   "execution_count": 57,
   "id": "0ee592db",
   "metadata": {},
   "outputs": [],
   "source": [
    "df3 = WyomingUpperAir.request_data(date30AT12Z, station)"
   ]
  },
  {
   "cell_type": "code",
   "execution_count": 58,
   "id": "429c0bf9",
   "metadata": {},
   "outputs": [],
   "source": [
    "#df3 # This prints the table from the website. This is a Pandas data frame. Panda allows you to manipulate, join, and do operations on it"
   ]
  },
  {
   "cell_type": "code",
   "execution_count": 59,
   "id": "8c3dd48b",
   "metadata": {},
   "outputs": [
    {
     "data": {
      "text/html": [
       "<table><tbody><tr><th>Magnitude</th><td style='text-align:left;'><pre>[   93   166   201   263   305   610   711   853   914  1219  1524  1588<br>  1829  1896  2134  2234  2386  2438  2473  2743  2832  3227  3658  3674<br>  3962  4025  4267  4572  4592  4877  5486  5745  5930  6096  6810  7620<br>  7630  7993  8189  8574  8998  9144  9465  9720 10668 10784 10970 11278<br> 11887 12420 12802 12945 13106 13411 14200 14326 14529 15103 15240 16154<br> 16459 16579 16640 16764 17151 17374 17678 17689 17983 18288 18593 18840<br> 19202 19230 19507 19812 20117 20422 20930 21031 21084 21336 21946 22250<br> 22295 22555 23165 23330 24200 24308 24384 25053 25298 26276 26518 26840<br> 27432 28042 28079 28956 29261 29870 30175 30480 31090 31490 31699 31840]</pre></td></tr><tr><th>Units</th><td style='text-align:left;'>meter</td></tr></tbody></table>"
      ],
      "text/latex": [
       "$\\begin{pmatrix}93 & 166 & 201 & 263 & 305 & 610 & 711 & 853 & 914 & 1219 & 1524 & 1588 & 1829 & 1896 & 2134 & 2234 & 2386 & 2438 & 2473 & 2743 & 2832 & 3227 & 3658 & 3674 & 3962 & 4025 & 4267 & 4572 & 4592 & 4877 & 5486 & 5745 & 5930 & 6096 & 6810 & 7620 & 7630 & 7993 & 8189 & 8574 & 8998 & 9144 & 9465 & 9720 & 10668 & 10784 & 10970 & 11278 & 11887 & 12420 & 12802 & 12945 & 13106 & 13411 & 14200 & 14326 & 14529 & 15103 & 15240 & 16154 & 16459 & 16579 & 16640 & 16764 & 17151 & 17374 & 17678 & 17689 & 17983 & 18288 & 18593 & 18840 & 19202 & 19230 & 19507 & 19812 & 20117 & 20422 & 20930 & 21031 & 21084 & 21336 & 21946 & 22250 & 22295 & 22555 & 23165 & 23330 & 24200 & 24308 & 24384 & 25053 & 25298 & 26276 & 26518 & 26840 & 27432 & 28042 & 28079 & 28956 & 29261 & 29870 & 30175 & 30480 & 31090 & 31490 & 31699 & 31840\\end{pmatrix}\\ \\mathrm{meter}$"
      ],
      "text/plain": [
       "array([   93,   166,   201,   263,   305,   610,   711,   853,   914,\n",
       "        1219,  1524,  1588,  1829,  1896,  2134,  2234,  2386,  2438,\n",
       "        2473,  2743,  2832,  3227,  3658,  3674,  3962,  4025,  4267,\n",
       "        4572,  4592,  4877,  5486,  5745,  5930,  6096,  6810,  7620,\n",
       "        7630,  7993,  8189,  8574,  8998,  9144,  9465,  9720, 10668,\n",
       "       10784, 10970, 11278, 11887, 12420, 12802, 12945, 13106, 13411,\n",
       "       14200, 14326, 14529, 15103, 15240, 16154, 16459, 16579, 16640,\n",
       "       16764, 17151, 17374, 17678, 17689, 17983, 18288, 18593, 18840,\n",
       "       19202, 19230, 19507, 19812, 20117, 20422, 20930, 21031, 21084,\n",
       "       21336, 21946, 22250, 22295, 22555, 23165, 23330, 24200, 24308,\n",
       "       24384, 25053, 25298, 26276, 26518, 26840, 27432, 28042, 28079,\n",
       "       28956, 29261, 29870, 30175, 30480, 31090, 31490, 31699, 31840]) <Unit('meter')>"
      ]
     },
     "execution_count": 59,
     "metadata": {},
     "output_type": "execute_result"
    }
   ],
   "source": [
    "h3 = df3['height'].values * units(df.units['height']) # This line assigns the units to the values in the pandas dataframe. We will pull things into individual variables. We put '.values' at the end because I want just the array of numbers., not the whole data series or objects\n",
    "P3 = df3['pressure'].values *units(df.units['pressure']) # This line grabs the pressure array\n",
    "T_degC3 = df3['temperature'].values * units (df.units['temperature']) # This grabs the temperature array\n",
    "Td_degC3 = df3['dewpoint'].values * units (df.units['dewpoint']) # This grabs the dewpoint temperature array\n",
    "h3"
   ]
  },
  {
   "cell_type": "code",
   "execution_count": 60,
   "id": "f13f59ab",
   "metadata": {},
   "outputs": [],
   "source": [
    "T_kelvin3 = T_degC3.to('kelvin')\n",
    "Td_kelvin3 = Td_degC3.to('kelvin')"
   ]
  },
  {
   "cell_type": "code",
   "execution_count": 61,
   "id": "76420ff3",
   "metadata": {},
   "outputs": [],
   "source": [
    "Theta3 = mpcalc.potential_temperature(P3, T_kelvin3) # This line calculates the potential temperature in units of kelvin\n",
    "RH3 = mpcalc.relative_humidity_from_dewpoint(T_kelvin3, Td_kelvin3)*100 # This line calculates the Relative Humidity\n",
    "q3 = mpcalc.specific_humidity_from_dewpoint(P3, Td_kelvin3) # This line calculates the Specific Humidity\n",
    "mr3 = mpcalc.mixing_ratio_from_specific_humidity(q3) # This line calculates the Mixing Ratio\n",
    "e3 = mpcalc.vapor_pressure(P3, mr3) # This line calculates the water vapor pressure in hPa\n",
    "#static_stability = mpcalc.static_stability(P, T_kelvin, vertical_dim=0)"
   ]
  },
  {
   "cell_type": "code",
   "execution_count": 62,
   "id": "6d929ce6",
   "metadata": {},
   "outputs": [],
   "source": [
    "N3 = ((77.6)*(P3/T_kelvin3)).magnitude + ((3.73)*(10**5)*(e3/(T_kelvin3**2))).magnitude # There's a discrepancy between the units so I used '.magnitude'"
   ]
  },
  {
   "cell_type": "markdown",
   "id": "81404a95",
   "metadata": {},
   "source": [
    "# Gradient coding for June 30 at 12Z"
   ]
  },
  {
   "cell_type": "code",
   "execution_count": 63,
   "id": "a2eb0858",
   "metadata": {
    "scrolled": false
   },
   "outputs": [
    {
     "data": {
      "text/html": [
       "<table><tbody><tr><th>Magnitude</th><td style='text-align:left;'><pre>[263.0 263.0 263.0 263.0 263.0 263.0 263.0 263.0 263.0 263.0 263.0 263.0<br> 263.0 263.0 263.0 263.0 263.0 263.0 263.0 263.0 263.0 263.0 263.0 263.0<br> 263.0 263.0 263.0 263.0 263.0 263.0 263.0 263.0 263.0 263.0 263.0 263.0<br> 263.0 263.0 263.0 263.0 263.0 263.0 263.0 263.0 263.0 263.0 263.0 263.0<br> 263.0 263.0 263.0 263.0 263.0 263.0 263.0 263.0 263.0 263.0 263.0 263.0<br> 263.0 263.0 263.0 263.0 263.0 263.0 263.0 263.0 263.0 263.0 263.0 263.0<br> 263.0 263.0 263.0 263.0 263.0 263.0 263.0 263.0 263.0 263.0 263.0 263.0<br> 263.0 263.0 263.0 263.0 263.0 263.0 263.0 263.0 263.0 263.0 263.0 263.0<br> 263.0 263.0 263.0 263.0 263.0 263.0 263.0 263.0 263.0 263.0 263.0 263.0]</pre></td></tr><tr><th>Units</th><td style='text-align:left;'>meter</td></tr></tbody></table>"
      ],
      "text/latex": [
       "$\\begin{pmatrix}263.0 & 263.0 & 263.0 & 263.0 & 263.0 & 263.0 & 263.0 & 263.0 & 263.0 & 263.0 & 263.0 & 263.0 & 263.0 & 263.0 & 263.0 & 263.0 & 263.0 & 263.0 & 263.0 & 263.0 & 263.0 & 263.0 & 263.0 & 263.0 & 263.0 & 263.0 & 263.0 & 263.0 & 263.0 & 263.0 & 263.0 & 263.0 & 263.0 & 263.0 & 263.0 & 263.0 & 263.0 & 263.0 & 263.0 & 263.0 & 263.0 & 263.0 & 263.0 & 263.0 & 263.0 & 263.0 & 263.0 & 263.0 & 263.0 & 263.0 & 263.0 & 263.0 & 263.0 & 263.0 & 263.0 & 263.0 & 263.0 & 263.0 & 263.0 & 263.0 & 263.0 & 263.0 & 263.0 & 263.0 & 263.0 & 263.0 & 263.0 & 263.0 & 263.0 & 263.0 & 263.0 & 263.0 & 263.0 & 263.0 & 263.0 & 263.0 & 263.0 & 263.0 & 263.0 & 263.0 & 263.0 & 263.0 & 263.0 & 263.0 & 263.0 & 263.0 & 263.0 & 263.0 & 263.0 & 263.0 & 263.0 & 263.0 & 263.0 & 263.0 & 263.0 & 263.0 & 263.0 & 263.0 & 263.0 & 263.0 & 263.0 & 263.0 & 263.0 & 263.0 & 263.0 & 263.0 & 263.0 & 263.0\\end{pmatrix}\\ \\mathrm{meter}$"
      ],
      "text/plain": [
       "array([263., 263., 263., 263., 263., 263., 263., 263., 263., 263., 263.,\n",
       "       263., 263., 263., 263., 263., 263., 263., 263., 263., 263., 263.,\n",
       "       263., 263., 263., 263., 263., 263., 263., 263., 263., 263., 263.,\n",
       "       263., 263., 263., 263., 263., 263., 263., 263., 263., 263., 263.,\n",
       "       263., 263., 263., 263., 263., 263., 263., 263., 263., 263., 263.,\n",
       "       263., 263., 263., 263., 263., 263., 263., 263., 263., 263., 263.,\n",
       "       263., 263., 263., 263., 263., 263., 263., 263., 263., 263., 263.,\n",
       "       263., 263., 263., 263., 263., 263., 263., 263., 263., 263., 263.,\n",
       "       263., 263., 263., 263., 263., 263., 263., 263., 263., 263., 263.,\n",
       "       263., 263., 263., 263., 263., 263., 263., 263., 263.]) <Unit('meter')>"
      ]
     },
     "execution_count": 63,
     "metadata": {},
     "output_type": "execute_result"
    }
   ],
   "source": [
    "gradTheta3 = np.gradient(Theta3[0:25]) # I set the bounds from 0 meters to just over 4,000 meters. This is the function for finding the gradient. I attempeted using Metpy's gradient function, but I was getting errors\n",
    "gradTheta3 # This prints the gradient of the Potential Temperature array\n",
    "largestTheta3 = np.argsort(gradTheta3)[-10:] # This gives us the position of the largest 10 largest gradients for the potential temperature array\n",
    "largestTheta3 # This prints the positions of the largest 10 largest gradients for the potential temperature array\n",
    "\n",
    "# # The Theta[0:25] range of atmosphere positions are 18,  0, 16, 15, 24, 19,  4,  5,  3,  2\n",
    "\n",
    "gradRH3 = np.gradient(RH3[0:25]) # Bounds are set from 0 meters to just over 4,000 meters. This is the function for finding the gradient.\n",
    "gradRH3 # This prints the gradient of the Relative Humidity array\n",
    "smallestRH3 = np.argsort(gradRH3)[:10] # This sorts the Relative humidity gradient array from least to greatest and then picks the 10 smallest gradients of the array\n",
    "smallestRH3 # This line returns the positions of the 10 smallest gradients, or the first 10 gradients\n",
    "\n",
    "# The RH[0:25] range of atmosphere positions are 16, 15, 24,  2,  3, 23,  0, 14,  1, 17\n",
    "\n",
    "\n",
    "gradq3 = np.gradient(q3[0:25]) # Bounds are set from 0 meters to just over 4,000 meters. This is the function for finding the gradient.\n",
    "gradq3 # This prints the gradient of the Specific Humidity array\n",
    "smallestq3 = np.argsort(gradq3)[:10] # This sorts the Specific humidity gradient array from least to greatest and then picks the 10 smallest gradients of the array\n",
    "smallestq3 # This line returns the positions of the 10 smallest gradients, or the first 10 gradients\n",
    "\n",
    "# The q[0:25] range of atmosphere positions are 15, 16, 24, 14,  0, 13, 23,  2,  3,  1\n",
    "\n",
    "\n",
    "gradN3 = np.gradient(N3[0:25]) # Bounds are set from 0 meters to just over 4,000 meters. This is the function for finding the gradient.\n",
    "gradN3 # This prints the gradient of the Refractivity array\n",
    "smallestN3 = np.argsort(gradN3)[:10] # This sorts the Refractivity gradient array from least to greatest and then picks the 10 smallest gradients of the array\n",
    "smallestN3 # This line returns the positions of the 10 smallest gradients, or the first 10 gradients\n",
    "\n",
    "# The N[0:25] range of atmosphere positions are 15, 16, 24, 14,  9,  0, 13,  2,  3, 23\n",
    "\n",
    "#-----------------------------------------------------------------------------\n",
    "\n",
    "# I then want to print the height where at least three parameters had the same height when going in descending \n",
    "# order for potential temperature and ascending order for relative humidity, specific humidity and refractivity, \n",
    "# as that height is said to be the mixing layer height\n",
    "\n",
    "MLH3 = h3[3]\n",
    "MLH3 = np.ones(108)*MLH3\n",
    "MLH3"
   ]
  },
  {
   "cell_type": "markdown",
   "id": "499b60f7",
   "metadata": {},
   "source": [
    "# Print the Row of the Mixing Layer Height. This will be useful for the Machine Learning tool for MLH forecast estimations. "
   ]
  },
  {
   "cell_type": "code",
   "execution_count": 64,
   "id": "1d21666a",
   "metadata": {
    "scrolled": false
   },
   "outputs": [
    {
     "data": {
      "text/plain": [
       "pressure                        989.0\n",
       "height                            263\n",
       "temperature                      26.6\n",
       "dewpoint                         16.6\n",
       "direction                       271.0\n",
       "speed                             7.0\n",
       "u_wind                       6.998934\n",
       "v_wind                      -0.122167\n",
       "station                           IAD\n",
       "station_number                  72403\n",
       "time              2021-06-30 12:00:00\n",
       "latitude                        38.98\n",
       "longitude                      -77.46\n",
       "elevation                        93.0\n",
       "pw                              34.92\n",
       "Name: 3, dtype: object"
      ]
     },
     "execution_count": 64,
     "metadata": {},
     "output_type": "execute_result"
    }
   ],
   "source": [
    "df3.loc[3]"
   ]
  },
  {
   "cell_type": "markdown",
   "id": "1a5834af",
   "metadata": {},
   "source": [
    "## Plotting for June 30, 2021 at 12Z"
   ]
  },
  {
   "cell_type": "code",
   "execution_count": null,
   "id": "e5bdc3ea",
   "metadata": {},
   "outputs": [],
   "source": [
    "plt.plot(Theta3,h3, c=\"b\", label=\"Potential Temperature\")  ##Always after \"plt.plot\" is the x and y axis. So in this case it is Potential temperature (theta) and height data. Next, I change the color by using \"c=\". I then labeled the line using the \"label= \".\n",
    "plt.plot(Theta3,MLH3, c=\"black\", label=\"Mixing Layer Height\")\n",
    "plt.xlabel('Theta (K)')\n",
    "plt.xlim(295,315)\n",
    "plt.ylabel('Height (m)')\n",
    "plt.ylim(0,4000)\n",
    "plt.legend(loc=0)\n",
    "plt.title('Potential Temperature versus Height\\nSterling, VA - June 30,2021 at 12 UTC')\n",
    "plt.grid(True) \n",
    "plt.savefig(\"0630202112ZPT.png\")"
   ]
  },
  {
   "cell_type": "code",
   "execution_count": null,
   "id": "42a5e1fb",
   "metadata": {},
   "outputs": [],
   "source": [
    "plt.plot(RH3,h3, c=\"red\", label=\"Relative Humidity\")  ##Always after \"plt.plot\" is the x and y axis. So in this case it is Relative Humidity and height data. Next, I change the color by using \"c=\". I then labeled the line using the \"label= \".\n",
    "plt.plot(RH3,MLH3, c=\"black\", label=\"Mixing Layer Height\")\n",
    "plt.xlabel('Relative Humidity (%)')\n",
    "plt.xlim(20,np.amax(RH3))\n",
    "plt.ylabel('Height (m)')\n",
    "plt.ylim(0,4000)\n",
    "plt.legend(loc=0)\n",
    "plt.title('Relative Humidity versus Height\\nSterling, VA - June 30,2021 at 12 UTC')\n",
    "plt.grid(True)\n",
    "plt.savefig(\"0630202112ZRH.png\")"
   ]
  },
  {
   "cell_type": "code",
   "execution_count": null,
   "id": "59d5ee94",
   "metadata": {},
   "outputs": [],
   "source": [
    "plt.plot(q3,h3, c=\"green\",label=\"Specific Humidity\")  ##Always after \"plt.plot\" is the x and y axis. So in this case it is Specific Humidity (q) and height data. Next, I change the color by using \"c=\". I then labeled the line using the \"label= \".\n",
    "plt.plot(q3,MLH3, c=\"black\",label=\"Mixing Layer Height\")\n",
    "plt.xlabel('q (g/kg)')\n",
    "plt.xlim(0.002,np.amax(q3))\n",
    "plt.ylabel('Height (m)')\n",
    "plt.ylim(0,4000)\n",
    "plt.legend(loc=0)\n",
    "plt.title('Specific Humidity versus Height\\nSterling, VA - June 30,2021 at 12 UTC')\n",
    "plt.grid(True) \n",
    "plt.savefig(\"0630202112ZSH.png\")"
   ]
  },
  {
   "cell_type": "code",
   "execution_count": null,
   "id": "715dbeb7",
   "metadata": {},
   "outputs": [],
   "source": [
    "plt.plot(N3,h3, c=\"brown\",label='Refractivity')  ##Always after \"plt.plot\" is the x and y axis. So in this case it is Refractivity (N) and height data. Next, I change the color by using \"c=\". I then labeled the line using the \"label= \".\n",
    "plt.plot(N3,MLH3, c=\"black\",label='Mixing Layer Height')\n",
    "plt.xlabel('N')\n",
    "plt.xlim(180,np.amax(N3))\n",
    "plt.ylabel('Height (m)')\n",
    "plt.ylim(0,4000)\n",
    "plt.legend(loc=0)\n",
    "plt.title('Refractivity versus Height\\nSterling, VA - June 30,2021 at 12 UTC')\n",
    "plt.grid(True) \n",
    "plt.savefig(\"0630202112ZR.png\")"
   ]
  },
  {
   "cell_type": "markdown",
   "id": "8c7904d1",
   "metadata": {},
   "source": [
    "## Importing the Data"
   ]
  },
  {
   "cell_type": "markdown",
   "id": "574740df",
   "metadata": {},
   "source": [
    "### July 1 2021 at 00Z"
   ]
  },
  {
   "cell_type": "code",
   "execution_count": 65,
   "id": "9298e45c",
   "metadata": {},
   "outputs": [],
   "source": [
    "date01AT00Z = datetime(2021, 7, 1, 0) # Year, month, day, time\n",
    "station = 'IAD' # Three letter code "
   ]
  },
  {
   "cell_type": "code",
   "execution_count": 66,
   "id": "33e440fa",
   "metadata": {},
   "outputs": [],
   "source": [
    "df4 = WyomingUpperAir.request_data(date01AT00Z, station)"
   ]
  },
  {
   "cell_type": "code",
   "execution_count": 67,
   "id": "f968e65c",
   "metadata": {},
   "outputs": [],
   "source": [
    "#df4 # This prints the table from the website. This is a Pandas data frame. Panda allows you to manipulate, join, and do operations on it"
   ]
  },
  {
   "cell_type": "code",
   "execution_count": 68,
   "id": "45375083",
   "metadata": {},
   "outputs": [
    {
     "data": {
      "text/html": [
       "<table><tbody><tr><th>Magnitude</th><td style='text-align:left;'><pre>[   93   138   305   610   827   914  1219  1524  1563  1829  2134  2438<br>  2743  3204  3658  4267  4877  5900  6096  7600  7620  9144  9690 10668<br> 10950 12410 14190 15240 16650 18288 18850 20950 21336 24220 26890 27432<br> 30480 31550]</pre></td></tr><tr><th>Units</th><td style='text-align:left;'>meter</td></tr></tbody></table>"
      ],
      "text/latex": [
       "$\\begin{pmatrix}93 & 138 & 305 & 610 & 827 & 914 & 1219 & 1524 & 1563 & 1829 & 2134 & 2438 & 2743 & 3204 & 3658 & 4267 & 4877 & 5900 & 6096 & 7600 & 7620 & 9144 & 9690 & 10668 & 10950 & 12410 & 14190 & 15240 & 16650 & 18288 & 18850 & 20950 & 21336 & 24220 & 26890 & 27432 & 30480 & 31550\\end{pmatrix}\\ \\mathrm{meter}$"
      ],
      "text/plain": [
       "array([   93,   138,   305,   610,   827,   914,  1219,  1524,  1563,\n",
       "        1829,  2134,  2438,  2743,  3204,  3658,  4267,  4877,  5900,\n",
       "        6096,  7600,  7620,  9144,  9690, 10668, 10950, 12410, 14190,\n",
       "       15240, 16650, 18288, 18850, 20950, 21336, 24220, 26890, 27432,\n",
       "       30480, 31550]) <Unit('meter')>"
      ]
     },
     "execution_count": 68,
     "metadata": {},
     "output_type": "execute_result"
    }
   ],
   "source": [
    "h4 = df4['height'].values * units(df.units['height']) # This line assigns the units to the values in the pandas dataframe. We will pull things into individual variables. We put '.values' at the end because I want just the array of numbers., not the whole data series or objects\n",
    "P4 = df4['pressure'].values *units(df.units['pressure']) # This line grabs the pressure array\n",
    "T_degC4 = df4['temperature'].values * units (df.units['temperature']) # This grabs the temperature array\n",
    "Td_degC4 = df4['dewpoint'].values * units (df.units['dewpoint']) # This grabs the dewpoint temperature array\n",
    "h4"
   ]
  },
  {
   "cell_type": "code",
   "execution_count": 69,
   "id": "82e57063",
   "metadata": {},
   "outputs": [],
   "source": [
    "T_kelvin4 = T_degC4.to('kelvin')\n",
    "Td_kelvin4 = Td_degC4.to('kelvin')"
   ]
  },
  {
   "cell_type": "code",
   "execution_count": 70,
   "id": "42004938",
   "metadata": {},
   "outputs": [],
   "source": [
    "Theta4 = mpcalc.potential_temperature(P4, T_kelvin4) # This line calculates the potential temperature in units of kelvin\n",
    "RH4 = mpcalc.relative_humidity_from_dewpoint(T_kelvin4, Td_kelvin4)*100 # This line calculates the Relative Humidity\n",
    "q4 = mpcalc.specific_humidity_from_dewpoint(P4, Td_kelvin4) # This line calculates the Specific Humidity\n",
    "mr4 = mpcalc.mixing_ratio_from_specific_humidity(q4) # This line calculates the Mixing Ratio\n",
    "e4 = mpcalc.vapor_pressure(P4, mr4) # This line calculates the water vapor pressure in hPa\n",
    "#static_stability = mpcalc.static_stability(P, T_kelvin, vertical_dim=0)"
   ]
  },
  {
   "cell_type": "code",
   "execution_count": 71,
   "id": "686a5e00",
   "metadata": {},
   "outputs": [],
   "source": [
    "N4 = ((77.6)*(P4/T_kelvin4)).magnitude + ((3.73)*(10**5)*(e4/(T_kelvin4**2))).magnitude # This line calculates the refractivity"
   ]
  },
  {
   "cell_type": "markdown",
   "id": "a14e7ef6",
   "metadata": {},
   "source": [
    "# Gradient coding for July 1 at 00Z"
   ]
  },
  {
   "cell_type": "code",
   "execution_count": 72,
   "id": "bd9ab995",
   "metadata": {
    "scrolled": true
   },
   "outputs": [
    {
     "data": {
      "text/html": [
       "<table><tbody><tr><th>Magnitude</th><td style='text-align:left;'><pre>[138.0 138.0 138.0 138.0 138.0 138.0 138.0 138.0 138.0 138.0 138.0 138.0<br> 138.0 138.0 138.0 138.0 138.0 138.0 138.0 138.0 138.0 138.0 138.0 138.0<br> 138.0 138.0 138.0 138.0 138.0 138.0 138.0 138.0 138.0 138.0 138.0 138.0<br> 138.0 138.0]</pre></td></tr><tr><th>Units</th><td style='text-align:left;'>meter</td></tr></tbody></table>"
      ],
      "text/latex": [
       "$\\begin{pmatrix}138.0 & 138.0 & 138.0 & 138.0 & 138.0 & 138.0 & 138.0 & 138.0 & 138.0 & 138.0 & 138.0 & 138.0 & 138.0 & 138.0 & 138.0 & 138.0 & 138.0 & 138.0 & 138.0 & 138.0 & 138.0 & 138.0 & 138.0 & 138.0 & 138.0 & 138.0 & 138.0 & 138.0 & 138.0 & 138.0 & 138.0 & 138.0 & 138.0 & 138.0 & 138.0 & 138.0 & 138.0 & 138.0\\end{pmatrix}\\ \\mathrm{meter}$"
      ],
      "text/plain": [
       "array([138., 138., 138., 138., 138., 138., 138., 138., 138., 138., 138.,\n",
       "       138., 138., 138., 138., 138., 138., 138., 138., 138., 138., 138.,\n",
       "       138., 138., 138., 138., 138., 138., 138., 138., 138., 138., 138.,\n",
       "       138., 138., 138., 138., 138.]) <Unit('meter')>"
      ]
     },
     "execution_count": 72,
     "metadata": {},
     "output_type": "execute_result"
    }
   ],
   "source": [
    "gradTheta4 = np.gradient(Theta4[0:15]) # I set the bounds from 0 meters to just over 4,000 meters. This is the function for finding the gradient. I attempeted using Metpy's gradient function, but I was getting errors\n",
    "gradTheta4 # This prints the gradient of the Potential Temperature array\n",
    "largestTheta4 = np.argsort(gradTheta4)[-10:] # This gives us the position of the largest 10 largest gradients for the potential temperature array\n",
    "largestTheta4 # This prints the positions of the largest 10 largest gradients for the potential temperature array\n",
    "\n",
    "# # The Theta[0:15] range of atmosphere positions are 1,  4, 10,  0, 12,  1, 13, 14,  2,  3\n",
    "\n",
    "gradRH4 = np.gradient(RH4[0:15]) # Bounds are set from 0 meters to just over 4,000 meters. This is the function for finding the gradient.\n",
    "gradRH4 # This prints the gradient of the Relative Humidity array\n",
    "smallestRH4 = np.argsort(gradRH4)[:10] # This sorts the Relative humidity gradient array from least to greatest and then picks the 10 smallest gradients of the array\n",
    "smallestRH4 # This line returns the positions of the 10 smallest gradients, or the first 10 gradients\n",
    "\n",
    "# The RH[0:15] range of atmosphere positions are 0,  1,  3,  2,  4, 12, 11, 10,  9,  8\n",
    "\n",
    "\n",
    "gradq4 = np.gradient(q4[0:15]) # Bounds are set from 0 meters to just over 4,000 meters. This is the function for finding the gradient.\n",
    "gradq4 # This prints the gradient of the Specific Humidity array\n",
    "smallestq4 = np.argsort(gradq4)[:10] # This sorts the Specific humidity gradient array from least to greatest and then picks the 10 smallest gradients of the array\n",
    "smallestq4 # This line returns the positions of the 10 smallest gradients, or the first 10 gradients\n",
    "\n",
    "# The q[0:15] range of atmosphere positions are 0,  3,  2,  1, 12, 10,  9, 13, 11, 14\n",
    "\n",
    "\n",
    "gradN4 = np.gradient(N4[0:15]) # Bounds are set from 0 meters to just over 4,000 meters. This is the function for finding the gradient.\n",
    "gradN4 # This prints the gradient of the Refractivity array\n",
    "smallestN4 = np.argsort(gradN4)[:10] # This sorts the Refractivity gradient array from least to greatest and then picks the 10 smallest gradients of the array\n",
    "smallestN4 # This line returns the positions of the 10 smallest gradients, or the first 10 gradients\n",
    "\n",
    "# The N[0:15] range of atmosphere positions are 3,  2, 13, 12, 14, 10,  9, 11,  1,  0\n",
    "\n",
    "#-----------------------------------------------------------------------------\n",
    "\n",
    "# I then want to print the height where at least three parameters had the same height when going in descending \n",
    "# order for potential temperature and ascending order for relative humidity, specific humidity and refractivity, \n",
    "# as that height is said to be the mixing layer height\n",
    "\n",
    "MLH4 = h4[1] \n",
    "MLH4 = np.ones(38)*MLH4\n",
    "MLH4"
   ]
  },
  {
   "cell_type": "code",
   "execution_count": null,
   "id": "9e63021e",
   "metadata": {},
   "outputs": [],
   "source": []
  },
  {
   "cell_type": "markdown",
   "id": "3b181c9b",
   "metadata": {},
   "source": [
    "# Print the Row of the Mixing Layer Height. This will be useful for the Machine Learning tool for MLH forecast estimations. "
   ]
  },
  {
   "cell_type": "code",
   "execution_count": 73,
   "id": "a926d8d1",
   "metadata": {
    "scrolled": false
   },
   "outputs": [
    {
     "data": {
      "text/plain": [
       "pressure                       1000.0\n",
       "height                            138\n",
       "temperature                      24.6\n",
       "dewpoint                         20.1\n",
       "direction                         270\n",
       "speed                               7\n",
       "u_wind                            7.0\n",
       "v_wind                            0.0\n",
       "station                           IAD\n",
       "station_number                  72403\n",
       "time              2021-07-01 00:00:00\n",
       "latitude                        38.98\n",
       "longitude                      -77.46\n",
       "elevation                        93.0\n",
       "pw                               47.8\n",
       "Name: 1, dtype: object"
      ]
     },
     "execution_count": 73,
     "metadata": {},
     "output_type": "execute_result"
    }
   ],
   "source": [
    "df4.loc[1]"
   ]
  },
  {
   "cell_type": "markdown",
   "id": "7d747dba",
   "metadata": {},
   "source": [
    "## Plotting for July 1, 2021 at 00Z"
   ]
  },
  {
   "cell_type": "code",
   "execution_count": null,
   "id": "e990a73a",
   "metadata": {},
   "outputs": [],
   "source": [
    "plt.plot(Theta4,h4, c=\"b\", label=\"Potential Temperature\")  ##Always after \"plt.plot\" is the x and y axis. So in this case it is Potential temperature (theta) and height data. Next, I change the color by using \"c=\". I then labeled the line using the \"label= \".\n",
    "plt.plot(Theta4,MLH4, c=\"black\", label=\"Mixing Layer Height\")\n",
    "plt.xlabel('Theta (K)')\n",
    "plt.xlim(np.amin(Theta4),340)\n",
    "plt.ylabel('Height (m)')\n",
    "plt.ylim(0,10000)\n",
    "plt.legend(loc=0)\n",
    "plt.title('Potential Temperature versus Height\\nSterling, VA - July 1, 2021 at 0 UTC')\n",
    "plt.grid(True) \n",
    "plt.savefig(\"0701202100ZPT.png\")"
   ]
  },
  {
   "cell_type": "code",
   "execution_count": null,
   "id": "6ba1e06a",
   "metadata": {},
   "outputs": [],
   "source": [
    "plt.plot(RH4,h4, c=\"red\", label=\"Relative Humidity\")  ##Always after \"plt.plot\" is the x and y axis. So in this case it is Relative Humidity and height data. Next, I change the color by using \"c=\". I then labeled the line using the \"label= \".\n",
    "plt.plot(RH4,MLH4, c=\"black\", label=\"Mixing Layer Height\")\n",
    "plt.xlabel('Relative Humidity (%)')\n",
    "plt.xlim(53,np.amax(RH4))\n",
    "plt.ylabel('Height (m)')\n",
    "plt.ylim(0,4000)\n",
    "plt.legend(loc=0)\n",
    "plt.title('Relative Humidity versus Height\\nSterling, VA - July 1, 2021 at 0 UTC')\n",
    "plt.grid(True)\n",
    "plt.savefig(\"0701202100ZRH.png\")"
   ]
  },
  {
   "cell_type": "code",
   "execution_count": null,
   "id": "e2ab6b37",
   "metadata": {},
   "outputs": [],
   "source": [
    "plt.plot(q4,h4, c=\"green\",label='Specifc Humidity')  ##Always after \"plt.plot\" is the x and y axis. So in this case it is Specific Humidity (q) and height data. Next, I change the color by using \"c=\". I then labeled the line using the \"label= \".\n",
    "plt.plot(q4,MLH4, c=\"black\",label='Mixing Layer Height')\n",
    "plt.xlabel('q (g/kg)')\n",
    "plt.xlim(0.005,np.amax(q4))\n",
    "plt.ylabel('Height (m)')\n",
    "plt.ylim(0,4000)\n",
    "plt.legend(loc=0)\n",
    "plt.title('Specific Humidity versus Height\\nSterling, VA - July 1, 2021 at 0 UTC')\n",
    "plt.grid(True) \n",
    "plt.savefig(\"0701202100ZSH.png\")"
   ]
  },
  {
   "cell_type": "code",
   "execution_count": null,
   "id": "ca1d4864",
   "metadata": {},
   "outputs": [],
   "source": [
    "plt.plot(N4,h4, c=\"brown\",label='Refractivity')  ##Always after \"plt.plot\" is the x and y axis. So in this case it is Refractivity (N) and height data. Next, I change the color by using \"c=\". I then labeled the line using the \"label= \".\n",
    "plt.plot(N4,MLH4, c=\"black\",label='Mixing Layer Height')\n",
    "plt.xlabel('N')\n",
    "plt.xlim(200,np.amax(N4))\n",
    "plt.ylabel('Height (m)')\n",
    "plt.ylim(0,4000)\n",
    "plt.legend(loc=0)\n",
    "plt.title('Refractivity versus Height\\nSterling, VA - July 1, 2021 at 0 UTC')\n",
    "plt.grid(True) \n",
    "plt.savefig(\"0701202100ZR.png\")"
   ]
  },
  {
   "cell_type": "markdown",
   "id": "c2a315fc",
   "metadata": {},
   "source": [
    "## Importing the Data"
   ]
  },
  {
   "cell_type": "markdown",
   "id": "97e3d401",
   "metadata": {},
   "source": [
    "### July 1 2021 at 12Z"
   ]
  },
  {
   "cell_type": "code",
   "execution_count": 92,
   "id": "ceff67d4",
   "metadata": {},
   "outputs": [],
   "source": [
    "date01AT12Z = datetime(2021, 7, 1, 12) # Year, month, day, time\n",
    "station = 'IAD' # Three letter code "
   ]
  },
  {
   "cell_type": "code",
   "execution_count": 93,
   "id": "7c022fcd",
   "metadata": {},
   "outputs": [],
   "source": [
    "df5 = WyomingUpperAir.request_data(date01AT12Z, station)"
   ]
  },
  {
   "cell_type": "code",
   "execution_count": 94,
   "id": "2baf7728",
   "metadata": {},
   "outputs": [],
   "source": [
    "#df5 # This prints the table from the website. This is a Pandas data frame. Panda allows you to manipulate, join, and do operations on it"
   ]
  },
  {
   "cell_type": "code",
   "execution_count": 95,
   "id": "6f6b787b",
   "metadata": {},
   "outputs": [
    {
     "data": {
      "text/html": [
       "<table><tbody><tr><th>Magnitude</th><td style='text-align:left;'><pre>[   93   120   173   306   610   802   811   914  1219  1524  1531  1611<br>  1829  2134  2438  2743  2834  3158  3658  3962  4267  4517  4877  4889<br>  4987  5030  5101  5182  5409  5850  5881  5959  6096  6263  6713  6850<br>  7257  7550  7620  8230  8510  8839  9130  9144  9286  9468  9630  9754<br> 10058 10163 10668 10890 11162 11278 12192 12340 12802 13310 13716 14110<br> 14151 14799 15240 15545 15838 16154 16529 16590 16764 17374 17678 17983<br> 18288 18593 18800 18898 19202 20422 20438 20910 21012 21031 21336 21641<br> 22250 22555 24079 24190 24384 24994 25179 25298 25603 26656 26850 27432<br> 27737 28346 29566 29870 30480 30738 30785 31090 31510 31788 32004 32387<br> 32918 33528 33688]</pre></td></tr><tr><th>Units</th><td style='text-align:left;'>meter</td></tr></tbody></table>"
      ],
      "text/latex": [
       "$\\begin{pmatrix}93 & 120 & 173 & 306 & 610 & 802 & 811 & 914 & 1219 & 1524 & 1531 & 1611 & 1829 & 2134 & 2438 & 2743 & 2834 & 3158 & 3658 & 3962 & 4267 & 4517 & 4877 & 4889 & 4987 & 5030 & 5101 & 5182 & 5409 & 5850 & 5881 & 5959 & 6096 & 6263 & 6713 & 6850 & 7257 & 7550 & 7620 & 8230 & 8510 & 8839 & 9130 & 9144 & 9286 & 9468 & 9630 & 9754 & 10058 & 10163 & 10668 & 10890 & 11162 & 11278 & 12192 & 12340 & 12802 & 13310 & 13716 & 14110 & 14151 & 14799 & 15240 & 15545 & 15838 & 16154 & 16529 & 16590 & 16764 & 17374 & 17678 & 17983 & 18288 & 18593 & 18800 & 18898 & 19202 & 20422 & 20438 & 20910 & 21012 & 21031 & 21336 & 21641 & 22250 & 22555 & 24079 & 24190 & 24384 & 24994 & 25179 & 25298 & 25603 & 26656 & 26850 & 27432 & 27737 & 28346 & 29566 & 29870 & 30480 & 30738 & 30785 & 31090 & 31510 & 31788 & 32004 & 32387 & 32918 & 33528 & 33688\\end{pmatrix}\\ \\mathrm{meter}$"
      ],
      "text/plain": [
       "array([   93,   120,   173,   306,   610,   802,   811,   914,  1219,\n",
       "        1524,  1531,  1611,  1829,  2134,  2438,  2743,  2834,  3158,\n",
       "        3658,  3962,  4267,  4517,  4877,  4889,  4987,  5030,  5101,\n",
       "        5182,  5409,  5850,  5881,  5959,  6096,  6263,  6713,  6850,\n",
       "        7257,  7550,  7620,  8230,  8510,  8839,  9130,  9144,  9286,\n",
       "        9468,  9630,  9754, 10058, 10163, 10668, 10890, 11162, 11278,\n",
       "       12192, 12340, 12802, 13310, 13716, 14110, 14151, 14799, 15240,\n",
       "       15545, 15838, 16154, 16529, 16590, 16764, 17374, 17678, 17983,\n",
       "       18288, 18593, 18800, 18898, 19202, 20422, 20438, 20910, 21012,\n",
       "       21031, 21336, 21641, 22250, 22555, 24079, 24190, 24384, 24994,\n",
       "       25179, 25298, 25603, 26656, 26850, 27432, 27737, 28346, 29566,\n",
       "       29870, 30480, 30738, 30785, 31090, 31510, 31788, 32004, 32387,\n",
       "       32918, 33528, 33688]) <Unit('meter')>"
      ]
     },
     "execution_count": 95,
     "metadata": {},
     "output_type": "execute_result"
    }
   ],
   "source": [
    "h5 = df5['height'].values * units(df.units['height']) # This line assigns the units to the values in the pandas dataframe. We will pull things into individual variables. We put '.values' at the end because I want just the array of numbers., not the whole data series or objects\n",
    "P5 = df5['pressure'].values *units(df.units['pressure']) # This line grabs the pressure array\n",
    "T_degC5 = df5['temperature'].values * units (df.units['temperature']) # This grabs the temperature array\n",
    "Td_degC5 = df5['dewpoint'].values * units (df.units['dewpoint']) # This grabs the dewpoint temperature array\n",
    "h5"
   ]
  },
  {
   "cell_type": "code",
   "execution_count": 96,
   "id": "70e54602",
   "metadata": {},
   "outputs": [],
   "source": [
    "T_kelvin5 = T_degC5.to('kelvin')\n",
    "Td_kelvin5 = Td_degC5.to('kelvin')"
   ]
  },
  {
   "cell_type": "code",
   "execution_count": 97,
   "id": "ec36e334",
   "metadata": {},
   "outputs": [],
   "source": [
    "Theta5 = mpcalc.potential_temperature(P5, T_kelvin5) # This line calculates the potential temperature in units of kelvin\n",
    "RH5 = mpcalc.relative_humidity_from_dewpoint(T_kelvin5, Td_kelvin5)*100 # This line calculates the Relative Humidity\n",
    "q5 = mpcalc.specific_humidity_from_dewpoint(P5, Td_kelvin5) # This line calculates the Specific Humidity\n",
    "mr5 = mpcalc.mixing_ratio_from_specific_humidity(q5) # This line calculates the Mixing Ratio\n",
    "e5 = mpcalc.vapor_pressure(P5, mr5) # This line calculates the water vapor pressure in hPa\n",
    "#static_stability = mpcalc.static_stability(P, T_kelvin, vertical_dim=0)"
   ]
  },
  {
   "cell_type": "code",
   "execution_count": 98,
   "id": "1354a177",
   "metadata": {},
   "outputs": [],
   "source": [
    "N5 = ((77.6)*(P5/T_kelvin5)).magnitude + ((3.73)*(10**5)*(e5/(T_kelvin5**2))).magnitude # This line calculates the refractivity"
   ]
  },
  {
   "cell_type": "markdown",
   "id": "166f5b60",
   "metadata": {},
   "source": [
    "# Gradient coding for July 1 at 12Z"
   ]
  },
  {
   "cell_type": "code",
   "execution_count": 101,
   "id": "908371b5",
   "metadata": {},
   "outputs": [
    {
     "data": {
      "text/plain": [
       "array([ 3, 17, 13, 18, 14, 12,  2,  4,  8, 19])"
      ]
     },
     "execution_count": 101,
     "metadata": {},
     "output_type": "execute_result"
    }
   ],
   "source": [
    "gradTheta5 = np.gradient(Theta5[0:20]) # I set the bounds from 0 meters to just over 4,000 meters. This is the function for finding the gradient. I attempeted using Metpy's gradient function, but I was getting errors\n",
    "gradTheta5 # This prints the gradient of the Potential Temperature array\n",
    "largestTheta5 = np.argsort(gradTheta5)[-10:] # This gives us the position of the largest 10 largest gradients for the potential temperature array\n",
    "largestTheta5 # This prints the positions of the largest 10 largest gradients for the potential temperature array\n",
    "\n",
    "# The Theta[0:20] range of atmosphere positions are 15, 19, 12,  2, 17, 18, 14, 13,  4,  3\n",
    "\n",
    "gradRH5 = np.gradient(RH5[0:20]) # Bounds are set from 0 meters to just over 4,000 meters. This is the function for finding the gradient.\n",
    "gradRH5 # This prints the gradient of the Relative Humidity array\n",
    "smallestRH5 = np.argsort(gradRH5)[:10] # This sorts the Relative humidity gradient array from least to greatest and then picks the 10 smallest gradients of the array\n",
    "smallestRH5 # This line returns the positions of the 10 smallest gradients, or the first 10 gradients\n",
    "\n",
    "# The RH[0:20] range of atmosphere positions are 2,  3, 14, 13, 12, 15, 18, 19, 11,  4\n",
    "\n",
    "\n",
    "gradq5 = np.gradient(q5[0:20]) # Bounds are set from 0 meters to just over 4,000 meters. This is the function for finding the gradient.\n",
    "gradq5 # This prints the gradient of the Specific Humidity array\n",
    "smallestq5 = np.argsort(gradq5)[:10] # This sorts the Specific humidity gradient array from least to greatest and then picks the 10 smallest gradients of the array\n",
    "smallestq5 # This line returns the positions of the 10 smallest gradients, or the first 10 gradients\n",
    "\n",
    "# The q[0:20] range of atmosphere positions are 2, 17, 18, 13,  3, 14, 12, 19, 15, 16\n",
    "\n",
    "\n",
    "gradN5 = np.gradient(N5[0:20]) # Bounds are set from 0 meters to just over 4,000 meters. This is the function for finding the gradient.\n",
    "gradN5 # This prints the gradient of the Refractivity array\n",
    "smallestN5 = np.argsort(gradN5)[:10] # This sorts the Refractivity gradient array from least to greatest and then picks the 10 smallest gradients of the array\n",
    "smallestN5 # This line returns the positions of the 10 smallest gradients, or the first 10 gradients\n",
    "\n",
    "# The N[0:20] range of atmosphere positions are 3, 17, 13, 18, 14, 12,  2,  4,  8, 19\n",
    "\n",
    "#-----------------------------------------------------------------------------\n",
    "\n",
    "# I then want to print the height where at least three parameters had the same height when going in descending \n",
    "# order for potential temperature and ascending order for relative humidity, specific humidity and refractivity, \n",
    "# as that height is said to be the mixing layer height\n",
    "\n",
    "#h5[]"
   ]
  },
  {
   "cell_type": "markdown",
   "id": "1b967d63",
   "metadata": {},
   "source": [
    "## Plotting for July 1, 2021 at 12Z"
   ]
  },
  {
   "cell_type": "code",
   "execution_count": null,
   "id": "baad2264",
   "metadata": {},
   "outputs": [],
   "source": [
    "plt.plot(Theta5,h5, c=\"b\", label=\"Potential Temperature\")  ##Always after \"plt.plot\" is the x and y axis. So in this case it is Potential temperature (theta) and height data. Next, I change the color by using \"c=\". I then labeled the line using the \"label= \".\n",
    "plt.xlabel('Theta (K)')\n",
    "plt.xlim(np.amin(Theta5),315)\n",
    "plt.ylabel('Height (m)')\n",
    "plt.ylim(0,4000)\n",
    "plt.legend(loc=0)\n",
    "plt.title('Potential Temperature versus Height\\nSterling, VA - July 1, 2021 at 12 UTC')\n",
    "plt.grid(True) \n",
    "plt.savefig(\"0701202112ZPT.png\")"
   ]
  },
  {
   "cell_type": "code",
   "execution_count": null,
   "id": "9aac2844",
   "metadata": {},
   "outputs": [],
   "source": [
    "plt.plot(RH5,h5, c=\"red\", label=\"Relative Humidity\")  ##Always after \"plt.plot\" is the x and y axis. So in this case it is Relative Humidity and height data. Next, I change the color by using \"c=\". I then labeled the line using the \"label= \".\n",
    "plt.xlabel('Relative Humidity (%)')\n",
    "plt.xlim(74,np.amax(RH5))\n",
    "plt.ylabel('Height (m)')\n",
    "plt.ylim(0,4000)\n",
    "plt.legend(loc=0)\n",
    "plt.title('Relative Humidity versus Height\\nSterling, VA - July 1, 2021 at 12 UTC')\n",
    "plt.grid(True)\n",
    "plt.savefig(\"0701202112ZRH.png\")"
   ]
  },
  {
   "cell_type": "code",
   "execution_count": null,
   "id": "c70e076e",
   "metadata": {},
   "outputs": [],
   "source": [
    "plt.plot(q5,h5, c=\"green\",label='Specific Humidity')  ##Always after \"plt.plot\" is the x and y axis. So in this case it is Specific Humidity (q) and height data. Next, I change the color by using \"c=\". I then labeled the line using the \"label= \".\n",
    "plt.xlabel('q (g/kg)')\n",
    "plt.xlim(0.005,np.amax(q5))\n",
    "plt.ylabel('Height (m)')\n",
    "plt.ylim(0,4000)\n",
    "plt.legend(loc=0)\n",
    "plt.title('Specific Humidity versus Height\\nSterling, VA - July 1, 2021 at 12 UTC')\n",
    "plt.grid(True) \n",
    "plt.savefig(\"0701202112ZSH.png\")"
   ]
  },
  {
   "cell_type": "code",
   "execution_count": null,
   "id": "182e8dc2",
   "metadata": {},
   "outputs": [],
   "source": [
    "plt.plot(N5,h5, c=\"brown\",label='Refractivity')  ##Always after \"plt.plot\" is the x and y axis. So in this case it is Refractivity (N) and height data. Next, I change the color by using \"c=\". I then labeled the line using the \"label= \".\n",
    "plt.xlabel('N')\n",
    "plt.xlim(200,np.amax(N5))\n",
    "plt.ylabel('Height (m)')\n",
    "plt.ylim(0,4000)\n",
    "plt.legend(loc=0)\n",
    "plt.title('Refractivity versus Height\\nSterling, VA - July 1, 2021 at 12 UTC')\n",
    "plt.grid(True) \n",
    "plt.savefig(\"0701202112ZR.png\")"
   ]
  },
  {
   "cell_type": "markdown",
   "id": "f4c8f9c1",
   "metadata": {},
   "source": [
    "## Importing the Data"
   ]
  },
  {
   "cell_type": "markdown",
   "id": "06b064c7",
   "metadata": {},
   "source": [
    "### July 2 2021 at 00Z"
   ]
  },
  {
   "cell_type": "code",
   "execution_count": null,
   "id": "fd1de564",
   "metadata": {},
   "outputs": [],
   "source": [
    "date02AT00Z = datetime(2021, 7, 2, 0) # Year, month, day, time\n",
    "station = 'IAD' # Three letter code "
   ]
  },
  {
   "cell_type": "code",
   "execution_count": null,
   "id": "8035979a",
   "metadata": {},
   "outputs": [],
   "source": [
    "df6 = WyomingUpperAir.request_data(date02AT00Z, station)"
   ]
  },
  {
   "cell_type": "code",
   "execution_count": null,
   "id": "342db126",
   "metadata": {},
   "outputs": [],
   "source": [
    "#df6 # This prints the table from the website. This is a Pandas data frame. Panda allows you to manipulate, join, and do operations on it"
   ]
  },
  {
   "cell_type": "code",
   "execution_count": null,
   "id": "d1f6047e",
   "metadata": {},
   "outputs": [],
   "source": [
    "h6 = df6['height'].values * units(df.units['height']) # This line assigns the units to the values in the pandas dataframe. We will pull things into individual variables. We put '.values' at the end because I want just the array of numbers., not the whole data series or objects\n",
    "P6 = df6['pressure'].values *units(df.units['pressure']) # This line grabs the pressure array\n",
    "T_degC6 = df6['temperature'].values * units (df.units['temperature']) # This grabs the temperature array\n",
    "Td_degC6 = df6['dewpoint'].values * units (df.units['dewpoint']) # This grabs the dewpoint temperature array\n",
    "h6"
   ]
  },
  {
   "cell_type": "code",
   "execution_count": null,
   "id": "33be983d",
   "metadata": {},
   "outputs": [],
   "source": [
    "T_kelvin6 = T_degC6.to('kelvin')\n",
    "Td_kelvin6 = Td_degC6.to('kelvin')"
   ]
  },
  {
   "cell_type": "code",
   "execution_count": null,
   "id": "6e4b6afd",
   "metadata": {},
   "outputs": [],
   "source": [
    "Theta6 = mpcalc.potential_temperature(P6, T_kelvin6) # This line calculates the potential temperature in units of kelvin\n",
    "RH6 = mpcalc.relative_humidity_from_dewpoint(T_kelvin6, Td_kelvin6)*100 # This line calculates the Relative Humidity\n",
    "q6 = mpcalc.specific_humidity_from_dewpoint(P6, Td_kelvin6) # This line calculates the Specific Humidity\n",
    "mr6 = mpcalc.mixing_ratio_from_specific_humidity(q6) # This line calculates the Mixing Ratio\n",
    "e6 = mpcalc.vapor_pressure(P6, mr6) # This line calculates the water vapor pressure in hPa\n",
    "#static_stability = mpcalc.static_stability(P, T_kelvin, vertical_dim=0)"
   ]
  },
  {
   "cell_type": "code",
   "execution_count": null,
   "id": "33b93166",
   "metadata": {},
   "outputs": [],
   "source": [
    "N6 = ((77.6)*(P6/T_kelvin6)).magnitude + ((3.73)*(10**5)*(e6/(T_kelvin6**2))).magnitude # This line calculates the refractivity"
   ]
  },
  {
   "cell_type": "markdown",
   "id": "c1c174c2",
   "metadata": {},
   "source": [
    "# Gradient coding for July 2 at 00Z"
   ]
  },
  {
   "cell_type": "code",
   "execution_count": null,
   "id": "430cc3a2",
   "metadata": {},
   "outputs": [],
   "source": [
    "gradTheta6 = np.gradient(Theta6[0:20]) # I set the bounds from 0 meters to just over 4,000 meters. This is the function for finding the gradient. I attempeted using Metpy's gradient function, but I was getting errors\n",
    "gradTheta6 # This prints the gradient of the Potential Temperature array\n",
    "largestTheta6 = np.argsort(gradTheta6)[-10:] # This gives us the position of the largest 10 largest gradients for the potential temperature array\n",
    "largestTheta6 # This prints the positions of the largest 10 largest gradients for the potential temperature array\n",
    "\n",
    "# The Theta[0:20] range of atmosphere positions are 0,  2, 16, 18,  1, 17, 13, 10, 11, 12\n",
    "\n",
    "gradRH6 = np.gradient(RH6[0:20]) # Bounds are set from 0 meters to just over 4,000 meters. This is the function for finding the gradient.\n",
    "gradRH6 # This prints the gradient of the Relative Humidity array\n",
    "smallestRH6 = np.argsort(gradRH6)[:10] # This sorts the Relative humidity gradient array from least to greatest and then picks the 10 smallest gradients of the array\n",
    "smallestRH6 # This line returns the positions of the 10 smallest gradients, or the first 10 gradients\n",
    "\n",
    "# The RH[0:20] range of atmosphere positions are 14,  1,  3,  2,  0, 15, 12, 11,  4, 10\n",
    "\n",
    "\n",
    "gradq6 = np.gradient(q6[0:20]) # Bounds are set from 0 meters to just over 4,000 meters. This is the function for finding the gradient.\n",
    "gradq6 # This prints the gradient of the Specific Humidity array\n",
    "smallestq6 = np.argsort(gradq6)[:10] # This sorts the Specific humidity gradient array from least to greatest and then picks the 10 smallest gradients of the array\n",
    "smallestq6 # This line returns the positions of the 10 smallest gradients, or the first 10 gradients\n",
    "\n",
    "# The q[0:20] range of atmosphere positions are 1,  0,  2,  3, 11, 12, 14, 10, 15,  4\n",
    "\n",
    "\n",
    "gradN6 = np.gradient(N6[0:20]) # Bounds are set from 0 meters to just over 4,000 meters. This is the function for finding the gradient.\n",
    "gradN6 # This prints the gradient of the Refractivity array\n",
    "smallestN6 = np.argsort(gradN6)[:10] # This sorts the Refractivity gradient array from least to greatest and then picks the 10 smallest gradients of the array\n",
    "smallestN6 # This line returns the positions of the 10 smallest gradients, or the first 10 gradients\n",
    "\n",
    "# The N[0:20] range of atmosphere positions are 1,  0,  2, 11, 12, 10,  6,  3, 15, 13\n",
    "\n",
    "#-----------------------------------------------------------------------------\n",
    "\n",
    "# I then want to print the height where at least three parameters had the same height when going in descending \n",
    "# order for potential temperature and ascending order for relative humidity, specific humidity and refractivity, \n",
    "# as that height is said to be the mixing layer height\n",
    "\n",
    "#h6[]"
   ]
  },
  {
   "cell_type": "markdown",
   "id": "a40a1089",
   "metadata": {},
   "source": [
    "## Plotting for July 2, 2021 at 00Z"
   ]
  },
  {
   "cell_type": "code",
   "execution_count": null,
   "id": "7ba70fa3",
   "metadata": {},
   "outputs": [],
   "source": [
    "plt.plot(Theta6,h6, c=\"b\", label=\"Potential Temperature\")  ##Always after \"plt.plot\" is the x and y axis. So in this case it is Potential temperature (theta) and height data. Next, I change the color by using \"c=\". I then labeled the line using the \"label= \".\n",
    "plt.xlabel('Theta (K)')\n",
    "plt.xlim(np.amin(Theta6),315)\n",
    "plt.ylabel('Height (m)')\n",
    "plt.ylim(0,4000)\n",
    "plt.legend(loc=0)\n",
    "plt.title('Potential Temperature versus Height\\nSterling, VA - July 2, 2021 at 0 UTC')\n",
    "plt.grid(True) \n",
    "plt.savefig(\"0702202100ZPT.png\")"
   ]
  },
  {
   "cell_type": "code",
   "execution_count": null,
   "id": "a6110166",
   "metadata": {},
   "outputs": [],
   "source": [
    "plt.plot(RH6,h6, c=\"red\", label=\"Relative Humidity\")  ##Always after \"plt.plot\" is the x and y axis. So in this case it is Relative Humidity and height data. Next, I change the color by using \"c=\". I then labeled the line using the \"label= \".\n",
    "plt.xlabel('Relative Humidity (%)')\n",
    "plt.xlim(67,90)\n",
    "plt.ylabel('Height (m)')\n",
    "plt.ylim(0,4000)\n",
    "plt.legend(loc=0)\n",
    "plt.title('Relative Humidity versus Height\\nSterling, VA - July 2, 2021 at 0 UTC')\n",
    "plt.grid(True)\n",
    "plt.savefig(\"0702202100ZRH.png\")"
   ]
  },
  {
   "cell_type": "code",
   "execution_count": null,
   "id": "7bf5256e",
   "metadata": {},
   "outputs": [],
   "source": [
    "plt.plot(q6,h6, c=\"green\",label='Specific Humidity')  ##Always after \"plt.plot\" is the x and y axis. So in this case it is Specific Humidity (q) and height data. Next, I change the color by using \"c=\". I then labeled the line using the \"label= \".\n",
    "plt.xlabel('q (g/kg)')\n",
    "plt.xlim(0.0055,np.amax(q6))\n",
    "plt.ylabel('Height (m)')\n",
    "plt.ylim(0,4000)\n",
    "plt.legend(loc=0)\n",
    "plt.title('Specific Humidity versus Height\\nSterling, VA - July 2, 2021 at 0 UTC')\n",
    "plt.grid(True) \n",
    "plt.savefig(\"0702202100ZSH.png\")"
   ]
  },
  {
   "cell_type": "code",
   "execution_count": null,
   "id": "717074e6",
   "metadata": {},
   "outputs": [],
   "source": [
    "plt.plot(N6,h6, c=\"brown\",label='Refractivity')  ##Always after \"plt.plot\" is the x and y axis. So in this case it is Refractivity (N) and height data. Next, I change the color by using \"c=\". I then labeled the line using the \"label= \".\n",
    "plt.xlabel('N')\n",
    "plt.xlim(200,np.amax(N6))\n",
    "plt.ylabel('Height (m)')\n",
    "plt.ylim(0,4000)\n",
    "plt.legend(loc=0)\n",
    "plt.title('Refractivity versus Height\\nSterling, VA - July 2, 2021 at 0 UTC')\n",
    "plt.grid(True) \n",
    "plt.savefig(\"0702202100ZR.png\")"
   ]
  },
  {
   "cell_type": "markdown",
   "id": "ddaa739a",
   "metadata": {},
   "source": [
    "## Importing the Data"
   ]
  },
  {
   "cell_type": "markdown",
   "id": "7763c414",
   "metadata": {},
   "source": [
    "### July 2 2021 at 12Z"
   ]
  },
  {
   "cell_type": "code",
   "execution_count": 80,
   "id": "d8816367",
   "metadata": {},
   "outputs": [],
   "source": [
    "date02AT12Z = datetime(2021, 7, 2, 12) # Year, month, day, time\n",
    "station = 'IAD' # Three letter code "
   ]
  },
  {
   "cell_type": "code",
   "execution_count": 81,
   "id": "fa2f2c3e",
   "metadata": {},
   "outputs": [],
   "source": [
    "df7 = WyomingUpperAir.request_data(date02AT12Z, station)"
   ]
  },
  {
   "cell_type": "code",
   "execution_count": 82,
   "id": "c74b1c35",
   "metadata": {},
   "outputs": [],
   "source": [
    "#df7 # This prints the table from the website. This is a Pandas data frame. Panda allows you to manipulate, join, and do operations on it"
   ]
  },
  {
   "cell_type": "code",
   "execution_count": 83,
   "id": "3c12e726",
   "metadata": {},
   "outputs": [
    {
     "data": {
      "text/html": [
       "<table><tbody><tr><th>Magnitude</th><td style='text-align:left;'><pre>[   93   305   610   652   744   914  1219  1462  1524  1829  2134  2438<br>  2580  2743  3048  3066  3396  3553  3658  4267  4302  4475  4817  4877<br>  5509  5720  5766  5791  6017  6096  6706  7410  7620  7925  8227  9144<br>  9490  9823 10668 10740 11582 11600 12190 12578 12802 13519 13716 14010<br> 14021 14445 14935 15240 16154 16459 16488 16550 16764 17069 17374 17678<br> 18288 18593 18657 18780 18898 19202 19507 19531 19812 20117 20726 20900<br> 21336 21641 21946 22250 22435 22555 22860 24079 24180 24384 24689 25235<br> 26112 26830 27127 27344 27432 28314 28651 28956 29566 29825]</pre></td></tr><tr><th>Units</th><td style='text-align:left;'>meter</td></tr></tbody></table>"
      ],
      "text/latex": [
       "$\\begin{pmatrix}93 & 305 & 610 & 652 & 744 & 914 & 1219 & 1462 & 1524 & 1829 & 2134 & 2438 & 2580 & 2743 & 3048 & 3066 & 3396 & 3553 & 3658 & 4267 & 4302 & 4475 & 4817 & 4877 & 5509 & 5720 & 5766 & 5791 & 6017 & 6096 & 6706 & 7410 & 7620 & 7925 & 8227 & 9144 & 9490 & 9823 & 10668 & 10740 & 11582 & 11600 & 12190 & 12578 & 12802 & 13519 & 13716 & 14010 & 14021 & 14445 & 14935 & 15240 & 16154 & 16459 & 16488 & 16550 & 16764 & 17069 & 17374 & 17678 & 18288 & 18593 & 18657 & 18780 & 18898 & 19202 & 19507 & 19531 & 19812 & 20117 & 20726 & 20900 & 21336 & 21641 & 21946 & 22250 & 22435 & 22555 & 22860 & 24079 & 24180 & 24384 & 24689 & 25235 & 26112 & 26830 & 27127 & 27344 & 27432 & 28314 & 28651 & 28956 & 29566 & 29825\\end{pmatrix}\\ \\mathrm{meter}$"
      ],
      "text/plain": [
       "array([   93,   305,   610,   652,   744,   914,  1219,  1462,  1524,\n",
       "        1829,  2134,  2438,  2580,  2743,  3048,  3066,  3396,  3553,\n",
       "        3658,  4267,  4302,  4475,  4817,  4877,  5509,  5720,  5766,\n",
       "        5791,  6017,  6096,  6706,  7410,  7620,  7925,  8227,  9144,\n",
       "        9490,  9823, 10668, 10740, 11582, 11600, 12190, 12578, 12802,\n",
       "       13519, 13716, 14010, 14021, 14445, 14935, 15240, 16154, 16459,\n",
       "       16488, 16550, 16764, 17069, 17374, 17678, 18288, 18593, 18657,\n",
       "       18780, 18898, 19202, 19507, 19531, 19812, 20117, 20726, 20900,\n",
       "       21336, 21641, 21946, 22250, 22435, 22555, 22860, 24079, 24180,\n",
       "       24384, 24689, 25235, 26112, 26830, 27127, 27344, 27432, 28314,\n",
       "       28651, 28956, 29566, 29825]) <Unit('meter')>"
      ]
     },
     "execution_count": 83,
     "metadata": {},
     "output_type": "execute_result"
    }
   ],
   "source": [
    "h7 = df7['height'].values * units(df.units['height']) # This line assigns the units to the values in the pandas dataframe. We will pull things into individual variables. We put '.values' at the end because I want just the array of numbers., not the whole data series or objects\n",
    "P7 = df7['pressure'].values *units(df.units['pressure']) # This line grabs the pressure array\n",
    "T_degC7 = df7['temperature'].values * units (df.units['temperature']) # This grabs the temperature array\n",
    "Td_degC7 = df7['dewpoint'].values * units (df.units['dewpoint']) # This grabs the dewpoint temperature array\n",
    "h7"
   ]
  },
  {
   "cell_type": "code",
   "execution_count": 84,
   "id": "6ee0ba75",
   "metadata": {},
   "outputs": [],
   "source": [
    "T_kelvin7 = T_degC7.to('kelvin')\n",
    "Td_kelvin7 = Td_degC7.to('kelvin')"
   ]
  },
  {
   "cell_type": "code",
   "execution_count": 85,
   "id": "91b21292",
   "metadata": {},
   "outputs": [],
   "source": [
    "Theta7 = mpcalc.potential_temperature(P7, T_kelvin7) # This line calculates the potential temperature in units of kelvin\n",
    "RH7 = mpcalc.relative_humidity_from_dewpoint(T_kelvin7, Td_kelvin7)*100 # This line calculates the Relative Humidity\n",
    "q7 = mpcalc.specific_humidity_from_dewpoint(P7, Td_kelvin7) # This line calculates the Specific Humidity\n",
    "mr7 = mpcalc.mixing_ratio_from_specific_humidity(q7) # This line calculates the Mixing Ratio\n",
    "e7 = mpcalc.vapor_pressure(P7, mr7) # This line calculates the water vapor pressure in hPa\n",
    "#static_stability = mpcalc.static_stability(P, T_kelvin, vertical_dim=0)"
   ]
  },
  {
   "cell_type": "code",
   "execution_count": 86,
   "id": "fdd318d5",
   "metadata": {},
   "outputs": [],
   "source": [
    "N7 = ((77.6)*(P7/T_kelvin7)).magnitude + ((3.73)*(10**5)*(e7/(T_kelvin7**2))).magnitude # This line calculates the refractivity"
   ]
  },
  {
   "cell_type": "markdown",
   "id": "fcafb864",
   "metadata": {},
   "source": [
    "# Gradient coding for July 2 at 12Z"
   ]
  },
  {
   "cell_type": "code",
   "execution_count": 87,
   "id": "b4eb161c",
   "metadata": {
    "scrolled": true
   },
   "outputs": [
    {
     "data": {
      "text/html": [
       "<table><tbody><tr><th>Magnitude</th><td style='text-align:left;'><pre>[93.0 93.0 93.0 93.0 93.0 93.0 93.0 93.0 93.0 93.0 93.0 93.0 93.0 93.0<br> 93.0 93.0 93.0 93.0 93.0 93.0 93.0 93.0 93.0 93.0 93.0 93.0 93.0 93.0<br> 93.0 93.0 93.0 93.0 93.0 93.0 93.0 93.0 93.0 93.0 93.0 93.0 93.0 93.0<br> 93.0 93.0 93.0 93.0 93.0 93.0 93.0 93.0 93.0 93.0 93.0 93.0 93.0 93.0<br> 93.0 93.0 93.0 93.0 93.0 93.0 93.0 93.0 93.0 93.0 93.0 93.0 93.0 93.0<br> 93.0 93.0 93.0 93.0 93.0 93.0 93.0 93.0 93.0 93.0 93.0 93.0 93.0 93.0<br> 93.0 93.0 93.0 93.0 93.0 93.0 93.0 93.0 93.0 93.0]</pre></td></tr><tr><th>Units</th><td style='text-align:left;'>meter</td></tr></tbody></table>"
      ],
      "text/latex": [
       "$\\begin{pmatrix}93.0 & 93.0 & 93.0 & 93.0 & 93.0 & 93.0 & 93.0 & 93.0 & 93.0 & 93.0 & 93.0 & 93.0 & 93.0 & 93.0 & 93.0 & 93.0 & 93.0 & 93.0 & 93.0 & 93.0 & 93.0 & 93.0 & 93.0 & 93.0 & 93.0 & 93.0 & 93.0 & 93.0 & 93.0 & 93.0 & 93.0 & 93.0 & 93.0 & 93.0 & 93.0 & 93.0 & 93.0 & 93.0 & 93.0 & 93.0 & 93.0 & 93.0 & 93.0 & 93.0 & 93.0 & 93.0 & 93.0 & 93.0 & 93.0 & 93.0 & 93.0 & 93.0 & 93.0 & 93.0 & 93.0 & 93.0 & 93.0 & 93.0 & 93.0 & 93.0 & 93.0 & 93.0 & 93.0 & 93.0 & 93.0 & 93.0 & 93.0 & 93.0 & 93.0 & 93.0 & 93.0 & 93.0 & 93.0 & 93.0 & 93.0 & 93.0 & 93.0 & 93.0 & 93.0 & 93.0 & 93.0 & 93.0 & 93.0 & 93.0 & 93.0 & 93.0 & 93.0 & 93.0 & 93.0 & 93.0 & 93.0 & 93.0 & 93.0 & 93.0\\end{pmatrix}\\ \\mathrm{meter}$"
      ],
      "text/plain": [
       "array([93., 93., 93., 93., 93., 93., 93., 93., 93., 93., 93., 93., 93.,\n",
       "       93., 93., 93., 93., 93., 93., 93., 93., 93., 93., 93., 93., 93.,\n",
       "       93., 93., 93., 93., 93., 93., 93., 93., 93., 93., 93., 93., 93.,\n",
       "       93., 93., 93., 93., 93., 93., 93., 93., 93., 93., 93., 93., 93.,\n",
       "       93., 93., 93., 93., 93., 93., 93., 93., 93., 93., 93., 93., 93.,\n",
       "       93., 93., 93., 93., 93., 93., 93., 93., 93., 93., 93., 93., 93.,\n",
       "       93., 93., 93., 93., 93., 93., 93., 93., 93., 93., 93., 93., 93.,\n",
       "       93., 93., 93.]) <Unit('meter')>"
      ]
     },
     "execution_count": 87,
     "metadata": {},
     "output_type": "execute_result"
    }
   ],
   "source": [
    "gradTheta7 = np.gradient(Theta7[0:19]) # I set the bounds from 0 meters to just over 4,000 meters. This is the function for finding the gradient. I attempeted using Metpy's gradient function, but I was getting errors\n",
    "gradTheta7 # This prints the gradient of the Potential Temperature array\n",
    "largestTheta7 = np.argsort(gradTheta7)[-10:] # This gives us the position of the largest 10 largest gradients for the potential temperature array\n",
    "largestTheta7 # This prints the positions of the largest 10 largest gradients for the potential temperature array\n",
    "\n",
    "# The Theta[0:19] range of atmosphere positions are 14, 11,  6,  0, 10, 13,  1,  9, 15, 16\n",
    "\n",
    "gradRH7 = np.gradient(RH7[0:19]) # Bounds are set from 0 meters to just over 4,000 meters. This is the function for finding the gradient.\n",
    "gradRH7 # This prints the gradient of the Relative Humidity array\n",
    "smallestRH7 = np.argsort(gradRH7)[:10] # This sorts the Relative humidity gradient array from least to greatest and then picks the 10 smallest gradients of the array\n",
    "smallestRH7 # This line returns the positions of the 10 smallest gradients, or the first 10 gradients\n",
    "\n",
    "# The RH[0:19] range of atmosphere positions are 1,  0, 15,  2, 13, 14,  6,  5, 18,  7\n",
    "\n",
    "\n",
    "gradq7 = np.gradient(q7[0:19]) # Bounds are set from 0 meters to just over 4,000 meters. This is the function for finding the gradient.\n",
    "gradq7 # This prints the gradient of the Specific Humidity array\n",
    "smallestq7 = np.argsort(gradq7)[:10] # This sorts the Specific humidity gradient array from least to greatest and then picks the 10 smallest gradients of the array\n",
    "smallestq7 # This line returns the positions of the 10 smallest gradients, or the first 10 gradients\n",
    "\n",
    "# The q[0:19] range of atmosphere positions are 1,  0,  2,  6,  5,  9, 15, 10, 13,  7\n",
    "\n",
    "\n",
    "gradN7 = np.gradient(N7[0:19]) # Bounds are set from 0 meters to just over 4,000 meters. This is the function for finding the gradient.\n",
    "gradN7 # This prints the gradient of the Refractivity array\n",
    "smallestN7 = np.argsort(gradN7)[:10] # This sorts the Refractivity gradient array from least to greatest and then picks the 10 smallest gradients of the array\n",
    "smallestN7 # This line returns the positions of the 10 smallest gradients, or the first 10 gradients\n",
    "\n",
    "# The N[0:19] range of atmosphere positions are 1,  0,  2,  6,  5,  9, 10, 13, 11, 15\n",
    "\n",
    "#-----------------------------------------------------------------------------\n",
    "\n",
    "# I then want to print the height where at least three parameters had the same height when going in descending \n",
    "# order for potential temperature and ascending order for relative humidity, specific humidity and refractivity, \n",
    "# as that height is said to be the mixing layer height\n",
    "\n",
    "MLH7 = h7[0]\n",
    "MLH7 = np.ones(94)*MLH7\n",
    "MLH7"
   ]
  },
  {
   "cell_type": "markdown",
   "id": "5c38d719",
   "metadata": {},
   "source": [
    "# Print the Row of the Mixing Layer Height. This will be useful for the Machine Learning tool for MLH forecast estimations. "
   ]
  },
  {
   "cell_type": "code",
   "execution_count": 88,
   "id": "1811c102",
   "metadata": {
    "scrolled": false
   },
   "outputs": [
    {
     "data": {
      "text/plain": [
       "pressure                        998.0\n",
       "height                             93\n",
       "temperature                      20.8\n",
       "dewpoint                         19.8\n",
       "direction                       200.0\n",
       "speed                             3.0\n",
       "u_wind                        1.02606\n",
       "v_wind                       2.819078\n",
       "station                           IAD\n",
       "station_number                  72403\n",
       "time              2021-07-02 12:00:00\n",
       "latitude                        38.98\n",
       "longitude                      -77.46\n",
       "elevation                        93.0\n",
       "pw                              40.44\n",
       "Name: 0, dtype: object"
      ]
     },
     "execution_count": 88,
     "metadata": {},
     "output_type": "execute_result"
    }
   ],
   "source": [
    "df7.loc[0]"
   ]
  },
  {
   "cell_type": "markdown",
   "id": "a52826c5",
   "metadata": {},
   "source": [
    "## Plotting for July 2, 2021 at 12Z"
   ]
  },
  {
   "cell_type": "code",
   "execution_count": null,
   "id": "a6aab64f",
   "metadata": {},
   "outputs": [],
   "source": [
    "plt.plot(Theta7,h7, c=\"b\", label=\"Potential Temperature\")  ##Always after \"plt.plot\" is the x and y axis. So in this case it is Potential temperature (theta) and height data. Next, I change the color by using \"c=\". I then labeled the line using the \"label= \".\n",
    "plt.plot(Theta7,MLH7, c=\"black\", label=\"Mixing Layer Height\")\n",
    "plt.xlabel('Theta (K)')\n",
    "plt.xlim(np.amin(Theta7),315)\n",
    "plt.ylabel('Height (m)')\n",
    "plt.ylim(0,4000)\n",
    "plt.legend(loc=0)\n",
    "plt.title('Potential Temperature versus Height\\nSterling, VA - July 2, 2021 at 12 UTC')\n",
    "plt.grid(True) \n",
    "plt.savefig(\"0702202112ZPT.png\")"
   ]
  },
  {
   "cell_type": "code",
   "execution_count": null,
   "id": "ade2700e",
   "metadata": {},
   "outputs": [],
   "source": [
    "plt.plot(RH7,h7, c=\"red\", label=\"Relative Humidity\")  ##Always after \"plt.plot\" is the x and y axis. So in this case it is Relative Humidity and height data. Next, I change the color by using \"c=\". I then labeled the line using the \"label= \".\n",
    "plt.plot(RH7,MLH7, c=\"black\", label=\"Mixing Layer Height\")\n",
    "plt.xlabel('Relative Humidity (%)')\n",
    "plt.xlim(75,np.amax(RH7))\n",
    "plt.ylabel('Height (m)')\n",
    "plt.ylim(0,4000)\n",
    "plt.legend(loc=0)\n",
    "plt.title('Relative Humidity versus Height\\nSterling, VA - July 2, 2021 at 12 UTC')\n",
    "plt.grid(True)\n",
    "plt.savefig(\"0702202112ZRH.png\")"
   ]
  },
  {
   "cell_type": "code",
   "execution_count": null,
   "id": "6f00dd30",
   "metadata": {},
   "outputs": [],
   "source": [
    "plt.plot(q7,h7, c=\"green\",label='Specific Humidity')  ##Always after \"plt.plot\" is the x and y axis. So in this case it is Specific Humidity (q) and height data. Next, I change the color by using \"c=\". I then labeled the line using the \"label= \".\n",
    "plt.plot(q7,MLH7, c=\"black\",label='Mixing Layer Height')\n",
    "plt.xlabel('q (g/kg)')\n",
    "plt.xlim(0.0045,np.amax(q7))\n",
    "plt.ylabel('Height (m)')\n",
    "plt.ylim(0,4000)\n",
    "plt.legend(loc=0)\n",
    "plt.title('Specific Humidity versus Height\\nSterling, VA - July 2, 2021 at 12 UTC')\n",
    "plt.grid(True) \n",
    "plt.savefig(\"0702202112ZSH.png\")"
   ]
  },
  {
   "cell_type": "code",
   "execution_count": null,
   "id": "2382defe",
   "metadata": {},
   "outputs": [],
   "source": [
    "plt.plot(N7,h7, c=\"brown\",label='Refractivity')  ##Always after \"plt.plot\" is the x and y axis. So in this case it is Refractivity (N) and height data. Next, I change the color by using \"c=\". I then labeled the line using the \"label= \".\n",
    "plt.plot(N7,MLH7, c=\"black\",label='Mixing Layer Height')\n",
    "plt.xlabel('N')\n",
    "plt.xlim(200,np.amax(N7))\n",
    "plt.ylabel('Height (m)')\n",
    "plt.ylim(0,4000)\n",
    "plt.legend(loc=0)\n",
    "plt.title('Refractivity versus Height\\nSterling, VA - July 2, 2021 at 12 UTC')\n",
    "plt.grid(True) \n",
    "plt.savefig(\"0702202112ZR.png\")"
   ]
  },
  {
   "cell_type": "markdown",
   "id": "b5894073",
   "metadata": {},
   "source": [
    "## Importing the Data"
   ]
  },
  {
   "cell_type": "markdown",
   "id": "2d6076aa",
   "metadata": {},
   "source": [
    "### July 3 2021 at 00Z"
   ]
  },
  {
   "cell_type": "code",
   "execution_count": 90,
   "id": "9232d967",
   "metadata": {},
   "outputs": [],
   "source": [
    "date03AT00Z = datetime(2021, 7, 3, 0) # Year, month, day, time\n",
    "station = 'IAD' # Three letter code "
   ]
  },
  {
   "cell_type": "code",
   "execution_count": 95,
   "id": "c886be02",
   "metadata": {},
   "outputs": [],
   "source": [
    "df8 = WyomingUpperAir.request_data(date03AT00Z, station)"
   ]
  },
  {
   "cell_type": "code",
   "execution_count": 96,
   "id": "2a57e300",
   "metadata": {},
   "outputs": [
    {
     "data": {
      "text/html": [
       "<div>\n",
       "<style scoped>\n",
       "    .dataframe tbody tr th:only-of-type {\n",
       "        vertical-align: middle;\n",
       "    }\n",
       "\n",
       "    .dataframe tbody tr th {\n",
       "        vertical-align: top;\n",
       "    }\n",
       "\n",
       "    .dataframe thead th {\n",
       "        text-align: right;\n",
       "    }\n",
       "</style>\n",
       "<table border=\"1\" class=\"dataframe\">\n",
       "  <thead>\n",
       "    <tr style=\"text-align: right;\">\n",
       "      <th></th>\n",
       "      <th>pressure</th>\n",
       "      <th>height</th>\n",
       "      <th>temperature</th>\n",
       "      <th>dewpoint</th>\n",
       "      <th>direction</th>\n",
       "      <th>speed</th>\n",
       "      <th>u_wind</th>\n",
       "      <th>v_wind</th>\n",
       "      <th>station</th>\n",
       "      <th>station_number</th>\n",
       "      <th>time</th>\n",
       "      <th>latitude</th>\n",
       "      <th>longitude</th>\n",
       "      <th>elevation</th>\n",
       "      <th>pw</th>\n",
       "    </tr>\n",
       "  </thead>\n",
       "  <tbody>\n",
       "    <tr>\n",
       "      <th>0</th>\n",
       "      <td>998.0</td>\n",
       "      <td>93</td>\n",
       "      <td>25.2</td>\n",
       "      <td>10.2</td>\n",
       "      <td>295.0</td>\n",
       "      <td>6.0</td>\n",
       "      <td>5.437847</td>\n",
       "      <td>-2.535710</td>\n",
       "      <td>IAD</td>\n",
       "      <td>72403</td>\n",
       "      <td>2021-07-03</td>\n",
       "      <td>38.98</td>\n",
       "      <td>-77.46</td>\n",
       "      <td>93.0</td>\n",
       "      <td>19.46</td>\n",
       "    </tr>\n",
       "    <tr>\n",
       "      <th>1</th>\n",
       "      <td>973.8</td>\n",
       "      <td>305</td>\n",
       "      <td>23.1</td>\n",
       "      <td>9.0</td>\n",
       "      <td>315.0</td>\n",
       "      <td>16.0</td>\n",
       "      <td>11.313708</td>\n",
       "      <td>-11.313708</td>\n",
       "      <td>IAD</td>\n",
       "      <td>72403</td>\n",
       "      <td>2021-07-03</td>\n",
       "      <td>38.98</td>\n",
       "      <td>-77.46</td>\n",
       "      <td>93.0</td>\n",
       "      <td>19.46</td>\n",
       "    </tr>\n",
       "    <tr>\n",
       "      <th>2</th>\n",
       "      <td>939.9</td>\n",
       "      <td>610</td>\n",
       "      <td>20.0</td>\n",
       "      <td>7.4</td>\n",
       "      <td>310.0</td>\n",
       "      <td>15.0</td>\n",
       "      <td>11.490667</td>\n",
       "      <td>-9.641814</td>\n",
       "      <td>IAD</td>\n",
       "      <td>72403</td>\n",
       "      <td>2021-07-03</td>\n",
       "      <td>38.98</td>\n",
       "      <td>-77.46</td>\n",
       "      <td>93.0</td>\n",
       "      <td>19.46</td>\n",
       "    </tr>\n",
       "    <tr>\n",
       "      <th>3</th>\n",
       "      <td>925.0</td>\n",
       "      <td>748</td>\n",
       "      <td>18.6</td>\n",
       "      <td>6.6</td>\n",
       "      <td>310.0</td>\n",
       "      <td>15.0</td>\n",
       "      <td>11.490667</td>\n",
       "      <td>-9.641814</td>\n",
       "      <td>IAD</td>\n",
       "      <td>72403</td>\n",
       "      <td>2021-07-03</td>\n",
       "      <td>38.98</td>\n",
       "      <td>-77.46</td>\n",
       "      <td>93.0</td>\n",
       "      <td>19.46</td>\n",
       "    </tr>\n",
       "    <tr>\n",
       "      <th>4</th>\n",
       "      <td>907.1</td>\n",
       "      <td>914</td>\n",
       "      <td>17.0</td>\n",
       "      <td>6.2</td>\n",
       "      <td>305.0</td>\n",
       "      <td>16.0</td>\n",
       "      <td>13.106433</td>\n",
       "      <td>-9.177223</td>\n",
       "      <td>IAD</td>\n",
       "      <td>72403</td>\n",
       "      <td>2021-07-03</td>\n",
       "      <td>38.98</td>\n",
       "      <td>-77.46</td>\n",
       "      <td>93.0</td>\n",
       "      <td>19.46</td>\n",
       "    </tr>\n",
       "    <tr>\n",
       "      <th>...</th>\n",
       "      <td>...</td>\n",
       "      <td>...</td>\n",
       "      <td>...</td>\n",
       "      <td>...</td>\n",
       "      <td>...</td>\n",
       "      <td>...</td>\n",
       "      <td>...</td>\n",
       "      <td>...</td>\n",
       "      <td>...</td>\n",
       "      <td>...</td>\n",
       "      <td>...</td>\n",
       "      <td>...</td>\n",
       "      <td>...</td>\n",
       "      <td>...</td>\n",
       "      <td>...</td>\n",
       "    </tr>\n",
       "    <tr>\n",
       "      <th>110</th>\n",
       "      <td>9.4</td>\n",
       "      <td>32004</td>\n",
       "      <td>-41.8</td>\n",
       "      <td>-81.9</td>\n",
       "      <td>85.0</td>\n",
       "      <td>22.0</td>\n",
       "      <td>-21.916283</td>\n",
       "      <td>-1.917426</td>\n",
       "      <td>IAD</td>\n",
       "      <td>72403</td>\n",
       "      <td>2021-07-03</td>\n",
       "      <td>38.98</td>\n",
       "      <td>-77.46</td>\n",
       "      <td>93.0</td>\n",
       "      <td>19.46</td>\n",
       "    </tr>\n",
       "    <tr>\n",
       "      <th>111</th>\n",
       "      <td>9.4</td>\n",
       "      <td>31980</td>\n",
       "      <td>-41.9</td>\n",
       "      <td>-81.9</td>\n",
       "      <td>87.0</td>\n",
       "      <td>22.0</td>\n",
       "      <td>-21.969850</td>\n",
       "      <td>-1.151391</td>\n",
       "      <td>IAD</td>\n",
       "      <td>72403</td>\n",
       "      <td>2021-07-03</td>\n",
       "      <td>38.98</td>\n",
       "      <td>-77.46</td>\n",
       "      <td>93.0</td>\n",
       "      <td>19.46</td>\n",
       "    </tr>\n",
       "    <tr>\n",
       "      <th>112</th>\n",
       "      <td>8.2</td>\n",
       "      <td>32918</td>\n",
       "      <td>-37.3</td>\n",
       "      <td>-81.3</td>\n",
       "      <td>85.0</td>\n",
       "      <td>31.0</td>\n",
       "      <td>-30.882036</td>\n",
       "      <td>-2.701828</td>\n",
       "      <td>IAD</td>\n",
       "      <td>72403</td>\n",
       "      <td>2021-07-03</td>\n",
       "      <td>38.98</td>\n",
       "      <td>-77.46</td>\n",
       "      <td>93.0</td>\n",
       "      <td>19.46</td>\n",
       "    </tr>\n",
       "    <tr>\n",
       "      <th>113</th>\n",
       "      <td>8.2</td>\n",
       "      <td>32914</td>\n",
       "      <td>-37.3</td>\n",
       "      <td>-81.3</td>\n",
       "      <td>85.0</td>\n",
       "      <td>31.0</td>\n",
       "      <td>-30.882036</td>\n",
       "      <td>-2.701828</td>\n",
       "      <td>IAD</td>\n",
       "      <td>72403</td>\n",
       "      <td>2021-07-03</td>\n",
       "      <td>38.98</td>\n",
       "      <td>-77.46</td>\n",
       "      <td>93.0</td>\n",
       "      <td>19.46</td>\n",
       "    </tr>\n",
       "    <tr>\n",
       "      <th>114</th>\n",
       "      <td>8.1</td>\n",
       "      <td>32998</td>\n",
       "      <td>-37.3</td>\n",
       "      <td>-81.3</td>\n",
       "      <td>NaN</td>\n",
       "      <td>NaN</td>\n",
       "      <td>NaN</td>\n",
       "      <td>NaN</td>\n",
       "      <td>IAD</td>\n",
       "      <td>72403</td>\n",
       "      <td>2021-07-03</td>\n",
       "      <td>38.98</td>\n",
       "      <td>-77.46</td>\n",
       "      <td>93.0</td>\n",
       "      <td>19.46</td>\n",
       "    </tr>\n",
       "  </tbody>\n",
       "</table>\n",
       "<p>115 rows × 15 columns</p>\n",
       "</div>"
      ],
      "text/plain": [
       "     pressure  height  temperature  dewpoint  direction  speed     u_wind  \\\n",
       "0       998.0      93         25.2      10.2      295.0    6.0   5.437847   \n",
       "1       973.8     305         23.1       9.0      315.0   16.0  11.313708   \n",
       "2       939.9     610         20.0       7.4      310.0   15.0  11.490667   \n",
       "3       925.0     748         18.6       6.6      310.0   15.0  11.490667   \n",
       "4       907.1     914         17.0       6.2      305.0   16.0  13.106433   \n",
       "..        ...     ...          ...       ...        ...    ...        ...   \n",
       "110       9.4   32004        -41.8     -81.9       85.0   22.0 -21.916283   \n",
       "111       9.4   31980        -41.9     -81.9       87.0   22.0 -21.969850   \n",
       "112       8.2   32918        -37.3     -81.3       85.0   31.0 -30.882036   \n",
       "113       8.2   32914        -37.3     -81.3       85.0   31.0 -30.882036   \n",
       "114       8.1   32998        -37.3     -81.3        NaN    NaN        NaN   \n",
       "\n",
       "        v_wind station  station_number       time  latitude  longitude  \\\n",
       "0    -2.535710     IAD           72403 2021-07-03     38.98     -77.46   \n",
       "1   -11.313708     IAD           72403 2021-07-03     38.98     -77.46   \n",
       "2    -9.641814     IAD           72403 2021-07-03     38.98     -77.46   \n",
       "3    -9.641814     IAD           72403 2021-07-03     38.98     -77.46   \n",
       "4    -9.177223     IAD           72403 2021-07-03     38.98     -77.46   \n",
       "..         ...     ...             ...        ...       ...        ...   \n",
       "110  -1.917426     IAD           72403 2021-07-03     38.98     -77.46   \n",
       "111  -1.151391     IAD           72403 2021-07-03     38.98     -77.46   \n",
       "112  -2.701828     IAD           72403 2021-07-03     38.98     -77.46   \n",
       "113  -2.701828     IAD           72403 2021-07-03     38.98     -77.46   \n",
       "114        NaN     IAD           72403 2021-07-03     38.98     -77.46   \n",
       "\n",
       "     elevation     pw  \n",
       "0         93.0  19.46  \n",
       "1         93.0  19.46  \n",
       "2         93.0  19.46  \n",
       "3         93.0  19.46  \n",
       "4         93.0  19.46  \n",
       "..         ...    ...  \n",
       "110       93.0  19.46  \n",
       "111       93.0  19.46  \n",
       "112       93.0  19.46  \n",
       "113       93.0  19.46  \n",
       "114       93.0  19.46  \n",
       "\n",
       "[115 rows x 15 columns]"
      ]
     },
     "execution_count": 96,
     "metadata": {},
     "output_type": "execute_result"
    }
   ],
   "source": [
    "df8 # This prints the table from the website. This is a Pandas data frame. Panda allows you to manipulate, join, and do operations on it"
   ]
  },
  {
   "cell_type": "code",
   "execution_count": 97,
   "id": "e7d903ce",
   "metadata": {},
   "outputs": [
    {
     "data": {
      "text/html": [
       "<table><tbody><tr><th>Magnitude</th><td style='text-align:left;'><pre>[   93   305   610   748   914  1219  1465  1524  1829  2134  2438  2637<br>  2743  2835  3051  3109  3274  3353  3658  3962  4267  4877  5444  5700<br>  6096  6813  6951  7360  7620  7716  8126  8348  8617  8917  9144  9295<br>  9410  9449  9619  9906 10333 10363 10650 10668 10812 11178 11278 11897<br> 12120 12497 13106 13253 13990 14326 14935 15240 16154 16459 16508 16570<br> 16764 16936 17374 17484 18288 18593 18810 18898 19202 19507 19812 20117<br> 20422 20726 20930 21031 21336 21597 21946 22250 22555 22860 23165 23470<br> 23682 23774 24200 24689 24738 24994 25305 25603 26213 26687 26822 26850<br> 27127 27445 27432 28042 28651 28835 29261 30175 30254 30480 30785 31090<br> 31560 31699 32004 31980 32918 32914 32998]</pre></td></tr><tr><th>Units</th><td style='text-align:left;'>meter</td></tr></tbody></table>"
      ],
      "text/latex": [
       "$\\begin{pmatrix}93 & 305 & 610 & 748 & 914 & 1219 & 1465 & 1524 & 1829 & 2134 & 2438 & 2637 & 2743 & 2835 & 3051 & 3109 & 3274 & 3353 & 3658 & 3962 & 4267 & 4877 & 5444 & 5700 & 6096 & 6813 & 6951 & 7360 & 7620 & 7716 & 8126 & 8348 & 8617 & 8917 & 9144 & 9295 & 9410 & 9449 & 9619 & 9906 & 10333 & 10363 & 10650 & 10668 & 10812 & 11178 & 11278 & 11897 & 12120 & 12497 & 13106 & 13253 & 13990 & 14326 & 14935 & 15240 & 16154 & 16459 & 16508 & 16570 & 16764 & 16936 & 17374 & 17484 & 18288 & 18593 & 18810 & 18898 & 19202 & 19507 & 19812 & 20117 & 20422 & 20726 & 20930 & 21031 & 21336 & 21597 & 21946 & 22250 & 22555 & 22860 & 23165 & 23470 & 23682 & 23774 & 24200 & 24689 & 24738 & 24994 & 25305 & 25603 & 26213 & 26687 & 26822 & 26850 & 27127 & 27445 & 27432 & 28042 & 28651 & 28835 & 29261 & 30175 & 30254 & 30480 & 30785 & 31090 & 31560 & 31699 & 32004 & 31980 & 32918 & 32914 & 32998\\end{pmatrix}\\ \\mathrm{meter}$"
      ],
      "text/plain": [
       "array([   93,   305,   610,   748,   914,  1219,  1465,  1524,  1829,\n",
       "        2134,  2438,  2637,  2743,  2835,  3051,  3109,  3274,  3353,\n",
       "        3658,  3962,  4267,  4877,  5444,  5700,  6096,  6813,  6951,\n",
       "        7360,  7620,  7716,  8126,  8348,  8617,  8917,  9144,  9295,\n",
       "        9410,  9449,  9619,  9906, 10333, 10363, 10650, 10668, 10812,\n",
       "       11178, 11278, 11897, 12120, 12497, 13106, 13253, 13990, 14326,\n",
       "       14935, 15240, 16154, 16459, 16508, 16570, 16764, 16936, 17374,\n",
       "       17484, 18288, 18593, 18810, 18898, 19202, 19507, 19812, 20117,\n",
       "       20422, 20726, 20930, 21031, 21336, 21597, 21946, 22250, 22555,\n",
       "       22860, 23165, 23470, 23682, 23774, 24200, 24689, 24738, 24994,\n",
       "       25305, 25603, 26213, 26687, 26822, 26850, 27127, 27445, 27432,\n",
       "       28042, 28651, 28835, 29261, 30175, 30254, 30480, 30785, 31090,\n",
       "       31560, 31699, 32004, 31980, 32918, 32914, 32998]) <Unit('meter')>"
      ]
     },
     "execution_count": 97,
     "metadata": {},
     "output_type": "execute_result"
    }
   ],
   "source": [
    "h8 = df8['height'].values * units(df.units['height']) # This line assigns the units to the values in the pandas dataframe. We will pull things into individual variables. We put '.values' at the end because I want just the array of numbers., not the whole data series or objects\n",
    "P8 = df8['pressure'].values *units(df.units['pressure']) # This line grabs the pressure array\n",
    "T_degC8 = df8['temperature'].values * units (df.units['temperature']) # This grabs the temperature array\n",
    "Td_degC8 = df8['dewpoint'].values * units (df.units['dewpoint']) # This grabs the dewpoint temperature array\n",
    "h8"
   ]
  },
  {
   "cell_type": "code",
   "execution_count": 98,
   "id": "fdb4b335",
   "metadata": {},
   "outputs": [],
   "source": [
    "T_kelvin8 = T_degC8.to('kelvin')\n",
    "Td_kelvin8 = Td_degC8.to('kelvin')"
   ]
  },
  {
   "cell_type": "code",
   "execution_count": 99,
   "id": "5da421ab",
   "metadata": {},
   "outputs": [],
   "source": [
    "Theta8 = mpcalc.potential_temperature(P8, T_kelvin8) # This line calculates the potential temperature in units of kelvin\n",
    "RH8 = mpcalc.relative_humidity_from_dewpoint(T_kelvin8, Td_kelvin8)*100 # This line calculates the Relative Humidity\n",
    "q8 = mpcalc.specific_humidity_from_dewpoint(P8, Td_kelvin8) # This line calculates the Specific Humidity\n",
    "mr8 = mpcalc.mixing_ratio_from_specific_humidity(q8) # This line calculates the Mixing Ratio\n",
    "e8 = mpcalc.vapor_pressure(P8, mr8) # This line calculates the water vapor pressure in hPa\n",
    "#static_stability = mpcalc.static_stability(P, T_kelvin, vertical_dim=0)"
   ]
  },
  {
   "cell_type": "code",
   "execution_count": 100,
   "id": "98454fe8",
   "metadata": {},
   "outputs": [],
   "source": [
    "N8 = ((77.6)*(P8/T_kelvin8)).magnitude + ((3.73)*(10**5)*(e8/(T_kelvin8**2))).magnitude # This line calculates the refractivity"
   ]
  },
  {
   "cell_type": "markdown",
   "id": "a9e120e8",
   "metadata": {},
   "source": [
    "# Gradient coding for July 3 at 00Z"
   ]
  },
  {
   "cell_type": "code",
   "execution_count": 101,
   "id": "089ae4d5",
   "metadata": {},
   "outputs": [
    {
     "data": {
      "text/html": [
       "<table><tbody><tr><th>Magnitude</th><td style='text-align:left;'><pre>[2835.0 2835.0 2835.0 2835.0 2835.0 2835.0 2835.0 2835.0 2835.0 2835.0<br> 2835.0 2835.0 2835.0 2835.0 2835.0 2835.0 2835.0 2835.0 2835.0 2835.0<br> 2835.0 2835.0 2835.0 2835.0 2835.0 2835.0 2835.0 2835.0 2835.0 2835.0<br> 2835.0 2835.0 2835.0 2835.0 2835.0 2835.0 2835.0 2835.0 2835.0 2835.0<br> 2835.0 2835.0 2835.0 2835.0 2835.0 2835.0 2835.0 2835.0 2835.0 2835.0<br> 2835.0 2835.0 2835.0 2835.0 2835.0 2835.0 2835.0 2835.0 2835.0 2835.0<br> 2835.0 2835.0 2835.0 2835.0 2835.0 2835.0 2835.0 2835.0 2835.0 2835.0<br> 2835.0 2835.0 2835.0 2835.0 2835.0 2835.0 2835.0 2835.0 2835.0 2835.0<br> 2835.0 2835.0 2835.0 2835.0 2835.0 2835.0 2835.0 2835.0 2835.0 2835.0<br> 2835.0 2835.0 2835.0 2835.0 2835.0 2835.0 2835.0 2835.0 2835.0 2835.0<br> 2835.0 2835.0 2835.0 2835.0 2835.0 2835.0 2835.0 2835.0 2835.0 2835.0<br> 2835.0 2835.0 2835.0 2835.0 2835.0]</pre></td></tr><tr><th>Units</th><td style='text-align:left;'>meter</td></tr></tbody></table>"
      ],
      "text/latex": [
       "$\\begin{pmatrix}2835.0 & 2835.0 & 2835.0 & 2835.0 & 2835.0 & 2835.0 & 2835.0 & 2835.0 & 2835.0 & 2835.0 & 2835.0 & 2835.0 & 2835.0 & 2835.0 & 2835.0 & 2835.0 & 2835.0 & 2835.0 & 2835.0 & 2835.0 & 2835.0 & 2835.0 & 2835.0 & 2835.0 & 2835.0 & 2835.0 & 2835.0 & 2835.0 & 2835.0 & 2835.0 & 2835.0 & 2835.0 & 2835.0 & 2835.0 & 2835.0 & 2835.0 & 2835.0 & 2835.0 & 2835.0 & 2835.0 & 2835.0 & 2835.0 & 2835.0 & 2835.0 & 2835.0 & 2835.0 & 2835.0 & 2835.0 & 2835.0 & 2835.0 & 2835.0 & 2835.0 & 2835.0 & 2835.0 & 2835.0 & 2835.0 & 2835.0 & 2835.0 & 2835.0 & 2835.0 & 2835.0 & 2835.0 & 2835.0 & 2835.0 & 2835.0 & 2835.0 & 2835.0 & 2835.0 & 2835.0 & 2835.0 & 2835.0 & 2835.0 & 2835.0 & 2835.0 & 2835.0 & 2835.0 & 2835.0 & 2835.0 & 2835.0 & 2835.0 & 2835.0 & 2835.0 & 2835.0 & 2835.0 & 2835.0 & 2835.0 & 2835.0 & 2835.0 & 2835.0 & 2835.0 & 2835.0 & 2835.0 & 2835.0 & 2835.0 & 2835.0 & 2835.0 & 2835.0 & 2835.0 & 2835.0 & 2835.0 & 2835.0 & 2835.0 & 2835.0 & 2835.0 & 2835.0 & 2835.0 & 2835.0 & 2835.0 & 2835.0 & 2835.0 & 2835.0 & 2835.0 & 2835.0 & 2835.0 & 2835.0\\end{pmatrix}\\ \\mathrm{meter}$"
      ],
      "text/plain": [
       "array([2835., 2835., 2835., 2835., 2835., 2835., 2835., 2835., 2835.,\n",
       "       2835., 2835., 2835., 2835., 2835., 2835., 2835., 2835., 2835.,\n",
       "       2835., 2835., 2835., 2835., 2835., 2835., 2835., 2835., 2835.,\n",
       "       2835., 2835., 2835., 2835., 2835., 2835., 2835., 2835., 2835.,\n",
       "       2835., 2835., 2835., 2835., 2835., 2835., 2835., 2835., 2835.,\n",
       "       2835., 2835., 2835., 2835., 2835., 2835., 2835., 2835., 2835.,\n",
       "       2835., 2835., 2835., 2835., 2835., 2835., 2835., 2835., 2835.,\n",
       "       2835., 2835., 2835., 2835., 2835., 2835., 2835., 2835., 2835.,\n",
       "       2835., 2835., 2835., 2835., 2835., 2835., 2835., 2835., 2835.,\n",
       "       2835., 2835., 2835., 2835., 2835., 2835., 2835., 2835., 2835.,\n",
       "       2835., 2835., 2835., 2835., 2835., 2835., 2835., 2835., 2835.,\n",
       "       2835., 2835., 2835., 2835., 2835., 2835., 2835., 2835., 2835.,\n",
       "       2835., 2835., 2835., 2835., 2835., 2835., 2835.]) <Unit('meter')>"
      ]
     },
     "execution_count": 101,
     "metadata": {},
     "output_type": "execute_result"
    }
   ],
   "source": [
    "gradTheta8 = np.gradient(Theta8[0:20]) # I set the bounds from 0 meters to just over 4,000 meters. This is the function for finding the gradient. I attempeted using Metpy's gradient function, but I was getting errors\n",
    "gradTheta8 # This prints the gradient of the Potential Temperature array\n",
    "largestTheta8 = np.argsort(gradTheta8)[-10:] # This gives us the position of the largest 10 largest gradients for the potential temperature array\n",
    "largestTheta8 # This prints the positions of the largest 10 largest gradients for the potential temperature array\n",
    "\n",
    "# The Theta[0:20] range of atmosphere positions are 8, 11, 12, 16, 17, 19, 18, 15, 13, 14\n",
    "\n",
    "gradRH8 = np.gradient(RH8[0:20]) # Bounds are set from 0 meters to just over 4,000 meters. This is the function for finding the gradient.\n",
    "gradRH8 # This prints the gradient of the Relative Humidity array\n",
    "smallestRH8 = np.argsort(gradRH8)[:10] # This sorts the Relative humidity gradient array from least to greatest and then picks the 10 smallest gradients of the array\n",
    "smallestRH8 # This line returns the positions of the 10 smallest gradients, or the first 10 gradients\n",
    "\n",
    "# The RH[0:20] range of atmosphere positions are 14, 13, 15, 12, 18, 16, 19, 17, 11,  0\n",
    "\n",
    "\n",
    "gradq8 = np.gradient(q8[0:20]) # Bounds are set from 0 meters to just over 4,000 meters. This is the function for finding the gradient.\n",
    "gradq8 # This prints the gradient of the Specific Humidity array\n",
    "smallestq8 = np.argsort(gradq8)[:10] # This sorts the Specific humidity gradient array from least to greatest and then picks the 10 smallest gradients of the array\n",
    "smallestq8 # This line returns the positions of the 10 smallest gradients, or the first 10 gradients\n",
    "\n",
    "# The q[0:20] range of atmosphere positions are 14, 13, 15,  1,  0,  2,  8,  9, 10, 11\n",
    "\n",
    "\n",
    "gradN8 = np.gradient(N8[0:20]) # Bounds are set from 0 meters to just over 4,000 meters. This is the function for finding the gradient.\n",
    "gradN8 # This prints the gradient of the Refractivity array\n",
    "smallestN8 = np.argsort(gradN8)[:10] # This sorts the Refractivity gradient array from least to greatest and then picks the 10 smallest gradients of the array\n",
    "smallestN8 # This line returns the positions of the 10 smallest gradients, or the first 10 gradients\n",
    "\n",
    "# The N[0:20] range of atmosphere positions are 14, 13,  1,  8,  9,  0,  2, 10,  5, 18\n",
    "\n",
    "#-----------------------------------------------------------------------------\n",
    "\n",
    "# I then want to print the height where at least three parameters had the same height when going in descending \n",
    "# order for potential temperature and ascending order for relative humidity, specific humidity and refractivity, \n",
    "# as that height is said to be the mixing layer height\n",
    "\n",
    "MLH8 = h8[13]\n",
    "MLH8 = np.ones(115)*MLH8\n",
    "MLH8"
   ]
  },
  {
   "cell_type": "markdown",
   "id": "144a2d1d",
   "metadata": {},
   "source": [
    "# Print the Row of the Mixing Layer Height. This will be useful for the Machine Learning tool for MLH forecast estimations. "
   ]
  },
  {
   "cell_type": "code",
   "execution_count": 102,
   "id": "4c0c3aaf",
   "metadata": {
    "scrolled": false
   },
   "outputs": [
    {
     "data": {
      "text/plain": [
       "pressure                        719.0\n",
       "height                           2835\n",
       "temperature                       0.6\n",
       "dewpoint                         -2.0\n",
       "direction                       296.0\n",
       "speed                            27.0\n",
       "u_wind                      24.267439\n",
       "v_wind                     -11.836021\n",
       "station                           IAD\n",
       "station_number                  72403\n",
       "time              2021-07-03 00:00:00\n",
       "latitude                        38.98\n",
       "longitude                      -77.46\n",
       "elevation                        93.0\n",
       "pw                              19.46\n",
       "Name: 13, dtype: object"
      ]
     },
     "execution_count": 102,
     "metadata": {},
     "output_type": "execute_result"
    }
   ],
   "source": [
    "df8.loc[13]"
   ]
  },
  {
   "cell_type": "markdown",
   "id": "bd312404",
   "metadata": {},
   "source": [
    "## Plotting for July 3, 2021 at 00Z"
   ]
  },
  {
   "cell_type": "code",
   "execution_count": 118,
   "id": "e9bd17db",
   "metadata": {},
   "outputs": [
    {
     "data": {
      "image/png": "[encoded data removed]",
      "text/plain": [
       "<Figure size 432x288 with 1 Axes>"
      ]
     },
     "metadata": {
      "needs_background": "light"
     },
     "output_type": "display_data"
    }
   ],
   "source": [
    "plt.plot(Theta8,h8, c=\"b\", label=\"Potential Temperature\")  ##Always after \"plt.plot\" is the x and y axis. So in this case it is Potential temperature (theta) and height data. Next, I change the color by using \"c=\". I then labeled the line using the \"label= \".\n",
    "plt.plot(Theta8,MLH8, c=\"bLACK\", label=\"Mixing Layer Height\")\n",
    "plt.xlabel('Theta (K)')\n",
    "plt.xlim(np.amin(Theta8),312)\n",
    "plt.ylabel('Height (m)')\n",
    "plt.ylim(0,4000)\n",
    "plt.legend(loc=0)\n",
    "plt.title('Potential Temperature versus Height\\nSterling, VA - July 3, 2021 at 0 UTC')\n",
    "plt.grid(True) \n",
    "plt.savefig(\"0703202100ZPT.png\")"
   ]
  },
  {
   "cell_type": "code",
   "execution_count": null,
   "id": "e4f96eb6",
   "metadata": {},
   "outputs": [],
   "source": [
    "plt.plot(RH8,h8, c=\"red\", label=\"Relative Humidity\")  ##Always after \"plt.plot\" is the x and y axis. So in this case it is Relative Humidity and height data. Next, I change the color by using \"c=\". I then labeled the line using the \"label= \".\n",
    "plt.plot(RH8,MLH8, c=\"black\", label=\"Mixing Layer Height\")\n",
    "plt.xlabel('Relative Humidity (%)')\n",
    "plt.xlim(0,np.amax(RH8))\n",
    "plt.ylabel('Height (m)')\n",
    "plt.ylim(0,4000)\n",
    "plt.legend(loc=0)\n",
    "plt.title('Relative Humidity versus Height\\nSterling, VA - July 3, 2021 at 0 UTC')\n",
    "plt.grid(True)\n",
    "plt.savefig(\"0703202100ZRH.png\")"
   ]
  },
  {
   "cell_type": "code",
   "execution_count": null,
   "id": "4bb8b20c",
   "metadata": {},
   "outputs": [],
   "source": [
    "plt.plot(q8,h8, c=\"green\",label='Specific Humidity')  ##Always after \"plt.plot\" is the x and y axis. So in this case it is Specific Humidity (q) and height data. Next, I change the color by using \"c=\". I then labeled the line using the \"label= \".\n",
    "plt.plot(q8,MLH8, c=\"black\",label='Mixing Layer Height')\n",
    "plt.xlabel('q (g/kg)')\n",
    "plt.xlim(0.000,np.amax(q8))\n",
    "plt.ylabel('Height (m)')\n",
    "plt.ylim(0,4000)\n",
    "plt.legend(loc=0)\n",
    "plt.title('Specific Humidity versus Height\\nSterling, VA - July 3, 2021 at 0 UTC')\n",
    "plt.grid(True) \n",
    "plt.savefig(\"0703202100ZSH.png\")"
   ]
  },
  {
   "cell_type": "code",
   "execution_count": null,
   "id": "ab72a016",
   "metadata": {},
   "outputs": [],
   "source": [
    "plt.plot(N8,h8, c=\"brown\",label='Refractivity')  ##Always after \"plt.plot\" is the x and y axis. So in this case it is Refractivity (N) and height data. Next, I change the color by using \"c=\". I then labeled the line using the \"label= \".\n",
    "plt.plot(N8,MLH8, c=\"black\",label='Mixing Layer Height')\n",
    "plt.xlabel('N')\n",
    "plt.xlim(170,np.amax(N8))\n",
    "plt.ylabel('Height (m)')\n",
    "plt.ylim(0,4000)\n",
    "plt.legend(loc=0)\n",
    "plt.title('Refractivity versus Height\\nSterling, VA - July 3, 2021 at 0 UTC')\n",
    "plt.grid(True) \n",
    "plt.savefig(\"0703202100ZR.png\")"
   ]
  },
  {
   "cell_type": "markdown",
   "id": "69cce0ee",
   "metadata": {},
   "source": [
    "## Importing the Data"
   ]
  },
  {
   "cell_type": "markdown",
   "id": "1a629b26",
   "metadata": {},
   "source": [
    "### July 3 2021 at 12Z"
   ]
  },
  {
   "cell_type": "code",
   "execution_count": null,
   "id": "22e4b1ef",
   "metadata": {},
   "outputs": [],
   "source": [
    "date03AT12Z = datetime(2021, 7, 3, 12) # Year, month, day, time\n",
    "station = 'IAD' # Three letter code "
   ]
  },
  {
   "cell_type": "code",
   "execution_count": null,
   "id": "08d2a144",
   "metadata": {},
   "outputs": [],
   "source": [
    "df9 = WyomingUpperAir.request_data(date03AT12Z, station)"
   ]
  },
  {
   "cell_type": "code",
   "execution_count": null,
   "id": "e424560d",
   "metadata": {},
   "outputs": [],
   "source": [
    "#df9 # This prints the table from the website. This is a Pandas data frame. Panda allows you to manipulate, join, and do operations on it"
   ]
  },
  {
   "cell_type": "code",
   "execution_count": null,
   "id": "b088ddfd",
   "metadata": {},
   "outputs": [],
   "source": [
    "h9 = df9['height'].values * units(df.units['height']) # This line assigns the units to the values in the pandas dataframe. We will pull things into individual variables. We put '.values' at the end because I want just the array of numbers., not the whole data series or objects\n",
    "P9 = df9['pressure'].values *units(df.units['pressure']) # This line grabs the pressure array\n",
    "T_degC9 = df9['temperature'].values * units (df.units['temperature']) # This grabs the temperature array\n",
    "Td_degC9 = df9['dewpoint'].values * units (df.units['dewpoint']) # This grabs the dewpoint temperature array\n",
    "h9"
   ]
  },
  {
   "cell_type": "code",
   "execution_count": null,
   "id": "5d69367c",
   "metadata": {},
   "outputs": [],
   "source": [
    "T_kelvin9 = T_degC9.to('kelvin')\n",
    "Td_kelvin9 = Td_degC9.to('kelvin')"
   ]
  },
  {
   "cell_type": "code",
   "execution_count": null,
   "id": "77b1219c",
   "metadata": {},
   "outputs": [],
   "source": [
    "Theta9 = mpcalc.potential_temperature(P9, T_kelvin9) # This line calculates the potential temperature in units of kelvin\n",
    "RH9 = mpcalc.relative_humidity_from_dewpoint(T_kelvin9, Td_kelvin9)*100 # This line calculates the Relative Humidity\n",
    "q9 = mpcalc.specific_humidity_from_dewpoint(P9, Td_kelvin9) # This line calculates the Specific Humidity\n",
    "mr9 = mpcalc.mixing_ratio_from_specific_humidity(q9) # This line calculates the Mixing Ratio\n",
    "e9 = mpcalc.vapor_pressure(P9, mr9) # This line calculates the water vapor pressure in hPa\n",
    "#static_stability = mpcalc.static_stability(P, T_kelvin, vertical_dim=0)"
   ]
  },
  {
   "cell_type": "code",
   "execution_count": null,
   "id": "1bedf7f1",
   "metadata": {},
   "outputs": [],
   "source": [
    "N9 = ((77.6)*(P9/T_kelvin9)).magnitude + ((3.73)*(10**5)*(e9/(T_kelvin9**2))).magnitude # This line calculates the refractivity"
   ]
  },
  {
   "cell_type": "markdown",
   "id": "739b9126",
   "metadata": {},
   "source": [
    "# Gradient coding for July 3 at 12Z"
   ]
  },
  {
   "cell_type": "code",
   "execution_count": null,
   "id": "82d4ea4c",
   "metadata": {},
   "outputs": [],
   "source": [
    "gradTheta9 = np.gradient(Theta9[0:22]) # I set the bounds from 0 meters to just over 4,000 meters. This is the function for finding the gradient. I attempeted using Metpy's gradient function, but I was getting errors\n",
    "gradTheta9 # This prints the gradient of the Potential Temperature array\n",
    "largestTheta9 = np.argsort(gradTheta9)[-10:] # This gives us the position of the largest 10 largest gradients for the potential temperature array\n",
    "largestTheta9 # This prints the positions of the largest 10 largest gradients for the potential temperature array\n",
    "\n",
    "# The Theta[0:22] range of atmosphere positions are 6, 12, 16, 18,  7, 11, 17, 21, 19, 20\n",
    "\n",
    "gradRH9 = np.gradient(RH9[0:22]) # Bounds are set from 0 meters to just over 4,000 meters. This is the function for finding the gradient.\n",
    "gradRH9 # This prints the gradient of the Relative Humidity array\n",
    "smallestRH9 = np.argsort(gradRH9)[:10] # This sorts the Relative humidity gradient array from least to greatest and then picks the 10 smallest gradients of the array\n",
    "smallestRH9 # This line returns the positions of the 10 smallest gradients, or the first 10 gradients\n",
    "\n",
    "# The RH[0:22] range of atmosphere positions are 18, 19, 17,  7, 11,  6, 12,  8,  5,  9\n",
    "\n",
    "\n",
    "gradq9 = np.gradient(q9[0:22]) # Bounds are set from 0 meters to just over 4,000 meters. This is the function for finding the gradient.\n",
    "gradq9 # This prints the gradient of the Specific Humidity array\n",
    "smallestq9 = np.argsort(gradq9)[:10] # This sorts the Specific humidity gradient array from least to greatest and then picks the 10 smallest gradients of the array\n",
    "smallestq9 # This line returns the positions of the 10 smallest gradients, or the first 10 gradients\n",
    "\n",
    "# The q[0:22] range of atmosphere positions are 11, 18, 19,  1,  8,  0,  2, 10, 12,  9\n",
    "\n",
    "\n",
    "gradN9 = np.gradient(N9[0:22]) # Bounds are set from 0 meters to just over 4,000 meters. This is the function for finding the gradient.\n",
    "gradN9 # This prints the gradient of the Refractivity array\n",
    "smallestN9 = np.argsort(gradN9)[:10] # This sorts the Refractivity gradient array from least to greatest and then picks the 10 smallest gradients of the array\n",
    "smallestN9 # This line returns the positions of the 10 smallest gradients, or the first 10 gradients\n",
    "\n",
    "# The N[0:22] range of atmosphere positions are 11,  1,  0,  2, 19, 12,  8, 10,  7, 18\n",
    "\n",
    "#-----------------------------------------------------------------------------\n",
    "\n",
    "# I then want to print the height where at least three parameters had the same height when going in descending \n",
    "# order for potential temperature and ascending order for relative humidity, specific humidity and refractivity, \n",
    "# as that height is said to be the mixing layer height\n",
    "\n",
    "#h9[]"
   ]
  },
  {
   "cell_type": "markdown",
   "id": "492b3c88",
   "metadata": {},
   "source": [
    "## Plotting for July 3, 2021 at 12Z"
   ]
  },
  {
   "cell_type": "code",
   "execution_count": null,
   "id": "7c92c238",
   "metadata": {},
   "outputs": [],
   "source": [
    "plt.plot(Theta9,h9, c=\"b\", label=\"Potential Temperature\")  ##Always after \"plt.plot\" is the x and y axis. So in this case it is Potential temperature (theta) and height data. Next, I change the color by using \"c=\". I then labeled the line using the \"label= \".\n",
    "plt.xlabel('Theta (K)')\n",
    "plt.xlim(np.amin(Theta9),310)\n",
    "plt.ylabel('Height (m)')\n",
    "plt.ylim(0,4000)\n",
    "plt.legend(loc=0)\n",
    "plt.title('Potential Temperature versus Height\\nSterling, VA - July 3, 2021 at 12 UTC')\n",
    "plt.grid(True) \n",
    "plt.savefig(\"0703202112ZPT.png\")"
   ]
  },
  {
   "cell_type": "code",
   "execution_count": null,
   "id": "2d11e166",
   "metadata": {},
   "outputs": [],
   "source": [
    "plt.plot(RH9,h9, c=\"red\", label=\"Relative Humidity\")  ##Always after \"plt.plot\" is the x and y axis. So in this case it is Relative Humidity and height data. Next, I change the color by using \"c=\". I then labeled the line using the \"label= \".\n",
    "plt.xlabel('Relative Humidity (%)')\n",
    "plt.xlim(35,np.amax(RH9))\n",
    "plt.ylabel('Height (m)')\n",
    "plt.ylim(0,4000)\n",
    "plt.legend(loc=0)\n",
    "plt.title('Relative Humidity versus Height\\nSterling, VA - July 3, 2021 at 12 UTC')\n",
    "plt.grid(True) \n",
    "plt.grid(True)\n",
    "plt.savefig(\"0703202112ZRH.png\")"
   ]
  },
  {
   "cell_type": "code",
   "execution_count": null,
   "id": "6afa4e88",
   "metadata": {},
   "outputs": [],
   "source": [
    "plt.plot(q9,h9, c=\"green\",label='Specific Humidity')  ##Always after \"plt.plot\" is the x and y axis. So in this case it is Specific Humidity (q) and height data. Next, I change the color by using \"c=\". I then labeled the line using the \"label= \".\n",
    "plt.xlabel('q (g/kg)')\n",
    "plt.xlim(0.0015,np.amax(q9))\n",
    "plt.ylabel('Height (m)')\n",
    "plt.ylim(0,4000)\n",
    "plt.legend(loc=0)\n",
    "plt.title('Specific Humidity versus Height\\nSterling, VA - July 3, 2021 at 12 UTC')\n",
    "plt.grid(True) \n",
    "plt.savefig(\"0703202112ZSH.png\")"
   ]
  },
  {
   "cell_type": "code",
   "execution_count": null,
   "id": "0bcbf14a",
   "metadata": {},
   "outputs": [],
   "source": [
    "plt.plot(N9,h9, c=\"brown\",label='Refractivity')  ##Always after \"plt.plot\" is the x and y axis. So in this case it is Refractivity (N) and height data. Next, I change the color by using \"c=\". I then labeled the line using the \"label= \".\n",
    "plt.xlabel('N')\n",
    "plt.xlim(180,np.amax(N9))\n",
    "plt.ylabel('Height (m)')\n",
    "plt.ylim(0,4000)\n",
    "plt.legend(loc=0)\n",
    "plt.title('Refractivity versus Height\\nSterling, VA - July 3, 2021 at 12 UTC')\n",
    "plt.grid(True) \n",
    "plt.savefig(\"0703202112ZR.png\")"
   ]
  },
  {
   "cell_type": "markdown",
   "id": "bd036892",
   "metadata": {},
   "source": [
    "## Importing the Data"
   ]
  },
  {
   "cell_type": "markdown",
   "id": "4d5b1ce4",
   "metadata": {},
   "source": [
    "### July 4 2021 at 00Z"
   ]
  },
  {
   "cell_type": "code",
   "execution_count": null,
   "id": "1ac997ee",
   "metadata": {},
   "outputs": [],
   "source": [
    "date04AT00Z = datetime(2021, 7, 4, 0) # Year, month, day, time\n",
    "station = 'IAD' # Three letter code "
   ]
  },
  {
   "cell_type": "code",
   "execution_count": null,
   "id": "940b99f2",
   "metadata": {},
   "outputs": [],
   "source": [
    "df10 = WyomingUpperAir.request_data(date04AT00Z, station)"
   ]
  },
  {
   "cell_type": "code",
   "execution_count": null,
   "id": "d2d5dc9c",
   "metadata": {},
   "outputs": [],
   "source": [
    "#df10 # This prints the table from the website. This is a Pandas data frame. Panda allows you to manipulate, join, and do operations on it"
   ]
  },
  {
   "cell_type": "code",
   "execution_count": null,
   "id": "6ff93c9a",
   "metadata": {},
   "outputs": [],
   "source": [
    "h10 = df10['height'].values * units(df.units['height']) # This line assigns the units to the values in the pandas dataframe. We will pull things into individual variables. We put '.values' at the end because I want just the array of numbers., not the whole data series or objects\n",
    "P10 = df10['pressure'].values *units(df.units['pressure']) # This line grabs the pressure array\n",
    "T_degC10 = df10['temperature'].values * units (df.units['temperature']) # This grabs the temperature array\n",
    "Td_degC10 = df10['dewpoint'].values * units (df.units['dewpoint']) # This grabs the dewpoint temperature array\n",
    "h10"
   ]
  },
  {
   "cell_type": "code",
   "execution_count": null,
   "id": "a89da856",
   "metadata": {},
   "outputs": [],
   "source": [
    "T_kelvin10 = T_degC10.to('kelvin')\n",
    "Td_kelvin10 = Td_degC10.to('kelvin')"
   ]
  },
  {
   "cell_type": "code",
   "execution_count": null,
   "id": "21e99dc7",
   "metadata": {},
   "outputs": [],
   "source": [
    "Theta10 = mpcalc.potential_temperature(P10, T_kelvin10) # This line calculates the potential temperature in units of kelvin\n",
    "RH10 = mpcalc.relative_humidity_from_dewpoint(T_kelvin10, Td_kelvin10)*100 # This line calculates the Relative Humidity\n",
    "q10 = mpcalc.specific_humidity_from_dewpoint(P10, Td_kelvin10) # This line calculates the Specific Humidity\n",
    "mr10 = mpcalc.mixing_ratio_from_specific_humidity(q10) # This line calculates the Mixing Ratio\n",
    "e10 = mpcalc.vapor_pressure(P10, mr10) # This line calculates the water vapor pressure in hPa\n",
    "#static_stability = mpcalc.static_stability(P, T_kelvin, vertical_dim=0)"
   ]
  },
  {
   "cell_type": "code",
   "execution_count": null,
   "id": "009b68bc",
   "metadata": {},
   "outputs": [],
   "source": [
    "N10 = ((77.6)*(P10/T_kelvin10)).magnitude + ((3.73)*(10**5)*(e10/(T_kelvin10**2))).magnitude # This line calculates the refractivity"
   ]
  },
  {
   "cell_type": "markdown",
   "id": "36b04b58",
   "metadata": {},
   "source": [
    "# Gradient coding for July 4 at 00Z"
   ]
  },
  {
   "cell_type": "code",
   "execution_count": null,
   "id": "c95e6f82",
   "metadata": {},
   "outputs": [],
   "source": [
    "gradTheta10 = np.gradient(Theta10[0:18]) # I set the bounds from 0 meters to just over 4,000 meters. This is the function for finding the gradient. I attempeted using Metpy's gradient function, but I was getting errors\n",
    "gradTheta10 # This prints the gradient of the Potential Temperature array\n",
    "largestTheta10 = np.argsort(gradTheta10)[-10:] # This gives us the position of the largest 10 largest gradients for the potential temperature array\n",
    "largestTheta10 # This prints the positions of the largest 10 largest gradients for the potential temperature array\n",
    "\n",
    "# The Theta[0:18] range of atmosphere positions are 1,  9,  8, 13, 11, 16, 12, 17, 15, 14\n",
    "\n",
    "gradRH10 = np.gradient(RH10[0:18]) # Bounds are set from 0 meters to just over 4,000 meters. This is the function for finding the gradient.\n",
    "gradRH10 # This prints the gradient of the Relative Humidity array\n",
    "smallestRH10 = np.argsort(gradRH10)[:10] # This sorts the Relative humidity gradient array from least to greatest and then picks the 10 smallest gradients of the array\n",
    "smallestRH10 # This line returns the positions of the 10 smallest gradients, or the first 10 gradients\n",
    "\n",
    "# The RH[0:18] range of atmosphere positions are 12, 11, 17, 16, 13,  2,  0,  3,  1,  7\n",
    "\n",
    "\n",
    "gradq10 = np.gradient(q10[0:18]) # Bounds are set from 0 meters to just over 4,000 meters. This is the function for finding the gradient.\n",
    "gradq10 # This prints the gradient of the Specific Humidity array\n",
    "smallestq10 = np.argsort(gradq10)[:10] # This sorts the Specific humidity gradient array from least to greatest and then picks the 10 smallest gradients of the array\n",
    "smallestq10 # This line returns the positions of the 10 smallest gradients, or the first 10 gradients\n",
    "\n",
    "# The q[0:18] range of atmosphere positions are 12, 11,  1,  8,  2,  9,  0, 17, 10,  7\n",
    "\n",
    "\n",
    "gradN10 = np.gradient(N10[0:18]) # Bounds are set from 0 meters to just over 4,000 meters. This is the function for finding the gradient.\n",
    "gradN10 # This prints the gradient of the Refractivity array\n",
    "smallestN10 = np.argsort(gradN10)[:10] # This sorts the Refractivity gradient array from least to greatest and then picks the 10 smallest gradients of the array\n",
    "smallestN10 # This line returns the positions of the 10 smallest gradients, or the first 10 gradients\n",
    "\n",
    "# The N[0:18] range of atmosphere positions are 1,  8,  9,  2, 12,  0, 14,  5, 15, 11\n",
    "\n",
    "#-----------------------------------------------------------------------------\n",
    "\n",
    "# I then want to print the height where at least three parameters had the same height when going in descending \n",
    "# order for potential temperature and ascending order for relative humidity, specific humidity and refractivity, \n",
    "# as that height is said to be the mixing layer height\n",
    "\n",
    "#h10[]"
   ]
  },
  {
   "cell_type": "markdown",
   "id": "1eb5268a",
   "metadata": {},
   "source": [
    "## Plotting for July 4, 2021 at 00Z"
   ]
  },
  {
   "cell_type": "code",
   "execution_count": null,
   "id": "19860ad0",
   "metadata": {},
   "outputs": [],
   "source": [
    "plt.plot(Theta10,h10, c=\"b\", label=\"Potential Temperature\")  ##Always after \"plt.plot\" is the x and y axis. So in this case it is Potential temperature (theta) and height data. Next, I change the color by using \"c=\". I then labeled the line using the \"label= \".\n",
    "plt.xlabel('Theta (K)')\n",
    "plt.xlim(np.amin(Theta10),308)\n",
    "plt.ylabel('Height (m)')\n",
    "plt.ylim(0,4000)\n",
    "plt.legend(loc=0)\n",
    "plt.title('Potential Temperature versus Height\\nSterling, VA - July 4, 2021 at 0 UTC')\n",
    "plt.grid(True) \n",
    "plt.savefig(\"0704202100ZPT.png\")"
   ]
  },
  {
   "cell_type": "code",
   "execution_count": null,
   "id": "ef8e79e7",
   "metadata": {},
   "outputs": [],
   "source": [
    "plt.plot(RH10,h10, c=\"red\", label=\"Relative Humidity\")  ##Always after \"plt.plot\" is the x and y axis. So in this case it is Relative Humidity and height data. Next, I change the color by using \"c=\". I then labeled the line using the \"label= \".\n",
    "plt.xlabel('Relative Humidity (%)')\n",
    "plt.xlim(50,np.amax(RH10))\n",
    "plt.ylabel('Height (m)')\n",
    "plt.ylim(0,4000)\n",
    "plt.legend(loc=0)\n",
    "plt.title('Relative Humidity versus Height\\nSterling, VA - July 4, 2021 at 0 UTC')\n",
    "plt.grid(True)\n",
    "plt.savefig(\"0704202100ZRH.png\")"
   ]
  },
  {
   "cell_type": "code",
   "execution_count": null,
   "id": "3897d03f",
   "metadata": {},
   "outputs": [],
   "source": [
    "plt.plot(q10,h10, c=\"green\",label='Specific Humidity')  ##Always after \"plt.plot\" is the x and y axis. So in this case it is Specific Humidity (q) and height data. Next, I change the color by using \"c=\". I then labeled the line using the \"label= \".\n",
    "plt.xlabel('q (g/kg)')\n",
    "plt.xlim(0.0035,np.amax(q10))\n",
    "plt.ylabel('Height (m)')\n",
    "plt.ylim(0,4000)\n",
    "plt.legend(loc=0)\n",
    "plt.title('Specific Humidity versus Height\\nSterling, VA - July 4, 2021 at 0 UTC')\n",
    "plt.grid(True) \n",
    "plt.savefig(\"0704202100ZSH.png\")"
   ]
  },
  {
   "cell_type": "code",
   "execution_count": null,
   "id": "6a0379c0",
   "metadata": {},
   "outputs": [],
   "source": [
    "plt.plot(N10,h10, c=\"brown\",label='Refractivity')  ##Always after \"plt.plot\" is the x and y axis. So in this case it is Refractivity (N) and height data. Next, I change the color by using \"c=\". I then labeled the line using the \"label= \".\n",
    "plt.xlabel('N')\n",
    "plt.xlim(190,330)\n",
    "plt.ylabel('Height (m)')\n",
    "plt.ylim(0,4000)\n",
    "plt.title('Refractivity versus Height\\nSterling, VA - July 4, 2021 at 0 UTC')\n",
    "plt.grid(True) \n",
    "plt.savefig(\"0704202100ZR.png\")"
   ]
  },
  {
   "cell_type": "markdown",
   "id": "bbd157b1",
   "metadata": {},
   "source": [
    "## Importing the Data"
   ]
  },
  {
   "cell_type": "markdown",
   "id": "82a02355",
   "metadata": {},
   "source": [
    "### July 4 2021 at 12Z"
   ]
  },
  {
   "cell_type": "code",
   "execution_count": 103,
   "id": "b38bfceb",
   "metadata": {},
   "outputs": [],
   "source": [
    "date04AT12Z = datetime(2021, 7, 4, 12) # Year, month, day, time\n",
    "station = 'IAD' # Three letter code "
   ]
  },
  {
   "cell_type": "code",
   "execution_count": 104,
   "id": "2f0fd90b",
   "metadata": {},
   "outputs": [],
   "source": [
    "df11 = WyomingUpperAir.request_data(date04AT12Z, station)"
   ]
  },
  {
   "cell_type": "code",
   "execution_count": 105,
   "id": "ca685da6",
   "metadata": {},
   "outputs": [],
   "source": [
    "#df11 # This prints the table from the website. This is a Pandas data frame. Panda allows you to manipulate, join, and do operations on it"
   ]
  },
  {
   "cell_type": "code",
   "execution_count": 106,
   "id": "bea6e5e5",
   "metadata": {},
   "outputs": [
    {
     "data": {
      "text/html": [
       "<table><tbody><tr><th>Magnitude</th><td style='text-align:left;'><pre>[   93   107   141   176   246   305   610   778   914   927  1219  1327<br>  1493  1523  1524  1829  2038  2134  2438  2734  2743  2891  2970  3048<br>  3085  3607  3658  4267  4541  4877  5166  5730  6096  6646  7400  7547<br>  7620  8509  8839  9144  9336  9450 10058 10668 10680 12067 12130 12497<br> 12802 13411 13810 13980 14021 15240 16154 16459 16488 16550 17069 17374<br> 17678 17742 17983 18189 18288 18780 18898 19563 20117 20900 21336 22781<br> 22860 23470 24170 24235 24384 25908 26822 26820 27127 27432 27480 28651<br> 29870 30480 30844 31394 31500 31699 32145 32533]</pre></td></tr><tr><th>Units</th><td style='text-align:left;'>meter</td></tr></tbody></table>"
      ],
      "text/latex": [
       "$\\begin{pmatrix}93 & 107 & 141 & 176 & 246 & 305 & 610 & 778 & 914 & 927 & 1219 & 1327 & 1493 & 1523 & 1524 & 1829 & 2038 & 2134 & 2438 & 2734 & 2743 & 2891 & 2970 & 3048 & 3085 & 3607 & 3658 & 4267 & 4541 & 4877 & 5166 & 5730 & 6096 & 6646 & 7400 & 7547 & 7620 & 8509 & 8839 & 9144 & 9336 & 9450 & 10058 & 10668 & 10680 & 12067 & 12130 & 12497 & 12802 & 13411 & 13810 & 13980 & 14021 & 15240 & 16154 & 16459 & 16488 & 16550 & 17069 & 17374 & 17678 & 17742 & 17983 & 18189 & 18288 & 18780 & 18898 & 19563 & 20117 & 20900 & 21336 & 22781 & 22860 & 23470 & 24170 & 24235 & 24384 & 25908 & 26822 & 26820 & 27127 & 27432 & 27480 & 28651 & 29870 & 30480 & 30844 & 31394 & 31500 & 31699 & 32145 & 32533\\end{pmatrix}\\ \\mathrm{meter}$"
      ],
      "text/plain": [
       "array([   93,   107,   141,   176,   246,   305,   610,   778,   914,\n",
       "         927,  1219,  1327,  1493,  1523,  1524,  1829,  2038,  2134,\n",
       "        2438,  2734,  2743,  2891,  2970,  3048,  3085,  3607,  3658,\n",
       "        4267,  4541,  4877,  5166,  5730,  6096,  6646,  7400,  7547,\n",
       "        7620,  8509,  8839,  9144,  9336,  9450, 10058, 10668, 10680,\n",
       "       12067, 12130, 12497, 12802, 13411, 13810, 13980, 14021, 15240,\n",
       "       16154, 16459, 16488, 16550, 17069, 17374, 17678, 17742, 17983,\n",
       "       18189, 18288, 18780, 18898, 19563, 20117, 20900, 21336, 22781,\n",
       "       22860, 23470, 24170, 24235, 24384, 25908, 26822, 26820, 27127,\n",
       "       27432, 27480, 28651, 29870, 30480, 30844, 31394, 31500, 31699,\n",
       "       32145, 32533]) <Unit('meter')>"
      ]
     },
     "execution_count": 106,
     "metadata": {},
     "output_type": "execute_result"
    }
   ],
   "source": [
    "h11 = df11['height'].values * units(df.units['height']) # This line assigns the units to the values in the pandas dataframe. We will pull things into individual variables. We put '.values' at the end because I want just the array of numbers., not the whole data series or objects\n",
    "P11 = df11['pressure'].values *units(df.units['pressure']) # This line grabs the pressure array\n",
    "T_degC11 = df11['temperature'].values * units (df.units['temperature']) # This grabs the temperature array\n",
    "Td_degC11 = df11['dewpoint'].values * units (df.units['dewpoint']) # This grabs the dewpoint temperature array\n",
    "h11"
   ]
  },
  {
   "cell_type": "code",
   "execution_count": 107,
   "id": "98d9dfec",
   "metadata": {},
   "outputs": [],
   "source": [
    "T_kelvin11 = T_degC11.to('kelvin')\n",
    "Td_kelvin11 = Td_degC11.to('kelvin')"
   ]
  },
  {
   "cell_type": "code",
   "execution_count": 108,
   "id": "ac4bd220",
   "metadata": {},
   "outputs": [],
   "source": [
    "Theta11 = mpcalc.potential_temperature(P11, T_kelvin11) # This line calculates the potential temperature in units of kelvin\n",
    "RH11 = mpcalc.relative_humidity_from_dewpoint(T_kelvin11, Td_kelvin11)*100 # This line calculates the Relative Humidity\n",
    "q11 = mpcalc.specific_humidity_from_dewpoint(P11, Td_kelvin11) # This line calculates the Specific Humidity\n",
    "mr11 = mpcalc.mixing_ratio_from_specific_humidity(q11) # This line calculates the Mixing Ratio\n",
    "e11 = mpcalc.vapor_pressure(P11, mr11) # This line calculates the water vapor pressure in hPa\n",
    "#static_stability = mpcalc.static_stability(P, T_kelvin, vertical_dim=0)"
   ]
  },
  {
   "cell_type": "code",
   "execution_count": 109,
   "id": "9963452a",
   "metadata": {},
   "outputs": [],
   "source": [
    "N11 = ((77.6)*(P11/T_kelvin11)).magnitude + ((3.73)*(10**5)*(e11/(T_kelvin11**2))).magnitude # This line calculates the refractivity"
   ]
  },
  {
   "cell_type": "markdown",
   "id": "1933d97f",
   "metadata": {},
   "source": [
    "# Gradient coding for July 4 at 12Z"
   ]
  },
  {
   "cell_type": "code",
   "execution_count": 110,
   "id": "0fc0125c",
   "metadata": {
    "scrolled": true
   },
   "outputs": [
    {
     "data": {
      "text/html": [
       "<table><tbody><tr><th>Magnitude</th><td style='text-align:left;'><pre>[2891.0 2891.0 2891.0 2891.0 2891.0 2891.0 2891.0 2891.0 2891.0 2891.0<br> 2891.0 2891.0 2891.0 2891.0 2891.0 2891.0 2891.0 2891.0 2891.0 2891.0<br> 2891.0 2891.0 2891.0 2891.0 2891.0 2891.0 2891.0 2891.0 2891.0 2891.0<br> 2891.0 2891.0 2891.0 2891.0 2891.0 2891.0 2891.0 2891.0 2891.0 2891.0<br> 2891.0 2891.0 2891.0 2891.0 2891.0 2891.0 2891.0 2891.0 2891.0 2891.0<br> 2891.0 2891.0 2891.0 2891.0 2891.0 2891.0 2891.0 2891.0 2891.0 2891.0<br> 2891.0 2891.0 2891.0 2891.0 2891.0 2891.0 2891.0 2891.0 2891.0 2891.0<br> 2891.0 2891.0 2891.0 2891.0 2891.0 2891.0 2891.0 2891.0 2891.0 2891.0<br> 2891.0 2891.0 2891.0 2891.0 2891.0 2891.0 2891.0 2891.0 2891.0 2891.0<br> 2891.0 2891.0]</pre></td></tr><tr><th>Units</th><td style='text-align:left;'>meter</td></tr></tbody></table>"
      ],
      "text/latex": [
       "$\\begin{pmatrix}2891.0 & 2891.0 & 2891.0 & 2891.0 & 2891.0 & 2891.0 & 2891.0 & 2891.0 & 2891.0 & 2891.0 & 2891.0 & 2891.0 & 2891.0 & 2891.0 & 2891.0 & 2891.0 & 2891.0 & 2891.0 & 2891.0 & 2891.0 & 2891.0 & 2891.0 & 2891.0 & 2891.0 & 2891.0 & 2891.0 & 2891.0 & 2891.0 & 2891.0 & 2891.0 & 2891.0 & 2891.0 & 2891.0 & 2891.0 & 2891.0 & 2891.0 & 2891.0 & 2891.0 & 2891.0 & 2891.0 & 2891.0 & 2891.0 & 2891.0 & 2891.0 & 2891.0 & 2891.0 & 2891.0 & 2891.0 & 2891.0 & 2891.0 & 2891.0 & 2891.0 & 2891.0 & 2891.0 & 2891.0 & 2891.0 & 2891.0 & 2891.0 & 2891.0 & 2891.0 & 2891.0 & 2891.0 & 2891.0 & 2891.0 & 2891.0 & 2891.0 & 2891.0 & 2891.0 & 2891.0 & 2891.0 & 2891.0 & 2891.0 & 2891.0 & 2891.0 & 2891.0 & 2891.0 & 2891.0 & 2891.0 & 2891.0 & 2891.0 & 2891.0 & 2891.0 & 2891.0 & 2891.0 & 2891.0 & 2891.0 & 2891.0 & 2891.0 & 2891.0 & 2891.0 & 2891.0 & 2891.0\\end{pmatrix}\\ \\mathrm{meter}$"
      ],
      "text/plain": [
       "array([2891., 2891., 2891., 2891., 2891., 2891., 2891., 2891., 2891.,\n",
       "       2891., 2891., 2891., 2891., 2891., 2891., 2891., 2891., 2891.,\n",
       "       2891., 2891., 2891., 2891., 2891., 2891., 2891., 2891., 2891.,\n",
       "       2891., 2891., 2891., 2891., 2891., 2891., 2891., 2891., 2891.,\n",
       "       2891., 2891., 2891., 2891., 2891., 2891., 2891., 2891., 2891.,\n",
       "       2891., 2891., 2891., 2891., 2891., 2891., 2891., 2891., 2891.,\n",
       "       2891., 2891., 2891., 2891., 2891., 2891., 2891., 2891., 2891.,\n",
       "       2891., 2891., 2891., 2891., 2891., 2891., 2891., 2891., 2891.,\n",
       "       2891., 2891., 2891., 2891., 2891., 2891., 2891., 2891., 2891.,\n",
       "       2891., 2891., 2891., 2891., 2891., 2891., 2891., 2891., 2891.,\n",
       "       2891., 2891.]) <Unit('meter')>"
      ]
     },
     "execution_count": 110,
     "metadata": {},
     "output_type": "execute_result"
    }
   ],
   "source": [
    "gradTheta11 = np.gradient(Theta11[0:27]) # I set the bounds from 0 meters to just over 4,000 meters. This is the function for finding the gradient. I attempeted using Metpy's gradient function, but I was getting errors\n",
    "gradTheta11 # This prints the gradient of the Potential Temperature array\n",
    "largestTheta11 = np.argsort(gradTheta11)[-10:] # This gives us the position of the largest 10 largest gradients for the potential temperature array\n",
    "largestTheta11 # This prints the positions of the largest 10 largest gradients for the potential temperature array\n",
    "\n",
    "# The Theta[0:27] range of atmosphere positions are 1, 18,  0,  4, 22, 21,  2, 25, 24,  3\n",
    "\n",
    "gradRH11 = np.gradient(RH11[0:27]) # Bounds are set from 0 meters to just over 4,000 meters. This is the function for finding the gradient.\n",
    "gradRH11 # This prints the gradient of the Relative Humidity array\n",
    "smallestRH11 = np.argsort(gradRH11)[:10] # This sorts the Relative humidity gradient array from least to greatest and then picks the 10 smallest gradients of the array\n",
    "smallestRH11 # This line returns the positions of the 10 smallest gradients, or the first 10 gradients\n",
    "\n",
    "# The RH[0:27] range of atmosphere positions are 21, 22,  3,  2, 24, 25, 20,  1,  0, 12\n",
    "\n",
    "\n",
    "gradq11 = np.gradient(q11[0:27]) # Bounds are set from 0 meters to just over 4,000 meters. This is the function for finding the gradient.\n",
    "gradq11 # This prints the gradient of the Specific Humidity array\n",
    "smallestq11 = np.argsort(gradq11)[:10] # This sorts the Specific humidity gradient array from least to greatest and then picks the 10 smallest gradients of the array\n",
    "smallestq11 # This line returns the positions of the 10 smallest gradients, or the first 10 gradients\n",
    "\n",
    "# The q[0:27] range of atmosphere positions are 21, 22, 12, 18, 11,  3, 25, 24, 17,  4\n",
    "\n",
    "\n",
    "gradN11 = np.gradient(N11[0:27]) # Bounds are set from 0 meters to just over 4,000 meters. This is the function for finding the gradient.\n",
    "gradN11 # This prints the gradient of the Refractivity array\n",
    "smallestN11 = np.argsort(gradN11)[:10] # This sorts the Refractivity gradient array from least to greatest and then picks the 10 smallest gradients of the array\n",
    "smallestN11 # This line returns the positions of the 10 smallest gradients, or the first 10 gradients\n",
    "\n",
    "# The N[0:27] range of atmosphere positions are 21, 18, 25, 24,  3, 22, 17,  6, 11, 12\n",
    "\n",
    "#-----------------------------------------------------------------------------\n",
    "\n",
    "# I then want to print the height where at least three parameters had the same height when going in descending \n",
    "# order for potential temperature and ascending order for relative humidity, specific humidity and refractivity, \n",
    "# as that height is said to be the mixing layer height\n",
    "\n",
    "MLH11 = h11[21]\n",
    "MLH11 = np.ones(92)*MLH11\n",
    "MLH11"
   ]
  },
  {
   "cell_type": "markdown",
   "id": "392c9cc4",
   "metadata": {},
   "source": [
    "# Print the Row of the Mixing Layer Height. This will be useful for the Machine Learning tool for MLH forecast estimations. "
   ]
  },
  {
   "cell_type": "code",
   "execution_count": 111,
   "id": "f4573a8f",
   "metadata": {
    "scrolled": false
   },
   "outputs": [
    {
     "data": {
      "text/plain": [
       "pressure                        717.0\n",
       "height                           2891\n",
       "temperature                       2.2\n",
       "dewpoint                         -3.8\n",
       "direction                       315.0\n",
       "speed                            22.0\n",
       "u_wind                      15.556349\n",
       "v_wind                     -15.556349\n",
       "station                           IAD\n",
       "station_number                  72403\n",
       "time              2021-07-04 12:00:00\n",
       "latitude                        38.98\n",
       "longitude                      -77.46\n",
       "elevation                        93.0\n",
       "pw                              22.39\n",
       "Name: 21, dtype: object"
      ]
     },
     "execution_count": 111,
     "metadata": {},
     "output_type": "execute_result"
    }
   ],
   "source": [
    "df11.loc[21]"
   ]
  },
  {
   "cell_type": "markdown",
   "id": "c16cfe9f",
   "metadata": {},
   "source": [
    "## Plotting for July 4, 2021 at 12Z"
   ]
  },
  {
   "cell_type": "code",
   "execution_count": 128,
   "id": "05968ea0",
   "metadata": {},
   "outputs": [
    {
     "data": {
      "image/png": "[encoded data removed]",
      "text/plain": [
       "<Figure size 432x288 with 1 Axes>"
      ]
     },
     "metadata": {
      "needs_background": "light"
     },
     "output_type": "display_data"
    }
   ],
   "source": [
    "plt.plot(Theta11,h11, c=\"b\", label=\"Potential Temperature\")  ##Always after \"plt.plot\" is the x and y axis. So in this case it is Potential temperature (theta) and height data. Next, I change the color by using \"c=\". I then labeled the line using the \"label= \".\n",
    "plt.plot(Theta11,MLH11, c=\"black\", label=\"Mixing Layer Height\")\n",
    "plt.xlabel('Theta (K)')\n",
    "plt.xlim(np.amin(Theta11),312)\n",
    "plt.ylabel('Height (m)')\n",
    "plt.ylim(0,4000)\n",
    "plt.legend(loc=0)\n",
    "plt.title('Potential Temperature versus Height\\nSterling, VA - July 4, 2021 at 12 UTC')\n",
    "plt.grid(True) \n",
    "plt.savefig(\"0704202112ZPT.png\")"
   ]
  },
  {
   "cell_type": "code",
   "execution_count": null,
   "id": "3073af45",
   "metadata": {},
   "outputs": [],
   "source": [
    "plt.plot(RH11,h11, c=\"red\", label=\"Relative Humidity\")  ##Always after \"plt.plot\" is the x and y axis. So in this case it is Relative Humidity and height data. Next, I change the color by using \"c=\". I then labeled the line using the \"label= \".\n",
    "plt.plot(RH11,MLH11, c=\"black\", label=\"Mixing Layer Height\")\n",
    "plt.xlabel('Relative Humidity (%)')\n",
    "plt.xlim(10,np.amax(RH11))\n",
    "plt.ylabel('Height (m)')\n",
    "plt.ylim(0,4000)\n",
    "plt.legend(loc=0)\n",
    "plt.title('Relative Humidity versus Height\\nSterling, VA - July 4, 2021 at 12 UTC')\n",
    "plt.grid(True)\n",
    "plt.savefig(\"0704202112ZRH.png\")"
   ]
  },
  {
   "cell_type": "code",
   "execution_count": null,
   "id": "264cc2b7",
   "metadata": {},
   "outputs": [],
   "source": [
    "plt.plot(q11,h11, c=\"green\",label='Specific Humidity')  ##Always after \"plt.plot\" is the x and y axis. So in this case it is Specific Humidity (q) and height data. Next, I change the color by using \"c=\". I then labeled the line using the \"label= \".\n",
    "plt.plot(q11,MLH11, c=\"black\",label='Mixing Layer Height')\n",
    "plt.xlabel('q (g/kg)')\n",
    "plt.xlim(np.amin(q11),np.amax(q11))\n",
    "plt.ylabel('Height (m)')\n",
    "plt.ylim(0,4000)\n",
    "plt.legend(loc=0)\n",
    "plt.title('Specific Humidity versus Height\\nSterling, VA - July 4, 2021 at 12 UTC')\n",
    "plt.grid(True) \n",
    "plt.savefig(\"0704202112ZSH.png\")"
   ]
  },
  {
   "cell_type": "code",
   "execution_count": null,
   "id": "e5db673b",
   "metadata": {},
   "outputs": [],
   "source": [
    "plt.plot(N11,h11, c=\"brown\",label='Refractivity')  ##Always after \"plt.plot\" is the x and y axis. So in this case it is Refractivity (N) and height data. Next, I change the color by using \"c=\". I then labeled the line using the \"label= \".\n",
    "plt.plot(N11,MLH11, c=\"black\",label='Mixing Layer Height')\n",
    "plt.xlabel('N')\n",
    "plt.xlim(180,np.amax(N11))\n",
    "plt.ylabel('Height (m)')\n",
    "plt.ylim(0,4000)\n",
    "plt.legend(loc=0)\n",
    "plt.title('Refractivity versus Height\\nSterling, VA - July 4, 2021 at 12 UTC')\n",
    "plt.grid(True) \n",
    "plt.savefig(\"0704202112ZR.png\")"
   ]
  },
  {
   "cell_type": "markdown",
   "id": "7fc02712",
   "metadata": {},
   "source": [
    "## Importing the Data"
   ]
  },
  {
   "cell_type": "markdown",
   "id": "9c3347b8",
   "metadata": {},
   "source": [
    "### July 5 2021 at 00Z"
   ]
  },
  {
   "cell_type": "code",
   "execution_count": null,
   "id": "bb1d07ef",
   "metadata": {},
   "outputs": [],
   "source": [
    "date05AT00Z = datetime(2021, 7, 5, 0) # Year, month, day, time\n",
    "station = 'IAD' # Three letter code "
   ]
  },
  {
   "cell_type": "code",
   "execution_count": null,
   "id": "c87e04fd",
   "metadata": {},
   "outputs": [],
   "source": [
    "df12 = WyomingUpperAir.request_data(date05AT00Z, station)"
   ]
  },
  {
   "cell_type": "code",
   "execution_count": null,
   "id": "6d86ce57",
   "metadata": {},
   "outputs": [],
   "source": [
    "#df12 # This prints the table from the website. This is a Pandas data frame. Panda allows you to manipulate, join, and do operations on it"
   ]
  },
  {
   "cell_type": "code",
   "execution_count": null,
   "id": "72cd62ab",
   "metadata": {},
   "outputs": [],
   "source": [
    "h12 = df12['height'].values * units(df.units['height']) # This line assigns the units to the values in the pandas dataframe. We will pull things into individual variables. We put '.values' at the end because I want just the array of numbers., not the whole data series or objects\n",
    "P12 = df12['pressure'].values *units(df.units['pressure']) # This line grabs the pressure array\n",
    "T_degC12 = df12['temperature'].values * units (df.units['temperature']) # This grabs the temperature array\n",
    "Td_degC12 = df12['dewpoint'].values * units (df.units['dewpoint']) # This grabs the dewpoint temperature array\n",
    "h12"
   ]
  },
  {
   "cell_type": "code",
   "execution_count": null,
   "id": "7e970159",
   "metadata": {},
   "outputs": [],
   "source": [
    "T_kelvin12 = T_degC12.to('kelvin')\n",
    "Td_kelvin12 = Td_degC12.to('kelvin')"
   ]
  },
  {
   "cell_type": "code",
   "execution_count": null,
   "id": "ff999490",
   "metadata": {},
   "outputs": [],
   "source": [
    "Theta12 = mpcalc.potential_temperature(P12, T_kelvin12) # This line calculates the potential temperature in units of kelvin\n",
    "RH12 = mpcalc.relative_humidity_from_dewpoint(T_kelvin12, Td_kelvin12)*100 # This line calculates the Relative Humidity\n",
    "q12 = mpcalc.specific_humidity_from_dewpoint(P12, Td_kelvin12) # This line calculates the Specific Humidity\n",
    "mr12 = mpcalc.mixing_ratio_from_specific_humidity(q12) # This line calculates the Mixing Ratio\n",
    "e12 = mpcalc.vapor_pressure(P12, mr12) # This line calculates the water vapor pressure in hPa\n",
    "#static_stability = mpcalc.static_stability(P, T_kelvin, vertical_dim=0)"
   ]
  },
  {
   "cell_type": "code",
   "execution_count": null,
   "id": "0c900b25",
   "metadata": {},
   "outputs": [],
   "source": [
    "N12 = ((77.6)*(P12/T_kelvin12)).magnitude + ((3.73)*(10**5)*(e12/(T_kelvin12**2))).magnitude # This line calculates the refractivity"
   ]
  },
  {
   "cell_type": "markdown",
   "id": "dec0d008",
   "metadata": {},
   "source": [
    "# Gradient coding for July 5 at 00Z"
   ]
  },
  {
   "cell_type": "code",
   "execution_count": null,
   "id": "22947338",
   "metadata": {},
   "outputs": [],
   "source": [
    "gradTheta12 = np.gradient(Theta12[0:23]) # I set the bounds from 0 meters to just over 4,000 meters. This is the function for finding the gradient. I attempeted using Metpy's gradient function, but I was getting errors\n",
    "gradTheta12 # This prints the gradient of the Potential Temperature array\n",
    "largestTheta12 = np.argsort(gradTheta12)[-10:] # This gives us the position of the largest 10 largest gradients for the potential temperature array\n",
    "largestTheta12 # This prints the positions of the largest 10 largest gradients for the potential temperature array\n",
    "\n",
    "# The Theta[0:23] range of atmosphere positions are 11, 15, 22, 12, 14, 13, 16, 19, 17, 18\n",
    "\n",
    "\n",
    "gradRH12 = np.gradient(RH12[0:23]) # Bounds are set from 0 meters to just over 4,000 meters. This is the function for finding the gradient.\n",
    "gradRH12 # This prints the gradient of the Relative Humidity array\n",
    "smallestRH12 = np.argsort(gradRH12)[:10] # This sorts the Relative humidity gradient array from least to greatest and then picks the 10 smallest gradients of the array\n",
    "smallestRH12 # This line returns the positions of the 10 smallest gradients, or the first 10 gradients\n",
    "\n",
    "# The RH[0:23] range of atmosphere positions are 22, 17, 16,  2, 21, 18, 19,  0,  1,  3\n",
    "\n",
    "\n",
    "gradq12 = np.gradient(q12[0:23]) # Bounds are set from 0 meters to just over 4,000 meters. This is the function for finding the gradient.\n",
    "gradq12 # This prints the gradient of the Specific Humidity array\n",
    "smallestq12 = np.argsort(gradq12)[:10] # This sorts the Specific humidity gradient array from least to greatest and then picks the 10 smallest gradients of the array\n",
    "smallestq12 # This line returns the positions of the 10 smallest gradients, or the first 10 gradients\n",
    "\n",
    "# The q[0:23] range of atmosphere positions are 2, 22,  6,  5, 17, 16, 12, 21, 14, 13\n",
    "\n",
    "\n",
    "gradN12 = np.gradient(N12[0:23]) # Bounds are set from 0 meters to just over 4,000 meters. This is the function for finding the gradient.\n",
    "gradN12 # This prints the gradient of the Refractivity array\n",
    "smallestN12 = np.argsort(gradN12)[:10] # This sorts the Refractivity gradient array from least to greatest and then picks the 10 smallest gradients of the array\n",
    "smallestN12 # This line returns the positions of the 10 smallest gradients, or the first 10 gradients\n",
    "\n",
    "# The N[0:23] range of atmosphere positions are 6,  5, 17, 12, 13, 14,  2, 16, 18,  9\n",
    "\n",
    "#-----------------------------------------------------------------------------\n",
    "\n",
    "# I then want to print the height where at least three parameters had the same height when going in descending \n",
    "# order for potential temperature and ascending order for relative humidity, specific humidity and refractivity, \n",
    "# as that height is said to be the mixing layer height\n",
    "\n",
    "#h12[]"
   ]
  },
  {
   "cell_type": "markdown",
   "id": "d9984b9e",
   "metadata": {},
   "source": [
    "## Plotting for July 5, 2021 at 00Z"
   ]
  },
  {
   "cell_type": "code",
   "execution_count": null,
   "id": "cae9b9ff",
   "metadata": {},
   "outputs": [],
   "source": [
    "plt.plot(Theta12,h12, c=\"b\", label=\"Potential Temperature\")  ##Always after \"plt.plot\" is the x and y axis. So in this case it is Potential temperature (theta) and height data. Next, I change the color by using \"c=\". I then labeled the line using the \"label= \".\n",
    "plt.xlabel('Theta (K)')\n",
    "plt.xlim(np.amin(Theta12),312)\n",
    "plt.ylabel('Height (m)')\n",
    "plt.ylim(0,4000)\n",
    "plt.legend(loc=0)\n",
    "plt.title('Potential Temperature versus Height\\nSterling, VA - July 5, 2021 at 0 UTC')\n",
    "plt.grid(True) \n",
    "plt.savefig(\"0705202100ZPT.png\")"
   ]
  },
  {
   "cell_type": "code",
   "execution_count": null,
   "id": "acfa0606",
   "metadata": {},
   "outputs": [],
   "source": [
    "plt.plot(RH12,h12, c=\"red\", label=\"Relative Humidity\")  ##Always after \"plt.plot\" is the x and y axis. So in this case it is Relative Humidity and height data. Next, I change the color by using \"c=\". I then labeled the line using the \"label= \".\n",
    "plt.xlabel('Relative Humidity (%)')\n",
    "plt.xlim(35,np.amax(RH12))\n",
    "plt.ylabel('Height (m)')\n",
    "plt.ylim(0,4000)\n",
    "plt.legend(loc=0)\n",
    "plt.title('Relative Humidity versus Height\\nSterling, VA - July 5, 2021 at 0 UTC')\n",
    "plt.grid(True)\n",
    "plt.savefig(\"0705202100ZRH.png\")"
   ]
  },
  {
   "cell_type": "code",
   "execution_count": null,
   "id": "ee77f1d4",
   "metadata": {},
   "outputs": [],
   "source": [
    "plt.plot(q12,h12, c=\"green\",label='Specific Humidity')  ##Always after \"plt.plot\" is the x and y axis. So in this case it is Specific Humidity (q) and height data. Next, I change the color by using \"c=\". I then labeled the line using the \"label= \".\n",
    "plt.xlabel('q (g/kg)')\n",
    "plt.xlim(0.0035,np.amax(q12))\n",
    "plt.ylabel('Height (m)')\n",
    "plt.ylim(0,4000)\n",
    "plt.legend(loc=0)\n",
    "plt.title('Specific Humidity versus Height\\nSterling, VA - July 5, 2021 at 0 UTC')\n",
    "plt.grid(True) \n",
    "plt.savefig(\"0705202100ZSH.png\")"
   ]
  },
  {
   "cell_type": "code",
   "execution_count": null,
   "id": "748bdd07",
   "metadata": {},
   "outputs": [],
   "source": [
    "plt.plot(N12,h12, c=\"brown\",label='Refractivity')  ##Always after \"plt.plot\" is the x and y axis. So in this case it is Refractivity (N) and height data. Next, I change the color by using \"c=\". I then labeled the line using the \"label= \".\n",
    "plt.xlabel('N')\n",
    "plt.xlim(195,np.amax(N12))\n",
    "plt.ylabel('Height (m)')\n",
    "plt.ylim(0,4000)\n",
    "plt.legend(loc=0)\n",
    "plt.title('Refractivity versus Height\\nSterling, VA - July 5, 2021 at 0 UTC')\n",
    "plt.grid(True) \n",
    "plt.savefig(\"0705202100ZR.png\")"
   ]
  },
  {
   "cell_type": "markdown",
   "id": "dbbfd1fc",
   "metadata": {},
   "source": [
    "## Importing the Data"
   ]
  },
  {
   "cell_type": "markdown",
   "id": "6efaa5ce",
   "metadata": {},
   "source": [
    "### July 5 2021 at 12Z"
   ]
  },
  {
   "cell_type": "code",
   "execution_count": 112,
   "id": "bb78c942",
   "metadata": {},
   "outputs": [],
   "source": [
    "date05AT12Z = datetime(2021, 7, 5, 12) # Year, month, day, time\n",
    "station = 'IAD' # Three letter code "
   ]
  },
  {
   "cell_type": "code",
   "execution_count": 113,
   "id": "c428f47d",
   "metadata": {},
   "outputs": [],
   "source": [
    "df13 = WyomingUpperAir.request_data(date05AT12Z, station)"
   ]
  },
  {
   "cell_type": "code",
   "execution_count": 114,
   "id": "d071f0db",
   "metadata": {},
   "outputs": [],
   "source": [
    "#df13 # This prints the table from the website. This is a Pandas data frame. Panda allows you to manipulate, join, and do operations on it"
   ]
  },
  {
   "cell_type": "code",
   "execution_count": 115,
   "id": "9554aee5",
   "metadata": {},
   "outputs": [
    {
     "data": {
      "text/html": [
       "<table><tbody><tr><th>Magnitude</th><td style='text-align:left;'><pre>[   93   143   221   305   407   610   680   819   914  1219  1464  1524<br>  1543  1829  1970  2134  2438  2743  2788  2992  3154  3201  3353  3391<br>  3658  4267  4572  4877  5519  5840  6096  6514  6973  7315  7530  7620<br>  8230  8838  9144  9590 10233 10668 10820 11740 11887 12260 12687 12802<br> 13716 13988 14070 14935 15240 15545 15850 16154 16528 16590 17086 17477<br> 18239 18288 18820 19258 20950 21207 21336 23061 24199 24220 25646 25673]</pre></td></tr><tr><th>Units</th><td style='text-align:left;'>meter</td></tr></tbody></table>"
      ],
      "text/latex": [
       "$\\begin{pmatrix}93 & 143 & 221 & 305 & 407 & 610 & 680 & 819 & 914 & 1219 & 1464 & 1524 & 1543 & 1829 & 1970 & 2134 & 2438 & 2743 & 2788 & 2992 & 3154 & 3201 & 3353 & 3391 & 3658 & 4267 & 4572 & 4877 & 5519 & 5840 & 6096 & 6514 & 6973 & 7315 & 7530 & 7620 & 8230 & 8838 & 9144 & 9590 & 10233 & 10668 & 10820 & 11740 & 11887 & 12260 & 12687 & 12802 & 13716 & 13988 & 14070 & 14935 & 15240 & 15545 & 15850 & 16154 & 16528 & 16590 & 17086 & 17477 & 18239 & 18288 & 18820 & 19258 & 20950 & 21207 & 21336 & 23061 & 24199 & 24220 & 25646 & 25673\\end{pmatrix}\\ \\mathrm{meter}$"
      ],
      "text/plain": [
       "array([   93,   143,   221,   305,   407,   610,   680,   819,   914,\n",
       "        1219,  1464,  1524,  1543,  1829,  1970,  2134,  2438,  2743,\n",
       "        2788,  2992,  3154,  3201,  3353,  3391,  3658,  4267,  4572,\n",
       "        4877,  5519,  5840,  6096,  6514,  6973,  7315,  7530,  7620,\n",
       "        8230,  8838,  9144,  9590, 10233, 10668, 10820, 11740, 11887,\n",
       "       12260, 12687, 12802, 13716, 13988, 14070, 14935, 15240, 15545,\n",
       "       15850, 16154, 16528, 16590, 17086, 17477, 18239, 18288, 18820,\n",
       "       19258, 20950, 21207, 21336, 23061, 24199, 24220, 25646, 25673]) <Unit('meter')>"
      ]
     },
     "execution_count": 115,
     "metadata": {},
     "output_type": "execute_result"
    }
   ],
   "source": [
    "h13 = df13['height'].values * units(df.units['height']) # This line assigns the units to the values in the pandas dataframe. We will pull things into individual variables. We put '.values' at the end because I want just the array of numbers., not the whole data series or objects\n",
    "P13 = df13['pressure'].values *units(df.units['pressure']) # This line grabs the pressure array\n",
    "T_degC13 = df13['temperature'].values * units (df.units['temperature']) # This grabs the temperature array\n",
    "Td_degC13 = df13['dewpoint'].values * units (df.units['dewpoint']) # This grabs the dewpoint temperature array\n",
    "h13"
   ]
  },
  {
   "cell_type": "code",
   "execution_count": 116,
   "id": "15963247",
   "metadata": {},
   "outputs": [],
   "source": [
    "T_kelvin13 = T_degC13.to('kelvin')\n",
    "Td_kelvin13 = Td_degC13.to('kelvin')"
   ]
  },
  {
   "cell_type": "code",
   "execution_count": 117,
   "id": "03bff8ed",
   "metadata": {},
   "outputs": [],
   "source": [
    "Theta13 = mpcalc.potential_temperature(P13, T_kelvin13) # This line calculates the potential temperature in units of kelvin\n",
    "RH13 = mpcalc.relative_humidity_from_dewpoint(T_kelvin13, Td_kelvin13)*100 # This line calculates the Relative Humidity\n",
    "q13 = mpcalc.specific_humidity_from_dewpoint(P13, Td_kelvin13) # This line calculates the Specific Humidity\n",
    "mr13 = mpcalc.mixing_ratio_from_specific_humidity(q13) # This line calculates the Mixing Ratio\n",
    "e13 = mpcalc.vapor_pressure(P13, mr13) # This line calculates the water vapor pressure in hPa\n",
    "#static_stability = mpcalc.static_stability(P, T_kelvin, vertical_dim=0)"
   ]
  },
  {
   "cell_type": "code",
   "execution_count": 118,
   "id": "c5f78449",
   "metadata": {},
   "outputs": [],
   "source": [
    "N13 = ((77.6)*(P13/T_kelvin13)).magnitude + ((3.73)*(10**5)*(e13/(T_kelvin13**2))).magnitude # This line calculates the refractivity"
   ]
  },
  {
   "cell_type": "markdown",
   "id": "1698a527",
   "metadata": {},
   "source": [
    "# Gradient coding for July 5 at 12Z"
   ]
  },
  {
   "cell_type": "code",
   "execution_count": 119,
   "id": "d186ea51",
   "metadata": {
    "scrolled": true
   },
   "outputs": [
    {
     "data": {
      "text/html": [
       "<table><tbody><tr><th>Magnitude</th><td style='text-align:left;'><pre>[2788.0 2788.0 2788.0 2788.0 2788.0 2788.0 2788.0 2788.0 2788.0 2788.0<br> 2788.0 2788.0 2788.0 2788.0 2788.0 2788.0 2788.0 2788.0 2788.0 2788.0<br> 2788.0 2788.0 2788.0 2788.0 2788.0 2788.0 2788.0 2788.0 2788.0 2788.0<br> 2788.0 2788.0 2788.0 2788.0 2788.0 2788.0 2788.0 2788.0 2788.0 2788.0<br> 2788.0 2788.0 2788.0 2788.0 2788.0 2788.0 2788.0 2788.0 2788.0 2788.0<br> 2788.0 2788.0 2788.0 2788.0 2788.0 2788.0 2788.0 2788.0 2788.0 2788.0<br> 2788.0 2788.0 2788.0 2788.0 2788.0 2788.0 2788.0 2788.0 2788.0 2788.0<br> 2788.0 2788.0]</pre></td></tr><tr><th>Units</th><td style='text-align:left;'>meter</td></tr></tbody></table>"
      ],
      "text/latex": [
       "$\\begin{pmatrix}2788.0 & 2788.0 & 2788.0 & 2788.0 & 2788.0 & 2788.0 & 2788.0 & 2788.0 & 2788.0 & 2788.0 & 2788.0 & 2788.0 & 2788.0 & 2788.0 & 2788.0 & 2788.0 & 2788.0 & 2788.0 & 2788.0 & 2788.0 & 2788.0 & 2788.0 & 2788.0 & 2788.0 & 2788.0 & 2788.0 & 2788.0 & 2788.0 & 2788.0 & 2788.0 & 2788.0 & 2788.0 & 2788.0 & 2788.0 & 2788.0 & 2788.0 & 2788.0 & 2788.0 & 2788.0 & 2788.0 & 2788.0 & 2788.0 & 2788.0 & 2788.0 & 2788.0 & 2788.0 & 2788.0 & 2788.0 & 2788.0 & 2788.0 & 2788.0 & 2788.0 & 2788.0 & 2788.0 & 2788.0 & 2788.0 & 2788.0 & 2788.0 & 2788.0 & 2788.0 & 2788.0 & 2788.0 & 2788.0 & 2788.0 & 2788.0 & 2788.0 & 2788.0 & 2788.0 & 2788.0 & 2788.0 & 2788.0 & 2788.0\\end{pmatrix}\\ \\mathrm{meter}$"
      ],
      "text/plain": [
       "array([2788., 2788., 2788., 2788., 2788., 2788., 2788., 2788., 2788.,\n",
       "       2788., 2788., 2788., 2788., 2788., 2788., 2788., 2788., 2788.,\n",
       "       2788., 2788., 2788., 2788., 2788., 2788., 2788., 2788., 2788.,\n",
       "       2788., 2788., 2788., 2788., 2788., 2788., 2788., 2788., 2788.,\n",
       "       2788., 2788., 2788., 2788., 2788., 2788., 2788., 2788., 2788.,\n",
       "       2788., 2788., 2788., 2788., 2788., 2788., 2788., 2788., 2788.,\n",
       "       2788., 2788., 2788., 2788., 2788., 2788., 2788., 2788., 2788.,\n",
       "       2788., 2788., 2788., 2788., 2788., 2788., 2788., 2788., 2788.]) <Unit('meter')>"
      ]
     },
     "execution_count": 119,
     "metadata": {},
     "output_type": "execute_result"
    }
   ],
   "source": [
    "gradTheta13 = np.gradient(Theta13[0:25]) # I set the bounds from 0 meters to just over 4,000 meters. This is the function for finding the gradient. I attempeted using Metpy's gradient function, but I was getting errors\n",
    "gradTheta13 # This prints the gradient of the Potential Temperature array\n",
    "largestTheta13 = np.argsort(gradTheta13)[-10:] # This gives us the position of the largest 10 largest gradients for the potential temperature array\n",
    "largestTheta13 # This prints the positions of the largest 10 largest gradients for the potential temperature array\n",
    "\n",
    "# The Theta[0:25] range of atmosphere positions are 13,  5,  3, 20,  4, 24,  1,  2, 18, 19\n",
    "\n",
    "\n",
    "gradRH13 = np.gradient(RH13[0:25]) # Bounds are set from 0 meters to just over 4,000 meters. This is the function for finding the gradient.\n",
    "gradRH13 # This prints the gradient of the Relative Humidity array\n",
    "smallestRH13 = np.argsort(gradRH13)[:10] # This sorts the Relative humidity gradient array from least to greatest and then picks the 10 smallest gradients of the array\n",
    "smallestRH13 # This line returns the positions of the 10 smallest gradients, or the first 10 gradients\n",
    "\n",
    "# The RH[0:25] range of atmosphere positions are 19, 18,  2,  1,  4,  3,  0, 24, 13, 11\n",
    "\n",
    "\n",
    "gradq13 = np.gradient(q13[0:25]) # Bounds are set from 0 meters to just over 4,000 meters. This is the function for finding the gradient.\n",
    "gradq13 # This prints the gradient of the Specific Humidity array\n",
    "smallestq13 = np.argsort(gradq13)[:10] # This sorts the Specific humidity gradient array from least to greatest and then picks the 10 smallest gradients of the array\n",
    "smallestq13 # This line returns the positions of the 10 smallest gradients, or the first 10 gradients\n",
    "\n",
    "# The q[0:25] range of atmosphere positions are 19, 18, 13,  4, 12,  0,  5,  3, 10, 11\n",
    "\n",
    "\n",
    "gradN13 = np.gradient(N13[0:25]) # Bounds are set from 0 meters to just over 4,000 meters. This is the function for finding the gradient.\n",
    "gradN13 # This prints the gradient of the Refractivity array\n",
    "smallestN13 = np.argsort(gradN13)[:10] # This sorts the Refractivity gradient array from least to greatest and then picks the 10 smallest gradients of the array\n",
    "smallestN13 # This line returns the positions of the 10 smallest gradients, or the first 10 gradients\n",
    "\n",
    "# The N[0:25] range of atmosphere positions are 19, 18,  4, 13,  5, 16,  9, 12,  3, 24\n",
    "\n",
    "# #-----------------------------------------------------------------------------\n",
    "\n",
    "# # I then want to print the height where at least three parameters had the same height when going in descending \n",
    "# # order for potential temperature and ascending order for relative humidity, specific humidity and refractivity, \n",
    "# # as that height is said to be the mixing layer height\n",
    "\n",
    "MLH13 = h13[18]\n",
    "MLH13 = np.ones(72)*MLH13\n",
    "MLH13"
   ]
  },
  {
   "cell_type": "markdown",
   "id": "a33d4114",
   "metadata": {},
   "source": [
    "# Print the Row of the Mixing Layer Height. This will be useful for the Machine Learning tool for MLH forecast estimations. "
   ]
  },
  {
   "cell_type": "code",
   "execution_count": 120,
   "id": "90e6b83e",
   "metadata": {
    "scrolled": false
   },
   "outputs": [
    {
     "data": {
      "text/plain": [
       "pressure                        732.0\n",
       "height                           2788\n",
       "temperature                       5.4\n",
       "dewpoint                         -0.6\n",
       "direction                       323.0\n",
       "speed                            12.0\n",
       "u_wind                        7.22178\n",
       "v_wind                      -9.583626\n",
       "station                           IAD\n",
       "station_number                  72403\n",
       "time              2021-07-05 12:00:00\n",
       "latitude                        38.98\n",
       "longitude                      -77.46\n",
       "elevation                        93.0\n",
       "pw                              27.06\n",
       "Name: 18, dtype: object"
      ]
     },
     "execution_count": 120,
     "metadata": {},
     "output_type": "execute_result"
    }
   ],
   "source": [
    "df13.loc[18]"
   ]
  },
  {
   "cell_type": "markdown",
   "id": "7c94c64e",
   "metadata": {},
   "source": [
    "## Plotting for July 5, 2021 at 12Z"
   ]
  },
  {
   "cell_type": "code",
   "execution_count": null,
   "id": "ff152c16",
   "metadata": {},
   "outputs": [],
   "source": [
    "plt.plot(Theta13,h13, c=\"b\", label=\"Potential Temperature\")  ##Always after \"plt.plot\" is the x and y axis. So in this case it is Potential temperature (theta) and height data. Next, I change the color by using \"c=\". I then labeled the line using the \"label= \".\n",
    "plt.plot(Theta13,MLH13, c=\"black\", label=\"Mixing Layer Height\")\n",
    "plt.xlabel('Theta (K)')\n",
    "plt.xlim(np.amin(Theta13),315)\n",
    "plt.ylabel('Height (m)')\n",
    "plt.ylim(0,4000)\n",
    "plt.legend(loc=0)\n",
    "plt.title('Potential Temperature versus Height\\nSterling, VA - July 5, 2021 at 12 UTC')\n",
    "plt.grid(True) \n",
    "plt.savefig(\"0705202112ZPT.png\")"
   ]
  },
  {
   "cell_type": "code",
   "execution_count": null,
   "id": "67a5b297",
   "metadata": {},
   "outputs": [],
   "source": [
    "plt.plot(RH13,h13, c=\"red\", label=\"Relative Humidity\")  ##Always after \"plt.plot\" is the x and y axis. So in this case it is Relative Humidity and height data. Next, I change the color by using \"c=\". I then labeled the line using the \"label= \".\n",
    "plt.plot(RH13,MLH13, c=\"black\", label=\"Mixing Layer Height\")\n",
    "plt.xlabel('Relative Humidity (%)')\n",
    "plt.xlim(np.amin(RH13),np.amax(RH13))\n",
    "plt.ylabel('Height (m)')\n",
    "plt.ylim(0,4000)\n",
    "plt.legend(loc=0)\n",
    "plt.title('Relative Humidity versus Height\\nSterling, VA - July 5, 2021 at 12 UTC')\n",
    "plt.grid(True)\n",
    "plt.savefig(\"0705202112ZRH.png\")"
   ]
  },
  {
   "cell_type": "code",
   "execution_count": null,
   "id": "b0adb1bd",
   "metadata": {},
   "outputs": [],
   "source": [
    "plt.plot(q13,h13, c=\"green\",label='Specific Humidity')  ##Always after \"plt.plot\" is the x and y axis. So in this case it is Specific Humidity (q) and height data. Next, I change the color by using \"c=\". I then labeled the line using the \"label= \".\n",
    "plt.plot(q13,MLH13, c=\"black\",label='Mixing Layer Height')\n",
    "plt.xlabel('q (g/kg)')\n",
    "plt.xlim(np.amin(q13),np.amax(q13))\n",
    "plt.ylabel('Height (m)')\n",
    "plt.ylim(0,4000)\n",
    "plt.legend(loc=0)\n",
    "plt.title('Specific Humidity versus Height\\nSterling, VA - July 5, 2021 at 12 UTC')\n",
    "plt.grid(True) \n",
    "plt.savefig(\"0705202112ZSH.png\")"
   ]
  },
  {
   "cell_type": "code",
   "execution_count": null,
   "id": "6ec6be13",
   "metadata": {},
   "outputs": [],
   "source": [
    "plt.plot(N13,h13, c=\"brown\",label='Refractivity')  ##Always after \"plt.plot\" is the x and y axis. So in this case it is Refractivity (N) and height data. Next, I change the color by using \"c=\". I then labeled the line using the \"label= \".\n",
    "plt.plot(N13,MLH13, c=\"black\",label='Mixing Layer Height') \n",
    "plt.xlabel('N')\n",
    "plt.xlim(180,np.amax(N13))\n",
    "plt.ylabel('Height (m)')\n",
    "plt.ylim(0,4000)\n",
    "plt.legend(loc=0)\n",
    "plt.title('Refractivity versus Height\\nSterling, VA - July 5, 2021 at 12 UTC')\n",
    "plt.grid(True) \n",
    "plt.savefig(\"0705202112ZR.png\")"
   ]
  },
  {
   "cell_type": "markdown",
   "id": "42fee1f0",
   "metadata": {},
   "source": [
    "## Importing the Data"
   ]
  },
  {
   "cell_type": "markdown",
   "id": "3d40a5d4",
   "metadata": {},
   "source": [
    "### July 6 2021 at 00Z"
   ]
  },
  {
   "cell_type": "code",
   "execution_count": 121,
   "id": "f616f237",
   "metadata": {},
   "outputs": [],
   "source": [
    "date06AT00Z = datetime(2021, 7, 6, 0) # Year, month, day, time\n",
    "station = 'IAD' # Three letter code "
   ]
  },
  {
   "cell_type": "code",
   "execution_count": 122,
   "id": "996406fd",
   "metadata": {},
   "outputs": [],
   "source": [
    "df14 = WyomingUpperAir.request_data(date06AT00Z, station)"
   ]
  },
  {
   "cell_type": "code",
   "execution_count": 123,
   "id": "e85b935b",
   "metadata": {},
   "outputs": [],
   "source": [
    "#df14 # This prints the table from the website. This is a Pandas data frame. Panda allows you to manipulate, join, and do operations on it"
   ]
  },
  {
   "cell_type": "code",
   "execution_count": 124,
   "id": "5da4fece",
   "metadata": {},
   "outputs": [
    {
     "data": {
      "text/html": [
       "<table><tbody><tr><th>Magnitude</th><td style='text-align:left;'><pre>[   93   136   145   305   610   834   914   967  1111  1219  1524  1564<br>  1706  1829  2101  2134  2218  2438  2702  2743  2793  3094  3200  3658<br>  3660  3897  4267  4877  5430  5486  5791  5880  5926  6096  6670  6706<br>  7296  7570  7620  8320  8400  8792  8919  9144  9630 10183 10668 10880<br> 11887 12330 12993 13540 14021 14140 14351 14630 14935 15240 15545 15850<br> 16459 16598 16660 16764 17069 17374 17446 17983 18288 18593 18880 18898<br> 19202 19812 20117 20426 20422 20726 21010 21031 21336 21641 21946 22167<br> 22250 22555 23470 23774 24280 24384 24820 25298 25908 26024 26518 26822<br> 26960 27432 27737 28956 29261 29593 30480 31090 31640 32004 32297]</pre></td></tr><tr><th>Units</th><td style='text-align:left;'>meter</td></tr></tbody></table>"
      ],
      "text/latex": [
       "$\\begin{pmatrix}93 & 136 & 145 & 305 & 610 & 834 & 914 & 967 & 1111 & 1219 & 1524 & 1564 & 1706 & 1829 & 2101 & 2134 & 2218 & 2438 & 2702 & 2743 & 2793 & 3094 & 3200 & 3658 & 3660 & 3897 & 4267 & 4877 & 5430 & 5486 & 5791 & 5880 & 5926 & 6096 & 6670 & 6706 & 7296 & 7570 & 7620 & 8320 & 8400 & 8792 & 8919 & 9144 & 9630 & 10183 & 10668 & 10880 & 11887 & 12330 & 12993 & 13540 & 14021 & 14140 & 14351 & 14630 & 14935 & 15240 & 15545 & 15850 & 16459 & 16598 & 16660 & 16764 & 17069 & 17374 & 17446 & 17983 & 18288 & 18593 & 18880 & 18898 & 19202 & 19812 & 20117 & 20426 & 20422 & 20726 & 21010 & 21031 & 21336 & 21641 & 21946 & 22167 & 22250 & 22555 & 23470 & 23774 & 24280 & 24384 & 24820 & 25298 & 25908 & 26024 & 26518 & 26822 & 26960 & 27432 & 27737 & 28956 & 29261 & 29593 & 30480 & 31090 & 31640 & 32004 & 32297\\end{pmatrix}\\ \\mathrm{meter}$"
      ],
      "text/plain": [
       "array([   93,   136,   145,   305,   610,   834,   914,   967,  1111,\n",
       "        1219,  1524,  1564,  1706,  1829,  2101,  2134,  2218,  2438,\n",
       "        2702,  2743,  2793,  3094,  3200,  3658,  3660,  3897,  4267,\n",
       "        4877,  5430,  5486,  5791,  5880,  5926,  6096,  6670,  6706,\n",
       "        7296,  7570,  7620,  8320,  8400,  8792,  8919,  9144,  9630,\n",
       "       10183, 10668, 10880, 11887, 12330, 12993, 13540, 14021, 14140,\n",
       "       14351, 14630, 14935, 15240, 15545, 15850, 16459, 16598, 16660,\n",
       "       16764, 17069, 17374, 17446, 17983, 18288, 18593, 18880, 18898,\n",
       "       19202, 19812, 20117, 20426, 20422, 20726, 21010, 21031, 21336,\n",
       "       21641, 21946, 22167, 22250, 22555, 23470, 23774, 24280, 24384,\n",
       "       24820, 25298, 25908, 26024, 26518, 26822, 26960, 27432, 27737,\n",
       "       28956, 29261, 29593, 30480, 31090, 31640, 32004, 32297]) <Unit('meter')>"
      ]
     },
     "execution_count": 124,
     "metadata": {},
     "output_type": "execute_result"
    }
   ],
   "source": [
    "h14 = df14['height'].values * units(df.units['height']) # This line assigns the units to the values in the pandas dataframe. We will pull things into individual variables. We put '.values' at the end because I want just the array of numbers., not the whole data series or objects\n",
    "P14 = df14['pressure'].values *units(df.units['pressure']) # This line grabs the pressure array\n",
    "T_degC14 = df14['temperature'].values * units (df.units['temperature']) # This grabs the temperature array\n",
    "Td_degC14 = df14['dewpoint'].values * units (df.units['dewpoint']) # This grabs the dewpoint temperature array\n",
    "h14"
   ]
  },
  {
   "cell_type": "code",
   "execution_count": 125,
   "id": "da0d553d",
   "metadata": {},
   "outputs": [],
   "source": [
    "T_kelvin14 = T_degC14.to('kelvin')\n",
    "Td_kelvin14 = Td_degC14.to('kelvin')"
   ]
  },
  {
   "cell_type": "code",
   "execution_count": 126,
   "id": "24a64da5",
   "metadata": {},
   "outputs": [],
   "source": [
    "Theta14 = mpcalc.potential_temperature(P14, T_kelvin14) # This line calculates the potential temperature in units of kelvin\n",
    "RH14 = mpcalc.relative_humidity_from_dewpoint(T_kelvin14, Td_kelvin14)*100 # This line calculates the Relative Humidity\n",
    "q14 = mpcalc.specific_humidity_from_dewpoint(P14, Td_kelvin14) # This line calculates the Specific Humidity\n",
    "mr14 = mpcalc.mixing_ratio_from_specific_humidity(q14) # This line calculates the Mixing Ratio\n",
    "e14 = mpcalc.vapor_pressure(P14, mr14) # This line calculates the water vapor pressure in hPa\n",
    "#static_stability = mpcalc.static_stability(P, T_kelvin, vertical_dim=0)"
   ]
  },
  {
   "cell_type": "code",
   "execution_count": 127,
   "id": "77bd7ad6",
   "metadata": {},
   "outputs": [],
   "source": [
    "N14 = ((77.6)*(P14/T_kelvin14)).magnitude + ((3.73)*(10**5)*(e14/(T_kelvin14**2))).magnitude # This line calculates the refractivity"
   ]
  },
  {
   "cell_type": "markdown",
   "id": "9fa1fd78",
   "metadata": {},
   "source": [
    "# Gradient coding for July 6 at 00Z"
   ]
  },
  {
   "cell_type": "code",
   "execution_count": 128,
   "id": "5eea677e",
   "metadata": {
    "scrolled": true
   },
   "outputs": [
    {
     "data": {
      "text/html": [
       "<table><tbody><tr><th>Magnitude</th><td style='text-align:left;'><pre>[2793.0 2793.0 2793.0 2793.0 2793.0 2793.0 2793.0 2793.0 2793.0 2793.0<br> 2793.0 2793.0 2793.0 2793.0 2793.0 2793.0 2793.0 2793.0 2793.0 2793.0<br> 2793.0 2793.0 2793.0 2793.0 2793.0 2793.0 2793.0 2793.0 2793.0 2793.0<br> 2793.0 2793.0 2793.0 2793.0 2793.0 2793.0 2793.0 2793.0 2793.0 2793.0<br> 2793.0 2793.0 2793.0 2793.0 2793.0 2793.0 2793.0 2793.0 2793.0 2793.0<br> 2793.0 2793.0 2793.0 2793.0 2793.0 2793.0 2793.0 2793.0 2793.0 2793.0<br> 2793.0 2793.0 2793.0 2793.0 2793.0 2793.0 2793.0 2793.0 2793.0 2793.0<br> 2793.0 2793.0 2793.0 2793.0 2793.0 2793.0 2793.0 2793.0 2793.0 2793.0<br> 2793.0 2793.0 2793.0 2793.0 2793.0 2793.0 2793.0 2793.0 2793.0 2793.0<br> 2793.0 2793.0 2793.0 2793.0 2793.0 2793.0 2793.0 2793.0 2793.0 2793.0<br> 2793.0 2793.0 2793.0 2793.0 2793.0 2793.0 2793.0]</pre></td></tr><tr><th>Units</th><td style='text-align:left;'>meter</td></tr></tbody></table>"
      ],
      "text/latex": [
       "$\\begin{pmatrix}2793.0 & 2793.0 & 2793.0 & 2793.0 & 2793.0 & 2793.0 & 2793.0 & 2793.0 & 2793.0 & 2793.0 & 2793.0 & 2793.0 & 2793.0 & 2793.0 & 2793.0 & 2793.0 & 2793.0 & 2793.0 & 2793.0 & 2793.0 & 2793.0 & 2793.0 & 2793.0 & 2793.0 & 2793.0 & 2793.0 & 2793.0 & 2793.0 & 2793.0 & 2793.0 & 2793.0 & 2793.0 & 2793.0 & 2793.0 & 2793.0 & 2793.0 & 2793.0 & 2793.0 & 2793.0 & 2793.0 & 2793.0 & 2793.0 & 2793.0 & 2793.0 & 2793.0 & 2793.0 & 2793.0 & 2793.0 & 2793.0 & 2793.0 & 2793.0 & 2793.0 & 2793.0 & 2793.0 & 2793.0 & 2793.0 & 2793.0 & 2793.0 & 2793.0 & 2793.0 & 2793.0 & 2793.0 & 2793.0 & 2793.0 & 2793.0 & 2793.0 & 2793.0 & 2793.0 & 2793.0 & 2793.0 & 2793.0 & 2793.0 & 2793.0 & 2793.0 & 2793.0 & 2793.0 & 2793.0 & 2793.0 & 2793.0 & 2793.0 & 2793.0 & 2793.0 & 2793.0 & 2793.0 & 2793.0 & 2793.0 & 2793.0 & 2793.0 & 2793.0 & 2793.0 & 2793.0 & 2793.0 & 2793.0 & 2793.0 & 2793.0 & 2793.0 & 2793.0 & 2793.0 & 2793.0 & 2793.0 & 2793.0 & 2793.0 & 2793.0 & 2793.0 & 2793.0 & 2793.0 & 2793.0\\end{pmatrix}\\ \\mathrm{meter}$"
      ],
      "text/plain": [
       "array([2793., 2793., 2793., 2793., 2793., 2793., 2793., 2793., 2793.,\n",
       "       2793., 2793., 2793., 2793., 2793., 2793., 2793., 2793., 2793.,\n",
       "       2793., 2793., 2793., 2793., 2793., 2793., 2793., 2793., 2793.,\n",
       "       2793., 2793., 2793., 2793., 2793., 2793., 2793., 2793., 2793.,\n",
       "       2793., 2793., 2793., 2793., 2793., 2793., 2793., 2793., 2793.,\n",
       "       2793., 2793., 2793., 2793., 2793., 2793., 2793., 2793., 2793.,\n",
       "       2793., 2793., 2793., 2793., 2793., 2793., 2793., 2793., 2793.,\n",
       "       2793., 2793., 2793., 2793., 2793., 2793., 2793., 2793., 2793.,\n",
       "       2793., 2793., 2793., 2793., 2793., 2793., 2793., 2793., 2793.,\n",
       "       2793., 2793., 2793., 2793., 2793., 2793., 2793., 2793., 2793.,\n",
       "       2793., 2793., 2793., 2793., 2793., 2793., 2793., 2793., 2793.,\n",
       "       2793., 2793., 2793., 2793., 2793., 2793., 2793., 2793.]) <Unit('meter')>"
      ]
     },
     "execution_count": 128,
     "metadata": {},
     "output_type": "execute_result"
    }
   ],
   "source": [
    "gradTheta14 = np.gradient(Theta14[0:26]) # I set the bounds from 0 meters to just over 4,000 meters. This is the function for finding the gradient. I attempeted using Metpy's gradient function, but I was getting errors\n",
    "gradTheta14 # This prints the gradient of the Potential Temperature array\n",
    "largestTheta14 = np.argsort(gradTheta14)[-10:] # This gives us the position of the largest 10 largest gradients for the potential temperature array\n",
    "largestTheta14 # This prints the positions of the largest 10 largest gradients for the potential temperature array\n",
    "\n",
    "# The Theta[0:26] range of atmosphere positions are 12,  9, 21, 19, 25, 20, 18, 14, 17, 13\n",
    "\n",
    "\n",
    "gradRH14 = np.gradient(RH14[0:26]) # Bounds are set from 0 meters to just over 4,000 meters. This is the function for finding the gradient.\n",
    "gradRH14 # This prints the gradient of the Relative Humidity array\n",
    "smallestRH14 = np.argsort(gradRH14)[:10] # This sorts the Relative humidity gradient array from least to greatest and then picks the 10 smallest gradients of the array\n",
    "smallestRH14 # This line returns the positions of the 10 smallest gradients, or the first 10 gradients\n",
    "\n",
    "# The RH[0:26] range of atmosphere positions are 25, 19,  9, 13, 24, 20, 10, 12,  0, 11\n",
    "\n",
    "gradq14 = np.gradient(q14[0:26]) # Bounds are set from 0 meters to just over 4,000 meters. This is the function for finding the gradient.\n",
    "gradq14 # This prints the gradient of the Specific Humidity array\n",
    "smallestq14 = np.argsort(gradq14)[:10] # This sorts the Specific humidity gradient array from least to greatest and then picks the 10 smallest gradients of the array\n",
    "smallestq14 # This line returns the positions of the 10 smallest gradients, or the first 10 gradients\n",
    "\n",
    "# The q[0:26] range of atmosphere positions are 9,  0, 25, 10, 19, 13, 20, 12,  1, 24\n",
    "\n",
    "\n",
    "gradN14 = np.gradient(N14[0:26]) # Bounds are set from 0 meters to just over 4,000 meters. This is the function for finding the gradient.\n",
    "gradN14 # This prints the gradient of the Refractivity array\n",
    "smallestN14 = np.argsort(gradN14)[:10] # This sorts the Refractivity gradient array from least to greatest and then picks the 10 smallest gradients of the array\n",
    "smallestN14 # This line returns the positions of the 10 smallest gradients, or the first 10 gradients\n",
    "\n",
    "# The N[0:26] range of atmosphere positions are 9, 10, 25, 13,  0,  4, 20,  3, 12, 19\n",
    "\n",
    "#-----------------------------------------------------------------------------\n",
    "\n",
    "# I then want to print the height where at least three parameters had the same height when going in descending \n",
    "# order for potential temperature and ascending order for relative humidity, specific humidity and refractivity, \n",
    "# as that height is said to be the mixing layer height\n",
    "\n",
    "MLH14 = h14[20]\n",
    "MLH14 = np.ones(107)*MLH14\n",
    "MLH14"
   ]
  },
  {
   "cell_type": "markdown",
   "id": "43d24af1",
   "metadata": {},
   "source": [
    "# Print the Row of the Mixing Layer Height. This will be useful for the Machine Learning tool for MLH forecast estimations. "
   ]
  },
  {
   "cell_type": "code",
   "execution_count": 129,
   "id": "e6d941ee",
   "metadata": {
    "scrolled": false
   },
   "outputs": [
    {
     "data": {
      "text/plain": [
       "pressure                        735.0\n",
       "height                           2793\n",
       "temperature                      12.4\n",
       "dewpoint                         -3.6\n",
       "direction                        16.0\n",
       "speed                            17.0\n",
       "u_wind                      -4.685835\n",
       "v_wind                     -16.341449\n",
       "station                           IAD\n",
       "station_number                  72403\n",
       "time              2021-07-06 00:00:00\n",
       "latitude                        38.98\n",
       "longitude                      -77.46\n",
       "elevation                        93.0\n",
       "pw                               26.3\n",
       "Name: 20, dtype: object"
      ]
     },
     "execution_count": 129,
     "metadata": {},
     "output_type": "execute_result"
    }
   ],
   "source": [
    "df14.loc[20]"
   ]
  },
  {
   "cell_type": "markdown",
   "id": "e6a0ae82",
   "metadata": {},
   "source": [
    "## Plotting for July 6, 2021 at 00Z"
   ]
  },
  {
   "cell_type": "code",
   "execution_count": null,
   "id": "28c66c25",
   "metadata": {},
   "outputs": [],
   "source": [
    "plt.plot(Theta14,h14, c=\"b\", label=\"Potential Temperature\")  ##Always after \"plt.plot\" is the x and y axis. So in this case it is Potential temperature (theta) and height data. Next, I change the color by using \"c=\". I then labeled the line using the \"label= \".\n",
    "plt.plot(Theta14,MLH14, c=\"black\", label=\"Mixing Layer Height\") \n",
    "plt.xlabel('Theta (K)')\n",
    "plt.xlim(np.amin(Theta14),315)\n",
    "plt.ylabel('Height (m)')\n",
    "plt.ylim(0,4000)\n",
    "plt.legend(loc=0)\n",
    "plt.title('Potential Temperature versus Height\\nSterling, VA - July 6, 2021 at 0 UTC')\n",
    "plt.grid(True) \n",
    "plt.savefig(\"0706202100ZPT.png\")"
   ]
  },
  {
   "cell_type": "code",
   "execution_count": null,
   "id": "cb125696",
   "metadata": {},
   "outputs": [],
   "source": [
    "plt.plot(RH14,h14, c=\"red\", label=\"Relative Humidity\")  ##Always after \"plt.plot\" is the x and y axis. So in this case it is Relative Humidity and height data. Next, I change the color by using \"c=\". I then labeled the line using the \"label= \".\n",
    "plt.plot(RH14,MLH14, c=\"black\", label=\"Mixing Layer Height\") \n",
    "plt.xlabel('Relative Humidity (%)')\n",
    "plt.xlim(14,54)\n",
    "plt.ylabel('Height (m)')\n",
    "plt.ylim(0,4000)\n",
    "plt.legend(loc=0)\n",
    "plt.title('Relative Humidity versus Height\\nSterling, VA - July 6, 2021 at 0 UTC')\n",
    "plt.grid(True)\n",
    "plt.savefig(\"0706202100ZRH.png\")"
   ]
  },
  {
   "cell_type": "code",
   "execution_count": null,
   "id": "699cb95a",
   "metadata": {},
   "outputs": [],
   "source": [
    "plt.plot(q14,h14, c=\"green\",label='Specific Humidity')  ##Always after \"plt.plot\" is the x and y axis. So in this case it is Specific Humidity (q) and height data. Next, I change the color by using \"c=\". I then labeled the line using the \"label= \".\n",
    "plt.plot(q14,MLH14, c=\"black\",label='Mixing Layer Height')\n",
    "plt.xlabel('q (g/kg)')\n",
    "plt.xlim(0.002,np.amax(q14))\n",
    "plt.ylabel('Height (m)')\n",
    "plt.ylim(0,4000)\n",
    "plt.legend(loc=0)\n",
    "plt.title('Specific Humidity versus Height\\nSterling, VA - July 6, 2021 at 0 UTC')\n",
    "plt.grid(True) \n",
    "plt.savefig(\"0706202100ZSH.png\")"
   ]
  },
  {
   "cell_type": "code",
   "execution_count": null,
   "id": "e34b4bf9",
   "metadata": {},
   "outputs": [],
   "source": [
    "plt.plot(N14,h14, c=\"brown\",label='Refractivity')  ##Always after \"plt.plot\" is the x and y axis. So in this case it is Refractivity (N) and height data. Next, I change the color by using \"c=\". I then labeled the line using the \"label= \".\n",
    "plt.plot(N14,MLH14, c=\"black\",label='Mixing Layer Height')\n",
    "plt.xlabel('N')\n",
    "plt.xlim(190,np.amax(N14))\n",
    "plt.ylabel('Height (m)')\n",
    "plt.ylim(0,4000)\n",
    "plt.legend(loc=0)\n",
    "plt.title('Refractivity versus Height\\nSterling, VA - July 6, 2021 at 0 UTC')\n",
    "plt.grid(True) \n",
    "plt.savefig(\"0706202100ZR.png\")"
   ]
  },
  {
   "cell_type": "markdown",
   "id": "c42c3fd1",
   "metadata": {},
   "source": [
    "## Importing the Data"
   ]
  },
  {
   "cell_type": "markdown",
   "id": "a3ebe278",
   "metadata": {},
   "source": [
    "### July 6 2021 at 12Z"
   ]
  },
  {
   "cell_type": "code",
   "execution_count": 130,
   "id": "c544a2d6",
   "metadata": {},
   "outputs": [],
   "source": [
    "date06AT12Z = datetime(2021, 7, 6, 12) # Year, month, day, time\n",
    "station = 'IAD' # Three letter code "
   ]
  },
  {
   "cell_type": "code",
   "execution_count": 131,
   "id": "838e626d",
   "metadata": {},
   "outputs": [],
   "source": [
    "df15 = WyomingUpperAir.request_data(date06AT12Z, station)"
   ]
  },
  {
   "cell_type": "code",
   "execution_count": 132,
   "id": "1f3c58eb",
   "metadata": {},
   "outputs": [],
   "source": [
    "#df15 # This prints the table from the website. This is a Pandas data frame. Panda allows you to manipulate, join, and do operations on it"
   ]
  },
  {
   "cell_type": "code",
   "execution_count": 133,
   "id": "47b9bb52",
   "metadata": {},
   "outputs": [
    {
     "data": {
      "text/html": [
       "<table><tbody><tr><th>Magnitude</th><td style='text-align:left;'><pre>[   93   116   154   224   277   305   449   610   839   914  1011  1219<br>  1524  1571  1611  1723  1829  2134  2250  2438  2743  3210  3658  4267<br>  4767  4863  4877  5001  5057  5182  5256  5486  5791  5880  5989  6096<br>  6115  6308  6455  6604  6671  7049  7315  7351  7496  7570  7620  7870<br>  8230  8666  9070  9144  9289  9449  9584  9630  9754  9795 10363 10668<br> 10880 11278 11582 12081 12192 12330 12497 12802 13025 13275 13411 13689<br> 13716 14021 14130 14326 14630 14935 15209 15240 15545 15850 16154 16459<br> 16569 16630 16764 17304 17983 18288 18593 18830 19202 19399 19507 19793<br> 19812 20117 20422 20655 20726 20940 21031 21336 21641 23165 23566 23774<br> 24135 24200 24689 25131 25967 26213 26822 26870 27432 27798 28651 28956<br> 29069 29566 30480 30785 31550 31757 33223 33434]</pre></td></tr><tr><th>Units</th><td style='text-align:left;'>meter</td></tr></tbody></table>"
      ],
      "text/latex": [
       "$\\begin{pmatrix}93 & 116 & 154 & 224 & 277 & 305 & 449 & 610 & 839 & 914 & 1011 & 1219 & 1524 & 1571 & 1611 & 1723 & 1829 & 2134 & 2250 & 2438 & 2743 & 3210 & 3658 & 4267 & 4767 & 4863 & 4877 & 5001 & 5057 & 5182 & 5256 & 5486 & 5791 & 5880 & 5989 & 6096 & 6115 & 6308 & 6455 & 6604 & 6671 & 7049 & 7315 & 7351 & 7496 & 7570 & 7620 & 7870 & 8230 & 8666 & 9070 & 9144 & 9289 & 9449 & 9584 & 9630 & 9754 & 9795 & 10363 & 10668 & 10880 & 11278 & 11582 & 12081 & 12192 & 12330 & 12497 & 12802 & 13025 & 13275 & 13411 & 13689 & 13716 & 14021 & 14130 & 14326 & 14630 & 14935 & 15209 & 15240 & 15545 & 15850 & 16154 & 16459 & 16569 & 16630 & 16764 & 17304 & 17983 & 18288 & 18593 & 18830 & 19202 & 19399 & 19507 & 19793 & 19812 & 20117 & 20422 & 20655 & 20726 & 20940 & 21031 & 21336 & 21641 & 23165 & 23566 & 23774 & 24135 & 24200 & 24689 & 25131 & 25967 & 26213 & 26822 & 26870 & 27432 & 27798 & 28651 & 28956 & 29069 & 29566 & 30480 & 30785 & 31550 & 31757 & 33223 & 33434\\end{pmatrix}\\ \\mathrm{meter}$"
      ],
      "text/plain": [
       "array([   93,   116,   154,   224,   277,   305,   449,   610,   839,\n",
       "         914,  1011,  1219,  1524,  1571,  1611,  1723,  1829,  2134,\n",
       "        2250,  2438,  2743,  3210,  3658,  4267,  4767,  4863,  4877,\n",
       "        5001,  5057,  5182,  5256,  5486,  5791,  5880,  5989,  6096,\n",
       "        6115,  6308,  6455,  6604,  6671,  7049,  7315,  7351,  7496,\n",
       "        7570,  7620,  7870,  8230,  8666,  9070,  9144,  9289,  9449,\n",
       "        9584,  9630,  9754,  9795, 10363, 10668, 10880, 11278, 11582,\n",
       "       12081, 12192, 12330, 12497, 12802, 13025, 13275, 13411, 13689,\n",
       "       13716, 14021, 14130, 14326, 14630, 14935, 15209, 15240, 15545,\n",
       "       15850, 16154, 16459, 16569, 16630, 16764, 17304, 17983, 18288,\n",
       "       18593, 18830, 19202, 19399, 19507, 19793, 19812, 20117, 20422,\n",
       "       20655, 20726, 20940, 21031, 21336, 21641, 23165, 23566, 23774,\n",
       "       24135, 24200, 24689, 25131, 25967, 26213, 26822, 26870, 27432,\n",
       "       27798, 28651, 28956, 29069, 29566, 30480, 30785, 31550, 31757,\n",
       "       33223, 33434]) <Unit('meter')>"
      ]
     },
     "execution_count": 133,
     "metadata": {},
     "output_type": "execute_result"
    }
   ],
   "source": [
    "h15 = df15['height'].values * units(df.units['height']) # This line assigns the units to the values in the pandas dataframe. We will pull things into individual variables. We put '.values' at the end because I want just the array of numbers., not the whole data series or objects\n",
    "P15 = df15['pressure'].values *units(df.units['pressure']) # This line grabs the pressure array\n",
    "T_degC15 = df15['temperature'].values * units (df.units['temperature']) # This grabs the temperature array\n",
    "Td_degC15 = df15['dewpoint'].values * units (df.units['dewpoint']) # This grabs the dewpoint temperature array\n",
    "h15"
   ]
  },
  {
   "cell_type": "code",
   "execution_count": 134,
   "id": "1cbebe55",
   "metadata": {},
   "outputs": [],
   "source": [
    "T_kelvin15 = T_degC15.to('kelvin')\n",
    "Td_kelvin15 = Td_degC15.to('kelvin')"
   ]
  },
  {
   "cell_type": "code",
   "execution_count": 135,
   "id": "d42ac948",
   "metadata": {},
   "outputs": [],
   "source": [
    "Theta15 = mpcalc.potential_temperature(P15, T_kelvin15) # This line calculates the potential temperature in units of kelvin\n",
    "RH15 = mpcalc.relative_humidity_from_dewpoint(T_kelvin15, Td_kelvin15)*100 # This line calculates the Relative Humidity\n",
    "q15 = mpcalc.specific_humidity_from_dewpoint(P15, Td_kelvin15) # This line calculates the Specific Humidity\n",
    "mr15 = mpcalc.mixing_ratio_from_specific_humidity(q15) # This line calculates the Mixing Ratio\n",
    "e15 = mpcalc.vapor_pressure(P15, mr15) # This line calculates the water vapor pressure in hPa\n",
    "#static_stability = mpcalc.static_stability(P, T_kelvin, vertical_dim=0)"
   ]
  },
  {
   "cell_type": "code",
   "execution_count": 136,
   "id": "b8dd005b",
   "metadata": {},
   "outputs": [],
   "source": [
    "N15 = ((77.6)*(P15/T_kelvin15)).magnitude + ((3.73)*(10**5)*(e15/(T_kelvin15**2))).magnitude # This line calculates the refractivity"
   ]
  },
  {
   "cell_type": "markdown",
   "id": "01fcf2cb",
   "metadata": {},
   "source": [
    "# Gradient coding for July 6 at 12Z"
   ]
  },
  {
   "cell_type": "code",
   "execution_count": 137,
   "id": "ce140299",
   "metadata": {
    "scrolled": true
   },
   "outputs": [
    {
     "data": {
      "text/html": [
       "<table><tbody><tr><th>Magnitude</th><td style='text-align:left;'><pre>[1829.0 1829.0 1829.0 1829.0 1829.0 1829.0 1829.0 1829.0 1829.0 1829.0<br> 1829.0 1829.0 1829.0 1829.0 1829.0 1829.0 1829.0 1829.0 1829.0 1829.0<br> 1829.0 1829.0 1829.0 1829.0 1829.0 1829.0 1829.0 1829.0 1829.0 1829.0<br> 1829.0 1829.0 1829.0 1829.0 1829.0 1829.0 1829.0 1829.0 1829.0 1829.0<br> 1829.0 1829.0 1829.0 1829.0 1829.0 1829.0 1829.0 1829.0 1829.0 1829.0<br> 1829.0 1829.0 1829.0 1829.0 1829.0 1829.0 1829.0 1829.0 1829.0 1829.0<br> 1829.0 1829.0 1829.0 1829.0 1829.0 1829.0 1829.0 1829.0 1829.0 1829.0<br> 1829.0 1829.0 1829.0 1829.0 1829.0 1829.0 1829.0 1829.0 1829.0 1829.0<br> 1829.0 1829.0 1829.0 1829.0 1829.0 1829.0 1829.0 1829.0 1829.0 1829.0<br> 1829.0 1829.0 1829.0 1829.0 1829.0 1829.0 1829.0 1829.0 1829.0 1829.0<br> 1829.0 1829.0 1829.0 1829.0 1829.0 1829.0 1829.0 1829.0 1829.0 1829.0<br> 1829.0 1829.0 1829.0 1829.0 1829.0 1829.0 1829.0 1829.0 1829.0 1829.0<br> 1829.0 1829.0 1829.0 1829.0 1829.0 1829.0 1829.0 1829.0]</pre></td></tr><tr><th>Units</th><td style='text-align:left;'>meter</td></tr></tbody></table>"
      ],
      "text/latex": [
       "$\\begin{pmatrix}1829.0 & 1829.0 & 1829.0 & 1829.0 & 1829.0 & 1829.0 & 1829.0 & 1829.0 & 1829.0 & 1829.0 & 1829.0 & 1829.0 & 1829.0 & 1829.0 & 1829.0 & 1829.0 & 1829.0 & 1829.0 & 1829.0 & 1829.0 & 1829.0 & 1829.0 & 1829.0 & 1829.0 & 1829.0 & 1829.0 & 1829.0 & 1829.0 & 1829.0 & 1829.0 & 1829.0 & 1829.0 & 1829.0 & 1829.0 & 1829.0 & 1829.0 & 1829.0 & 1829.0 & 1829.0 & 1829.0 & 1829.0 & 1829.0 & 1829.0 & 1829.0 & 1829.0 & 1829.0 & 1829.0 & 1829.0 & 1829.0 & 1829.0 & 1829.0 & 1829.0 & 1829.0 & 1829.0 & 1829.0 & 1829.0 & 1829.0 & 1829.0 & 1829.0 & 1829.0 & 1829.0 & 1829.0 & 1829.0 & 1829.0 & 1829.0 & 1829.0 & 1829.0 & 1829.0 & 1829.0 & 1829.0 & 1829.0 & 1829.0 & 1829.0 & 1829.0 & 1829.0 & 1829.0 & 1829.0 & 1829.0 & 1829.0 & 1829.0 & 1829.0 & 1829.0 & 1829.0 & 1829.0 & 1829.0 & 1829.0 & 1829.0 & 1829.0 & 1829.0 & 1829.0 & 1829.0 & 1829.0 & 1829.0 & 1829.0 & 1829.0 & 1829.0 & 1829.0 & 1829.0 & 1829.0 & 1829.0 & 1829.0 & 1829.0 & 1829.0 & 1829.0 & 1829.0 & 1829.0 & 1829.0 & 1829.0 & 1829.0 & 1829.0 & 1829.0 & 1829.0 & 1829.0 & 1829.0 & 1829.0 & 1829.0 & 1829.0 & 1829.0 & 1829.0 & 1829.0 & 1829.0 & 1829.0 & 1829.0 & 1829.0 & 1829.0 & 1829.0 & 1829.0 & 1829.0\\end{pmatrix}\\ \\mathrm{meter}$"
      ],
      "text/plain": [
       "array([1829., 1829., 1829., 1829., 1829., 1829., 1829., 1829., 1829.,\n",
       "       1829., 1829., 1829., 1829., 1829., 1829., 1829., 1829., 1829.,\n",
       "       1829., 1829., 1829., 1829., 1829., 1829., 1829., 1829., 1829.,\n",
       "       1829., 1829., 1829., 1829., 1829., 1829., 1829., 1829., 1829.,\n",
       "       1829., 1829., 1829., 1829., 1829., 1829., 1829., 1829., 1829.,\n",
       "       1829., 1829., 1829., 1829., 1829., 1829., 1829., 1829., 1829.,\n",
       "       1829., 1829., 1829., 1829., 1829., 1829., 1829., 1829., 1829.,\n",
       "       1829., 1829., 1829., 1829., 1829., 1829., 1829., 1829., 1829.,\n",
       "       1829., 1829., 1829., 1829., 1829., 1829., 1829., 1829., 1829.,\n",
       "       1829., 1829., 1829., 1829., 1829., 1829., 1829., 1829., 1829.,\n",
       "       1829., 1829., 1829., 1829., 1829., 1829., 1829., 1829., 1829.,\n",
       "       1829., 1829., 1829., 1829., 1829., 1829., 1829., 1829., 1829.,\n",
       "       1829., 1829., 1829., 1829., 1829., 1829., 1829., 1829., 1829.,\n",
       "       1829., 1829., 1829., 1829., 1829., 1829., 1829., 1829., 1829.,\n",
       "       1829., 1829.]) <Unit('meter')>"
      ]
     },
     "execution_count": 137,
     "metadata": {},
     "output_type": "execute_result"
    }
   ],
   "source": [
    "gradTheta15 = np.gradient(Theta15[0:23]) # I set the bounds from 0 meters to just over 4,000 meters. This is the function for finding the gradient. I attempeted using Metpy's gradient function, but I was getting errors\n",
    "gradTheta15 # This prints the gradient of the Potential Temperature array\n",
    "largestTheta15 = np.argsort(gradTheta15)[-10:] # This gives us the position of the largest 10 largest gradients for the potential temperature array\n",
    "largestTheta15 # This prints the positions of the largest 10 largest gradients for the potential temperature array\n",
    "\n",
    "# The Theta[0:23] range of atmosphere positions are 2, 21, 14, 15,  6, 16, 17,  5,  4,  3\n",
    "\n",
    "\n",
    "gradRH15 = np.gradient(RH15[0:23]) # Bounds are set from 0 meters to just over 4,000 meters. This is the function for finding the gradient.\n",
    "gradRH15 # This prints the gradient of the Relative Humidity array\n",
    "smallestRH15 = np.argsort(gradRH15)[:10] # This sorts the Relative humidity gradient array from least to greatest and then picks the 10 smallest gradients of the array\n",
    "smallestRH15 # This line returns the positions of the 10 smallest gradients, or the first 10 gradients\n",
    "\n",
    "# The RH[0:23] range of atmosphere positions are 15, 16, 14,  4,  3, 17,  5,  6,  0, 18\n",
    "\n",
    "\n",
    "gradq15 = np.gradient(q15[0:23]) # Bounds are set from 0 meters to just over 4,000 meters. This is the function for finding the gradient.\n",
    "gradq15 # This prints the gradient of the Specific Humidity array\n",
    "smallestq15 = np.argsort(gradq15)[:10] # This sorts the Specific humidity gradient array from least to greatest and then picks the 10 smallest gradients of the array\n",
    "smallestq15 # This line returns the positions of the 10 smallest gradients, or the first 10 gradients\n",
    "\n",
    "# The q[0:23] range of atmosphere positions are 15, 16, 17, 11, 14, 12,  5, 10, 20, 18\n",
    "\n",
    "\n",
    "gradN15 = np.gradient(N15[0:23]) # Bounds are set from 0 meters to just over 4,000 meters. This is the function for finding the gradient.\n",
    "gradN15 # This prints the gradient of the Refractivity array\n",
    "smallestN15 = np.argsort(gradN15)[:10] # This sorts the Refractivity gradient array from least to greatest and then picks the 10 smallest gradients of the array\n",
    "smallestN15 # This line returns the positions of the 10 smallest gradients, or the first 10 gradients\n",
    "\n",
    "# The N[0:23] range of atmosphere positions are 11, 16, 15, 17, 21, 20, 14, 12,  5, 22\n",
    "\n",
    "#-----------------------------------------------------------------------------\n",
    "\n",
    "# I then want to print the height where at least three parameters had the same height when going in descending \n",
    "# order for potential temperature and ascending order for relative humidity, specific humidity and refractivity, \n",
    "# as that height is said to be the mixing layer height\n",
    "\n",
    "MLH15 = h15[16]\n",
    "MLH15 = np.ones(128)*MLH15\n",
    "MLH15"
   ]
  },
  {
   "cell_type": "markdown",
   "id": "612023b4",
   "metadata": {},
   "source": [
    "# Print the Row of the Mixing Layer Height. This will be useful for the Machine Learning tool for MLH forecast estimations. "
   ]
  },
  {
   "cell_type": "code",
   "execution_count": 138,
   "id": "bb6a49d8",
   "metadata": {
    "scrolled": false
   },
   "outputs": [
    {
     "data": {
      "text/plain": [
       "pressure                        824.7\n",
       "height                           1829\n",
       "temperature                      17.4\n",
       "dewpoint                          6.8\n",
       "direction                       300.0\n",
       "speed                             9.0\n",
       "u_wind                       7.794229\n",
       "v_wind                           -4.5\n",
       "station                           IAD\n",
       "station_number                  72403\n",
       "time              2021-07-06 12:00:00\n",
       "latitude                        38.98\n",
       "longitude                      -77.46\n",
       "elevation                        93.0\n",
       "pw                               36.3\n",
       "Name: 16, dtype: object"
      ]
     },
     "execution_count": 138,
     "metadata": {},
     "output_type": "execute_result"
    }
   ],
   "source": [
    "df15.loc[16]"
   ]
  },
  {
   "cell_type": "markdown",
   "id": "d222a2ed",
   "metadata": {},
   "source": [
    "## Plotting for July 6, 2021 at 12Z"
   ]
  },
  {
   "cell_type": "code",
   "execution_count": null,
   "id": "0299703b",
   "metadata": {},
   "outputs": [],
   "source": [
    "plt.plot(Theta15,h15, c=\"b\", label=\"Potential Temperature\")  ##Always after \"plt.plot\" is the x and y axis. So in this case it is Potential temperature (theta) and height data. Next, I change the color by using \"c=\". I then labeled the line using the \"label= \".\n",
    "plt.plot(Theta15,MLH15, c=\"black\", label=\"Mixing Layer Height\")\n",
    "plt.xlabel('Theta (K)')\n",
    "plt.xlim(np.amin(Theta15),314)\n",
    "plt.ylabel('Height (m)')\n",
    "plt.ylim(0,4000)\n",
    "plt.legend(loc=0)\n",
    "plt.title('Potential Temperature versus Height\\nSterling, VA - July 6, 2021 at 12 UTC')\n",
    "plt.grid(True) \n",
    "plt.savefig(\"0706202112ZPT.png\")"
   ]
  },
  {
   "cell_type": "code",
   "execution_count": null,
   "id": "8e0a258a",
   "metadata": {},
   "outputs": [],
   "source": [
    "plt.plot(RH15,h15, c=\"red\", label=\"Relative Humidity\")  ##Always after \"plt.plot\" is the x and y axis. So in this case it is Relative Humidity and height data. Next, I change the color by using \"c=\". I then labeled the line using the \"label= \".\n",
    "plt.plot(RH15,MLH15, c=\"black\", label=\"Mixing Layer Height\")\n",
    "plt.xlabel('Relative Humidity (%)')\n",
    "plt.xlim(31, np.amax(RH15))\n",
    "plt.ylabel('Height (m)')\n",
    "plt.ylim(0,4000)\n",
    "plt.legend(loc=0)\n",
    "plt.title('Relative Humidity versus Height\\nSterling, VA - July 6, 2021 at 12 UTC')\n",
    "plt.grid(True)\n",
    "plt.savefig(\"0706202112ZRH.png\")"
   ]
  },
  {
   "cell_type": "code",
   "execution_count": null,
   "id": "3550fdc9",
   "metadata": {},
   "outputs": [],
   "source": [
    "plt.plot(q15,h15, c=\"green\",label='Specific Humidity')  ##Always after \"plt.plot\" is the x and y axis. So in this case it is Specific Humidity (q) and height data. Next, I change the color by using \"c=\". I then labeled the line using the \"label= \".\n",
    "plt.plot(q15,MLH15, c=\"black\",label='Mixing Layer Height')\n",
    "plt.xlabel('q (g/kg)')\n",
    "plt.xlim(0.003,np.amax(q15))\n",
    "plt.ylabel('Height (m)')\n",
    "plt.ylim(0,4000)\n",
    "plt.legend(loc=0)\n",
    "plt.title('Specific Humidity versus Height\\nSterling, VA - July 6, 2021 at 12 UTC')\n",
    "plt.grid(True) \n",
    "plt.savefig(\"0706202112ZSH.png\")"
   ]
  },
  {
   "cell_type": "code",
   "execution_count": null,
   "id": "a2dd66a1",
   "metadata": {},
   "outputs": [],
   "source": [
    "plt.plot(N15,h15, c=\"brown\",label='Refractivity')  ##Always after \"plt.plot\" is the x and y axis. So in this case it is Refractivity (N) and height data. Next, I change the color by using \"c=\". I then labeled the line using the \"label= \".\n",
    "plt.plot(N15,MLH15, c=\"black\",label='Mixing Layer Height')\n",
    "plt.xlabel('N')\n",
    "plt.xlim(190,np.amax(N15))\n",
    "plt.ylabel('Height (m)')\n",
    "plt.ylim(0,4000)\n",
    "plt.legend(loc=0)\n",
    "plt.title('Refractivity versus Height\\nSterling, VA - July 6, 2021 at 12 UTC')\n",
    "plt.grid(True) \n",
    "plt.savefig(\"0706202112ZR.png\")"
   ]
  },
  {
   "cell_type": "markdown",
   "id": "76a5759e",
   "metadata": {},
   "source": [
    "df15.dtypes\n"
   ]
  },
  {
   "cell_type": "markdown",
   "id": "5e69e768",
   "metadata": {},
   "source": [
    "# This portion of the code is not necessary. This is the end of the MLH tool\n",
    "\n",
    "# Create figure and plot space\n",
    "fig, ax = plt.subplots(figsize=(10, 10))\n",
    "\n",
    "# Add x-axis and y-axis\n",
    "date = np.arange('2021-06-29', '2021-07-06', dtype='datetime64[D]')\n",
    "#JUL29_0UTCH = np.datetime64('2021-06-29')\n",
    "#heights0UTC = np.array([NaN,1979,NaN,NaN,2835,NaN,NaN,2743],dtype=float) * units(df.units['height'])\n",
    "\n",
    "ax.plot(date,date,color='blue')\n",
    "\n",
    "# Set title and labels for axes\n",
    "ax.set(xlabel=\"Date\",ylabel=\"Height (m)\",title=\"MLH vs Days for 0 UTC\\nSterling, Viginia, USA\")\n",
    "\n",
    "plt.show()\n",
    "heights0UTC\n",
    "date"
   ]
  },
  {
   "cell_type": "markdown",
   "id": "79d12e81",
   "metadata": {},
   "source": [
    "#heights0UTC = np.array([MLH2,MLH8,MLH14],dtype=float)\n",
    "#heights0UTC\n",
    "MLH2"
   ]
  },
  {
   "cell_type": "markdown",
   "id": "6207dfeb",
   "metadata": {},
   "source": [
    "# Create figure and plot space\n",
    "fig, ax = plt.subplots(figsize=(10, 10))\n",
    "\n",
    "# Add x-axis and y-axis\n",
    "date = np.arange('2021-06-29', '2021-07-06', dtype='datetime64[D]')\n",
    "\n",
    "\n",
    "#JUL29_0UTCH = np.datetime64('2021-06-29')\n",
    "#heights0UTC = np.array([MLH2,MLH8,MLH14],dtype=float)\n",
    "\n",
    "ax.plot(date,???????,color='blue')\n",
    "\n",
    "# Set title and labels for axes\n",
    "ax.set(xlabel=\"Date\",ylabel=\"Height (m)\",title=\"MLH vs Days for 12 UTC\\nSterling, Viginia, USA\")\n",
    "\n",
    "plt.show()"
   ]
  },
  {
   "cell_type": "markdown",
   "id": "fca35dab",
   "metadata": {},
   "source": [
    "# This is the end of the Code for estimating Mixing Layer Height for Dulles IAD Airport using data during June 29, 2021 through"
   ]
  }
 ],
 "metadata": {
  "kernelspec": {
   "display_name": "Python 3 (ipykernel)",
   "language": "python",
   "name": "python3"
  },
  "language_info": {
   "codemirror_mode": {
    "name": "ipython",
    "version": 3
   },
   "file_extension": ".py",
   "mimetype": "text/x-python",
   "name": "python",
   "nbconvert_exporter": "python",
   "pygments_lexer": "ipython3",
   "version": "3.8.10"
  }
 },
 "nbformat": 4,
 "nbformat_minor": 5
}
