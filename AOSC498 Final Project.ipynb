{
 "cells": [
  {
   "cell_type": "markdown",
   "id": "adbafa70",
   "metadata": {},
   "source": [
    "# AOSC498 FInal Project - Machine Learning tool to applied to Mixing Layer Height dataset"
   ]
  },
  {
   "cell_type": "markdown",
   "id": "8ed0f185",
   "metadata": {},
   "source": [
    "## Author: Rahim Kamara\n",
    "## Date: July 25, 2022"
   ]
  },
  {
   "cell_type": "markdown",
   "id": "9048c7ba",
   "metadata": {},
   "source": [
    "## Comments explaining the code are made after each line. I would like for everbody in the spectrum of experience of computer programming to understand and maybe find interest in continuing this project."
   ]
  },
  {
   "cell_type": "markdown",
   "id": "4f05bd3d",
   "metadata": {},
   "source": [
    "## Import Libraries. \n",
    "### Think of a library as a collection of resources. These resources can be used to learn patterns about data, like mixing layer height"
   ]
  },
  {
   "cell_type": "code",
   "execution_count": 3,
   "id": "85f4f770",
   "metadata": {},
   "outputs": [],
   "source": [
    "import pandas as pd\n",
    "import numpy as np\n",
    "from sklearn.model_selection import train_test_split\n",
    "from sklearn.preprocessing import StandardScaler\n",
    "from sklearn.tree import DecisionTreeRegressor\n",
    "from sklearn.ensemble import RandomForestRegressor\n",
    "from sklearn.metrics import mean_squared_error\n",
    "from sklearn.metrics import mean_absolute_error\n",
    "from math import sqrt\n"
   ]
  },
  {
   "cell_type": "markdown",
   "id": "fd2ae43b",
   "metadata": {},
   "source": [
    "## Read in Data"
   ]
  },
  {
   "cell_type": "code",
   "execution_count": 4,
   "id": "b4b1996c",
   "metadata": {},
   "outputs": [
    {
     "data": {
      "text/html": [
       "<div>\n",
       "<style scoped>\n",
       "    .dataframe tbody tr th:only-of-type {\n",
       "        vertical-align: middle;\n",
       "    }\n",
       "\n",
       "    .dataframe tbody tr th {\n",
       "        vertical-align: top;\n",
       "    }\n",
       "\n",
       "    .dataframe thead th {\n",
       "        text-align: right;\n",
       "    }\n",
       "</style>\n",
       "<table border=\"1\" class=\"dataframe\">\n",
       "  <thead>\n",
       "    <tr style=\"text-align: right;\">\n",
       "      <th></th>\n",
       "      <th>datehour</th>\n",
       "      <th>pressure</th>\n",
       "      <th>height</th>\n",
       "      <th>temperature</th>\n",
       "      <th>dewpoint</th>\n",
       "      <th>direction</th>\n",
       "      <th>speed</th>\n",
       "      <th>u_wind</th>\n",
       "      <th>v_wind</th>\n",
       "      <th>station_number</th>\n",
       "      <th>latitude</th>\n",
       "      <th>longitude</th>\n",
       "      <th>elevation</th>\n",
       "      <th>pw</th>\n",
       "    </tr>\n",
       "  </thead>\n",
       "  <tbody>\n",
       "    <tr>\n",
       "      <th>0</th>\n",
       "      <td>2021062912</td>\n",
       "      <td>801.4</td>\n",
       "      <td>2134</td>\n",
       "      <td>15.7</td>\n",
       "      <td>0.3</td>\n",
       "      <td>270.0</td>\n",
       "      <td>3.0</td>\n",
       "      <td>3.000000</td>\n",
       "      <td>0.000000</td>\n",
       "      <td>72403</td>\n",
       "      <td>38.98</td>\n",
       "      <td>-77.46</td>\n",
       "      <td>93.0</td>\n",
       "      <td>32.26</td>\n",
       "    </tr>\n",
       "    <tr>\n",
       "      <th>1</th>\n",
       "      <td>2021063000</td>\n",
       "      <td>814.0</td>\n",
       "      <td>1979</td>\n",
       "      <td>17.2</td>\n",
       "      <td>9.2</td>\n",
       "      <td>258.0</td>\n",
       "      <td>10.0</td>\n",
       "      <td>9.781476</td>\n",
       "      <td>2.079117</td>\n",
       "      <td>72403</td>\n",
       "      <td>38.98</td>\n",
       "      <td>-77.46</td>\n",
       "      <td>93.0</td>\n",
       "      <td>32.44</td>\n",
       "    </tr>\n",
       "    <tr>\n",
       "      <th>2</th>\n",
       "      <td>2021063012</td>\n",
       "      <td>989.0</td>\n",
       "      <td>263</td>\n",
       "      <td>26.6</td>\n",
       "      <td>16.6</td>\n",
       "      <td>271.0</td>\n",
       "      <td>7.0</td>\n",
       "      <td>6.998934</td>\n",
       "      <td>-0.122167</td>\n",
       "      <td>72403</td>\n",
       "      <td>38.98</td>\n",
       "      <td>-77.46</td>\n",
       "      <td>93.0</td>\n",
       "      <td>34.92</td>\n",
       "    </tr>\n",
       "    <tr>\n",
       "      <th>3</th>\n",
       "      <td>2021070100</td>\n",
       "      <td>1000.0</td>\n",
       "      <td>138</td>\n",
       "      <td>24.6</td>\n",
       "      <td>20.1</td>\n",
       "      <td>270.0</td>\n",
       "      <td>7.0</td>\n",
       "      <td>7.000000</td>\n",
       "      <td>0.000000</td>\n",
       "      <td>72403</td>\n",
       "      <td>38.98</td>\n",
       "      <td>-77.46</td>\n",
       "      <td>93.0</td>\n",
       "      <td>47.80</td>\n",
       "    </tr>\n",
       "    <tr>\n",
       "      <th>4</th>\n",
       "      <td>2021070212</td>\n",
       "      <td>998.0</td>\n",
       "      <td>93</td>\n",
       "      <td>20.8</td>\n",
       "      <td>19.8</td>\n",
       "      <td>200.0</td>\n",
       "      <td>3.0</td>\n",
       "      <td>1.026060</td>\n",
       "      <td>2.819078</td>\n",
       "      <td>72403</td>\n",
       "      <td>38.98</td>\n",
       "      <td>-77.46</td>\n",
       "      <td>93.0</td>\n",
       "      <td>40.44</td>\n",
       "    </tr>\n",
       "    <tr>\n",
       "      <th>5</th>\n",
       "      <td>2021070300</td>\n",
       "      <td>719.0</td>\n",
       "      <td>2835</td>\n",
       "      <td>0.6</td>\n",
       "      <td>-2.0</td>\n",
       "      <td>296.0</td>\n",
       "      <td>27.0</td>\n",
       "      <td>24.267439</td>\n",
       "      <td>-11.836021</td>\n",
       "      <td>72403</td>\n",
       "      <td>38.98</td>\n",
       "      <td>-77.46</td>\n",
       "      <td>93.0</td>\n",
       "      <td>19.46</td>\n",
       "    </tr>\n",
       "    <tr>\n",
       "      <th>6</th>\n",
       "      <td>2021070412</td>\n",
       "      <td>717.0</td>\n",
       "      <td>2891</td>\n",
       "      <td>2.2</td>\n",
       "      <td>-3.9</td>\n",
       "      <td>315.0</td>\n",
       "      <td>22.0</td>\n",
       "      <td>15.556349</td>\n",
       "      <td>-15.556349</td>\n",
       "      <td>72403</td>\n",
       "      <td>38.98</td>\n",
       "      <td>-77.46</td>\n",
       "      <td>93.0</td>\n",
       "      <td>22.39</td>\n",
       "    </tr>\n",
       "    <tr>\n",
       "      <th>7</th>\n",
       "      <td>2021070512</td>\n",
       "      <td>732.0</td>\n",
       "      <td>2788</td>\n",
       "      <td>5.4</td>\n",
       "      <td>-0.6</td>\n",
       "      <td>323.0</td>\n",
       "      <td>12.0</td>\n",
       "      <td>7.221780</td>\n",
       "      <td>-9.583626</td>\n",
       "      <td>72403</td>\n",
       "      <td>38.98</td>\n",
       "      <td>-77.46</td>\n",
       "      <td>93.0</td>\n",
       "      <td>27.06</td>\n",
       "    </tr>\n",
       "    <tr>\n",
       "      <th>8</th>\n",
       "      <td>2021070600</td>\n",
       "      <td>735.0</td>\n",
       "      <td>2793</td>\n",
       "      <td>12.4</td>\n",
       "      <td>-3.6</td>\n",
       "      <td>16.0</td>\n",
       "      <td>17.0</td>\n",
       "      <td>-4.685835</td>\n",
       "      <td>-16.341449</td>\n",
       "      <td>72403</td>\n",
       "      <td>38.98</td>\n",
       "      <td>-77.46</td>\n",
       "      <td>93.0</td>\n",
       "      <td>26.30</td>\n",
       "    </tr>\n",
       "    <tr>\n",
       "      <th>9</th>\n",
       "      <td>2021070612</td>\n",
       "      <td>824.7</td>\n",
       "      <td>1829</td>\n",
       "      <td>17.4</td>\n",
       "      <td>6.8</td>\n",
       "      <td>300.0</td>\n",
       "      <td>9.0</td>\n",
       "      <td>7.794229</td>\n",
       "      <td>-4.500000</td>\n",
       "      <td>72403</td>\n",
       "      <td>38.98</td>\n",
       "      <td>-77.46</td>\n",
       "      <td>93.0</td>\n",
       "      <td>36.30</td>\n",
       "    </tr>\n",
       "  </tbody>\n",
       "</table>\n",
       "</div>"
      ],
      "text/plain": [
       "     datehour  pressure  height  temperature  dewpoint  direction  speed  \\\n",
       "0  2021062912     801.4    2134         15.7       0.3      270.0    3.0   \n",
       "1  2021063000     814.0    1979         17.2       9.2      258.0   10.0   \n",
       "2  2021063012     989.0     263         26.6      16.6      271.0    7.0   \n",
       "3  2021070100    1000.0     138         24.6      20.1      270.0    7.0   \n",
       "4  2021070212     998.0      93         20.8      19.8      200.0    3.0   \n",
       "5  2021070300     719.0    2835          0.6      -2.0      296.0   27.0   \n",
       "6  2021070412     717.0    2891          2.2      -3.9      315.0   22.0   \n",
       "7  2021070512     732.0    2788          5.4      -0.6      323.0   12.0   \n",
       "8  2021070600     735.0    2793         12.4      -3.6       16.0   17.0   \n",
       "9  2021070612     824.7    1829         17.4       6.8      300.0    9.0   \n",
       "\n",
       "      u_wind     v_wind  station_number  latitude  longitude  elevation     pw  \n",
       "0   3.000000   0.000000           72403     38.98     -77.46       93.0  32.26  \n",
       "1   9.781476   2.079117           72403     38.98     -77.46       93.0  32.44  \n",
       "2   6.998934  -0.122167           72403     38.98     -77.46       93.0  34.92  \n",
       "3   7.000000   0.000000           72403     38.98     -77.46       93.0  47.80  \n",
       "4   1.026060   2.819078           72403     38.98     -77.46       93.0  40.44  \n",
       "5  24.267439 -11.836021           72403     38.98     -77.46       93.0  19.46  \n",
       "6  15.556349 -15.556349           72403     38.98     -77.46       93.0  22.39  \n",
       "7   7.221780  -9.583626           72403     38.98     -77.46       93.0  27.06  \n",
       "8  -4.685835 -16.341449           72403     38.98     -77.46       93.0  26.30  \n",
       "9   7.794229  -4.500000           72403     38.98     -77.46       93.0  36.30  "
      ]
     },
     "execution_count": 4,
     "metadata": {},
     "output_type": "execute_result"
    }
   ],
   "source": [
    "# This data was obtained from a previous project measuring mixing layer heights for Dulles, IAD during the period of June 29, 2021 to July 6, 2021\n",
    "# During this period, the mixing layer was either found or could not be determined using the method in the journal article by Wang, X. Y., & Wang, K. C. (2014) excluding the 1-2-1 smoother. If this project were to be continued, the 1-2-1 smoother should be applied to the data.\n",
    "# A total of 10 radiosonde profiles during this period exhibited a clear indicator of mixing layer height.\n",
    "df = pd.read_csv('mixinglayerheights_nbviewer_method.csv') # This line reads in the dataset.\n",
    "df # This line diplays the dataset\n",
    "# Reading from left to right, the dataset are columns are datehour(YearMonthDateUTCHour), pressure(hPa), height (meter), temperature (Celsius), dewpoint (Celsius), direction (degrees), speed (knot), u wind component (knot), v wind component (knot), Airport Station (number), latitude, longitude, elevation (feet), pw???"
   ]
  },
  {
   "cell_type": "code",
   "execution_count": 5,
   "id": "3a26f498",
   "metadata": {},
   "outputs": [],
   "source": [
    "#  df.head() # This line shows just the top 5 rows"
   ]
  },
  {
   "cell_type": "code",
   "execution_count": 6,
   "id": "fd205ce4",
   "metadata": {},
   "outputs": [
    {
     "data": {
      "text/plain": [
       "False"
      ]
     },
     "execution_count": 6,
     "metadata": {},
     "output_type": "execute_result"
    }
   ],
   "source": [
    "df.isnull().values.any() # This line checks if there are any null values within the code"
   ]
  },
  {
   "cell_type": "code",
   "execution_count": 7,
   "id": "09ccd1fe",
   "metadata": {
    "scrolled": true
   },
   "outputs": [],
   "source": [
    "# df.describe() # This line displays a summary of the data"
   ]
  },
  {
   "cell_type": "code",
   "execution_count": 8,
   "id": "6dcf250e",
   "metadata": {},
   "outputs": [],
   "source": [
    "X = df.drop([\"height\"], axis=1) # All columns except the height column will be used for training."
   ]
  },
  {
   "cell_type": "code",
   "execution_count": 9,
   "id": "51a4fd75",
   "metadata": {},
   "outputs": [],
   "source": [
    "y = df[\"height\"] # The height column will be used for test."
   ]
  },
  {
   "cell_type": "code",
   "execution_count": 10,
   "id": "19fc171a",
   "metadata": {},
   "outputs": [],
   "source": [
    "X_train, X_test, y_train, y_test = train_test_split(X, y, test_size=0.2, random_state=123) # This line specifies which features within the dataset are training and testing (splitting)"
   ]
  },
  {
   "cell_type": "code",
   "execution_count": 11,
   "id": "b7f85814",
   "metadata": {},
   "outputs": [
    {
     "data": {
      "text/plain": [
       "(8, 13)"
      ]
     },
     "execution_count": 11,
     "metadata": {},
     "output_type": "execute_result"
    }
   ],
   "source": [
    "X_train.shape # This line tells us the number of rows and columns for training."
   ]
  },
  {
   "cell_type": "code",
   "execution_count": 12,
   "id": "2e12fd25",
   "metadata": {},
   "outputs": [
    {
     "data": {
      "text/plain": [
       "(2, 13)"
      ]
     },
     "execution_count": 12,
     "metadata": {},
     "output_type": "execute_result"
    }
   ],
   "source": [
    "X_test.shape # This line tells us the number of rows and columns for testing."
   ]
  },
  {
   "cell_type": "code",
   "execution_count": 13,
   "id": "3a720890",
   "metadata": {},
   "outputs": [],
   "source": [
    "scaler = StandardScaler() # This line standardizes the data so that all the columns have a mean value of zero and a standard deviation of 1."
   ]
  },
  {
   "cell_type": "code",
   "execution_count": 14,
   "id": "e6acf718",
   "metadata": {},
   "outputs": [],
   "source": [
    "train_scaled = scaler.fit_transform(X_train) # This line applies a fit and transform on the input samples and returns a new array"
   ]
  },
  {
   "cell_type": "code",
   "execution_count": 15,
   "id": "6a1e9ff5",
   "metadata": {},
   "outputs": [],
   "source": [
    "test_scaled = scaler.transform(X_test) # Since the input variables have different units (scales), we transform them to decrease the difficulty of the problem being modeled, and increase the performance during the learning "
   ]
  },
  {
   "cell_type": "code",
   "execution_count": 16,
   "id": "726fc3f4",
   "metadata": {},
   "outputs": [],
   "source": [
    "tree_model = DecisionTreeRegressor() # Decision tree is a model this is used to learn how to split the data into different branches for non-linear relationship, like temperature versus altitude.\n",
    "rf_model = RandomForestRegressor() # Random forest is a model that uses a bunch of decision trees to gather their outputs to determine the best solution"
   ]
  },
  {
   "cell_type": "code",
   "execution_count": 17,
   "id": "f2fcbd7e",
   "metadata": {},
   "outputs": [
    {
     "data": {
      "text/plain": [
       "RandomForestRegressor()"
      ]
     },
     "execution_count": 17,
     "metadata": {},
     "output_type": "execute_result"
    }
   ],
   "source": [
    "tree_model.fit(train_scaled, y_train) # We then train the model using the scaled input variables (datehour, air pressure pressure, temperature, etc.) and the scaled output variable (altitude).\n",
    "rf_model.fit(train_scaled, y_train) # We then train the model using the scaled input variables (datehour, air pressure, temperature, etc.) and the scaled output variable (altitude)"
   ]
  },
  {
   "cell_type": "code",
   "execution_count": 22,
   "id": "78831024",
   "metadata": {},
   "outputs": [],
   "source": [
    "tree_train_mse = mean_squared_error(y_train, tree_model.predict(train_scaled)) # We then want to calculate the mean (average) squared error regression loss for the decision tree training model. The error tells us how close a set of points are above or below a regression line. The error values are then square to remove negative values. For the same regression line, more weight is given to error values of larger distances. When then take the average of these error values to get the mean squared error (mse). The lower the mse, the better the forecast\n",
    "tree_train_mae = mean_absolute_error(y_train, tree_model.predict(train_scaled)) # We then want to calculate the mean (average) absolute error (mae) for the decision tree training model. Error values are all made positive through an absolute. These errors are then summed and averaged. We want to keep this value within a bracket for accurate forecasting. This is useful for comparing year by year results\n",
    "rf_train_mse = mean_squared_error(y_train, rf_model.predict(train_scaled)) # We then want to calculate the mean squared error regression loss for the random forest training model. The error tells us how close a set of points are above or below a regression line. The error values are then square to remove negative values. For the same regression line, more weight is given to values of larger distances. When then take the average of these error values to get the mean squared error (mse). The lower the mse, the better the forecast\n",
    "rf_train_mae = mean_absolute_error(y_train, rf_model.predict(train_scaled)) # We then want to calculate the mean (average) absolute error (mae) for the random forest training model. Error values are all made positive through an absolute. These errors are then summed and averaged. We want to keep this value within a bracket for accurate forcasting. This is useful for comparing year by year results"
   ]
  },
  {
   "cell_type": "markdown",
   "id": "977578ef",
   "metadata": {},
   "source": [
    "## Decision Tree and Random Forest Training Results"
   ]
  },
  {
   "cell_type": "code",
   "execution_count": 19,
   "id": "07bdb55f",
   "metadata": {},
   "outputs": [
    {
     "name": "stdout",
     "output_type": "stream",
     "text": [
      "Decision Tree training mse =  0.0  & mae =  0.0  & rmse =  0.0\n",
      "Random Forest training mse =  34440.635162499995  & mae =  141.44875000000002  & rmse =  185.58188263540166\n"
     ]
    }
   ],
   "source": [
    "print(\"Decision Tree training mse = \",tree_train_mse,\" & mae = \",tree_train_mae,\" & rmse = \", sqrt(tree_train_mse)) # This line shows the results below of the decision tree training mean squared error, mean absolute error, and root mean squared error\n",
    "print(\"Random Forest training mse = \",rf_train_mse,\" & mae = \",rf_train_mae,\" & rmse = \", sqrt(rf_train_mse)) # This line prints the results below of the random forest training mean squared error, mean absolute error, and root mean squared error"
   ]
  },
  {
   "cell_type": "markdown",
   "id": "4e5f349c",
   "metadata": {},
   "source": [
    "## The decision tree training data has near perfect prediction. The random forest training data had predictions that were not accurate"
   ]
  },
  {
   "cell_type": "code",
   "execution_count": 20,
   "id": "293b754c",
   "metadata": {},
   "outputs": [],
   "source": [
    "tree_test_mse = mean_squared_error(y_test, tree_model.predict(test_scaled)) # We then want to calculate the mean (average) squared error regression loss for the decision tree testing model. The error tells us how close a set of points are above or below a regression line. The error values are then square to remove negative values. For the same regression line, more weight is given to error values of larger distances. When then take the average of these error values to get the mean squared error (mse). The lower the mse, the better the forecast\n",
    "tree_test_mae = mean_absolute_error(y_test, tree_model.predict(test_scaled)) # We then want to calculate the mean (average) absolute error (mae) for the decision tree testing model. Error values are all made positive through an absolute. These errors are then summed and averaged. We want to keep this value within a bracket for accurate forecasting. This is useful for comparing year by year results \n",
    "rf_test_mse = mean_squared_error(y_test, rf_model.predict(test_scaled)) # We then want to calculate the mean squared error regression loss for the random forest testing model. The error tells us how close a set of points are above or below a regression line. The error values are then square to remove negative values. For the same regression line, more weight is given to values of larger distances. When then take the average of these error values to get the mean squared error (mse). The lower the mse, the better the forecast\n",
    "rf_test_mae = mean_absolute_error(y_test, rf_model.predict(test_scaled)) # We then want to calculate the mean (average) absolute error (mae) for the random forest testing model. Error values are all made positive through an absolute. These errors are then summed and averaged. We want to keep this value within a bracket for accurate forcasting. This is useful for comparing year by year results"
   ]
  },
  {
   "cell_type": "markdown",
   "id": "f598d8d6",
   "metadata": {},
   "source": [
    "## Decision Tree and Random Forest Testing Results"
   ]
  },
  {
   "cell_type": "code",
   "execution_count": 21,
   "id": "18beeba0",
   "metadata": {},
   "outputs": [
    {
     "name": "stdout",
     "output_type": "stream",
     "text": [
      "Decision Tree testing mse =  1764770.5  & mae =  1020.5  & rmse =  1328.446649286301\n",
      "Random Forest testing mse =  396043.72265000007  & mae =  628.9250000000001  & rmse =  629.3200478691268\n"
     ]
    }
   ],
   "source": [
    "print(\"Decision Tree testing mse = \",tree_test_mse,\" & mae = \",tree_test_mae,\" & rmse = \", sqrt(tree_test_mse)) # This line shows the results below of the decision tree testing mean squared error, mean absolute error, and root mean squared error\n",
    "print(\"Random Forest testing mse = \",rf_test_mse,\" & mae = \",rf_test_mae,\" & rmse = \", sqrt(rf_test_mse)) # This line prints the results below of the random forest testing mean squared error, mean absolute error, and root mean squared error"
   ]
  },
  {
   "cell_type": "markdown",
   "id": "ce4515d5",
   "metadata": {},
   "source": [
    "## The random forest testing data is displaying even worse predictions than the training data."
   ]
  },
  {
   "cell_type": "markdown",
   "id": "49223a58",
   "metadata": {},
   "source": [
    "## Discussion"
   ]
  },
  {
   "cell_type": "markdown",
   "id": "38642fdd",
   "metadata": {},
   "source": [
    "## Both the decision tree and random forest testing sets display large errors measured by the mean squared error, mean absolute error, and root mean square error. Something to consider if this project were to be continued is using this tool during different time regimes. For example, the mixing layer height is commonly found at lower altitudes during the night and heigher altitudes during the day. We could instead separate the datasets into these 0 UTC and 12 UTC. This might improve the accuracy of the model. Again, a 1-2-1 smoother should be applied to the data initially collected by rawinsonde. I attempted to create a tool that would predict the mixing layer height days in advance, but as this task has the word in it, it was too advanced for me to do. This project has further piqued my interest in computer sciences as I see that it can provide such great wealth in our understand of the natural world."
   ]
  },
  {
   "cell_type": "markdown",
   "id": "972412fa",
   "metadata": {},
   "source": [
    "## Acknowledgements\n",
    "\n",
    "### I would like to thank GitHub user srnghn for their template on machine learning using decision tree and random forest models. Their comments on the script made it really helpful in understanding a topic that is novel to me. I would like to thank Dr. Ruben Delgado for being an amazing research mentor and suggesting this topic. This was probably the most mentally challenging task that I have taken on so far, and I have come around to loving it! There has no growth without strain. I would like to thank Dr. Timothy Canty for being understaning of my situation and teaching his students very well! I would like to thank Dr. Alexandra Jones for taking a risk on me and sharing her abundance of resources, allowing me to be where I am at currently. I would like to thank AOSC students for being an amazing support group.\n",
    "\n",
    "### I deeply thank NCAS-M for providing monthly workshops with professionals aligned with NOAA’s mission, funding for conferences, and education support. I would like to thank Dr. Xin-Zhong Liang for being my NCAS-M mentor and teaching the importance of having curiousity. I wish I would have sheded the fear of being surrounded by established scientists so that I could ask more questions. \n",
    "\n",
    "### I would like to thank my family for raising me and teaching me well. Finally, I would like to thank Kaya for inspiring me to take a chance and risk with life in order to see tomorrow."
   ]
  }
 ],
 "metadata": {
  "kernelspec": {
   "display_name": "Python 3 (ipykernel)",
   "language": "python",
   "name": "python3"
  },
  "language_info": {
   "codemirror_mode": {
    "name": "ipython",
    "version": 3
   },
   "file_extension": ".py",
   "mimetype": "text/x-python",
   "name": "python",
   "nbconvert_exporter": "python",
   "pygments_lexer": "ipython3",
   "version": "3.8.10"
  }
 },
 "nbformat": 4,
 "nbformat_minor": 5
}
